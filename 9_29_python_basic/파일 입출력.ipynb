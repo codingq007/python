{
 "cells": [
  {
   "cell_type": "markdown",
   "id": "3a76b5a3",
   "metadata": {},
   "source": [
    "### 파일 읽기, 쓰기\n",
    "- 읽기 모드 : r\n",
    "- 쓰기 모드 : w(파일존재하면 덮어쓰기, 파일없으면 새로 생성)\n",
    "- 추가 모드 : a(파일이 없으면 새로 생성, 파일이 있으면 값을 추가)\n",
    "\n",
    "- path 구분 : 상대경로('../' :이전 디렉토리 , './': 현재 디렉토리), 절대경로('C:\\Users\\abc\\')  "
   ]
  },
  {
   "cell_type": "code",
   "execution_count": 1,
   "id": "d23e876d",
   "metadata": {},
   "outputs": [
    {
     "name": "stdout",
     "output_type": "stream",
     "text": [
      "Lorem Ipsum is simply dummy text of \n",
      "the printing and typesetting industry.\n",
      "Lorem Ipsum has been the industry's standard\n",
      "dummy text ever since the 1500s, \n",
      "when an unknown printer took a galley of\n",
      "type and scrambled it to make a type specimen book. \n"
     ]
    }
   ],
   "source": [
    "# 파일 읽기\n",
    "f = open('./test.txt', 'r')\n",
    "contents = f.read()\n",
    "print(contents)\n",
    "f.close()"
   ]
  },
  {
   "cell_type": "code",
   "execution_count": 7,
   "id": "8ea5934e",
   "metadata": {},
   "outputs": [
    {
     "name": "stdout",
     "output_type": "stream",
     "text": [
      "Lorem Ipsum is simply dummy text of \n",
      "the printing and typesetting industry.\n",
      "Lorem Ipsum has been the industry's standard\n",
      "dummy text ever since the 1500s, \n",
      "when an unknown printer took a galley of\n",
      "type and scrambled it to make a type specimen book. \n",
      "<class 'str'>\n",
      "['L', 'o', 'r', 'e', 'm', ' ', 'I', 'p', 's', 'u', 'm', ' ', 'i', 's', ' ', 's', 'i', 'm', 'p', 'l', 'y', ' ', 'd', 'u', 'm', 'm', 'y', ' ', 't', 'e', 'x', 't', ' ', 'o', 'f', ' ', '\\n', 't', 'h', 'e', ' ', 'p', 'r', 'i', 'n', 't', 'i', 'n', 'g', ' ', 'a', 'n', 'd', ' ', 't', 'y', 'p', 'e', 's', 'e', 't', 't', 'i', 'n', 'g', ' ', 'i', 'n', 'd', 'u', 's', 't', 'r', 'y', '.', '\\n', 'L', 'o', 'r', 'e', 'm', ' ', 'I', 'p', 's', 'u', 'm', ' ', 'h', 'a', 's', ' ', 'b', 'e', 'e', 'n', ' ', 't', 'h', 'e', ' ', 'i', 'n', 'd', 'u', 's', 't', 'r', 'y', \"'\", 's', ' ', 's', 't', 'a', 'n', 'd', 'a', 'r', 'd', '\\n', 'd', 'u', 'm', 'm', 'y', ' ', 't', 'e', 'x', 't', ' ', 'e', 'v', 'e', 'r', ' ', 's', 'i', 'n', 'c', 'e', ' ', 't', 'h', 'e', ' ', '1', '5', '0', '0', 's', ',', ' ', '\\n', 'w', 'h', 'e', 'n', ' ', 'a', 'n', ' ', 'u', 'n', 'k', 'n', 'o', 'w', 'n', ' ', 'p', 'r', 'i', 'n', 't', 'e', 'r', ' ', 't', 'o', 'o', 'k', ' ', 'a', ' ', 'g', 'a', 'l', 'l', 'e', 'y', ' ', 'o', 'f', '\\n', 't', 'y', 'p', 'e', ' ', 'a', 'n', 'd', ' ', 's', 'c', 'r', 'a', 'm', 'b', 'l', 'e', 'd', ' ', 'i', 't', ' ', 't', 'o', ' ', 'm', 'a', 'k', 'e', ' ', 'a', ' ', 't', 'y', 'p', 'e', ' ', 's', 'p', 'e', 'c', 'i', 'm', 'e', 'n', ' ', 'b', 'o', 'o', 'k', '.', ' ']\n"
     ]
    }
   ],
   "source": [
    "# close() 사용하지 않고 파일 객체를 사용하는 방법\n",
    "with open('./test.txt', 'r') as f:\n",
    "    contents = f.read() # read() : 전체 내용을 읽기, read(10) : 10글자 읽기\n",
    "    print(contents)\n",
    "    print(type(contents))\n",
    "    print(list(contents))"
   ]
  },
  {
   "cell_type": "code",
   "execution_count": 8,
   "id": "029a63b4",
   "metadata": {
    "scrolled": false
   },
   "outputs": [
    {
     "name": "stdout",
     "output_type": "stream",
     "text": [
      "Lorem Ipsum is simply dummy text of\n",
      "the printing and typesetting industry.\n",
      "Lorem Ipsum has been the industry's standard\n",
      "dummy text ever since the 1500s,\n",
      "when an unknown printer took a galley of\n",
      "type and scrambled it to make a type specimen book.\n"
     ]
    }
   ],
   "source": [
    "with open('./test.txt', 'r') as f:\n",
    "    for c in f:\n",
    "#         print(c)\n",
    "\n",
    "#         strip()은 왼쪽, 오른쪽 공백을 모두 제거, \n",
    "#         lstrip():왼쪽공백제거, rstrip():오른쪽 공백제거\n",
    "        print(c.strip()) "
   ]
  },
  {
   "cell_type": "code",
   "execution_count": 10,
   "id": "b6f49571",
   "metadata": {},
   "outputs": [
    {
     "name": "stdout",
     "output_type": "stream",
     "text": [
      "손흥민/20/박지성/30/김길동/40\n"
     ]
    }
   ],
   "source": [
    "with open('./list.txt', 'r', encoding='utf8') as f:\n",
    "    contents = f.read()\n",
    "    print(contents)"
   ]
  },
  {
   "cell_type": "code",
   "execution_count": 11,
   "id": "11b64fcb",
   "metadata": {},
   "outputs": [
    {
     "name": "stdout",
     "output_type": "stream",
     "text": [
      "['손흥민', '20', '박지성', '30', '김길동', '40']\n"
     ]
    }
   ],
   "source": [
    "# 문제> 위의 list.txt 파일을 읽어 다음과 같이 출력하세요\n",
    "# ['손흥민', '20', '박지성', '30', '김말똥', '40'] \n",
    "\n",
    "with open('./list.txt', 'r', encoding='utf8') as f:\n",
    "    contents = f.read()\n",
    "    print(contents.split('/'))"
   ]
  },
  {
   "cell_type": "code",
   "execution_count": 16,
   "id": "1c12e790",
   "metadata": {},
   "outputs": [
    {
     "name": "stdout",
     "output_type": "stream",
     "text": [
      "Lorem Ipsum is simply dummy text of \n",
      "the printing and typesetting industry.\n",
      "Lorem Ipsum has been the industry's standard\n",
      "dummy text ever since the 1500s, \n",
      "when an unknown printer took a galley of\n",
      "type and scrambled it to make a type specimen book. "
     ]
    }
   ],
   "source": [
    "# readline : 한줄씩 읽기, readline(문자수) : 문자수 만큼 읽기\n",
    "with open('./test.txt', 'r') as f:\n",
    "    line = f.readline()\n",
    "#     print(line)\n",
    "\n",
    "    while line:\n",
    "        print(line, end='')\n",
    "        line = f.readline()"
   ]
  },
  {
   "cell_type": "code",
   "execution_count": 1,
   "id": "dc05d40b",
   "metadata": {},
   "outputs": [
    {
     "name": "stdout",
     "output_type": "stream",
     "text": [
      "['Lorem Ipsum is simply dummy text of \\n', 'the printing and typesetting industry.\\n', \"Lorem Ipsum has been the industry's standard\\n\", 'dummy text ever since the 1500s, \\n', 'when an unknown printer took a galley of\\n', 'type and scrambled it to make a type specimen book. ']\n",
      "------------------\n",
      "Lorem Ipsum is simply dummy text of \n",
      "@@@@the printing and typesetting industry.\n",
      "@@@@Lorem Ipsum has been the industry's standard\n",
      "@@@@dummy text ever since the 1500s, \n",
      "@@@@when an unknown printer took a galley of\n",
      "@@@@type and scrambled it to make a type specimen book. @@@@"
     ]
    }
   ],
   "source": [
    "# readlines() : 전체를 읽은 후 라인 단위 리스트로 저장\n",
    "with open('./test.txt', 'r') as f:\n",
    "    contents = f.readlines()\n",
    "    \n",
    "    print(contents)\n",
    "\n",
    "    print('------------------')\n",
    "    for c in contents:\n",
    "        print(c, end='@@@@')      \n"
   ]
  },
  {
   "cell_type": "code",
   "execution_count": 2,
   "id": "f524b4b7",
   "metadata": {},
   "outputs": [
    {
     "name": "stdout",
     "output_type": "stream",
     "text": [
      "['Lorem Ipsum is simply dummy text of \\n', 'the printing and typesetting industry.\\n', \"Lorem Ipsum has been the industry's standard\\n\", 'dummy text ever since the 1500s, \\n', 'when an unknown printer took a galley of\\n', 'type and scrambled it to make a type specimen book. ']\n"
     ]
    }
   ],
   "source": [
    "with open('./test.txt', 'r') as f:\n",
    "    str = []\n",
    "    for line in f:\n",
    "        str.append(line)\n",
    "        \n",
    "    print(str)\n",
    "        "
   ]
  },
  {
   "cell_type": "code",
   "execution_count": 4,
   "id": "7e8c1ae0",
   "metadata": {},
   "outputs": [],
   "source": [
    "# 파일 쓰기\n",
    "with open('./test_write.txt', 'w') as f:\n",
    "    f.write('goodbye!!! \\n')"
   ]
  },
  {
   "cell_type": "code",
   "execution_count": 6,
   "id": "a976d0a1",
   "metadata": {},
   "outputs": [],
   "source": [
    "with open('./test_write.txt', 'a') as f:\n",
    "    f.write('test!!! \\n')"
   ]
  },
  {
   "cell_type": "code",
   "execution_count": 8,
   "id": "b615184c",
   "metadata": {},
   "outputs": [],
   "source": [
    "with open('./test_write2.txt', 'a') as f:\n",
    "    f.write('test!!! \\n')"
   ]
  },
  {
   "cell_type": "code",
   "execution_count": 5,
   "id": "d0456d9c",
   "metadata": {},
   "outputs": [
    {
     "name": "stdout",
     "output_type": "stream",
     "text": [
      "\n"
     ]
    }
   ],
   "source": [
    "from random import randint\n",
    "\n",
    "# print(randint(1, 45))\n",
    "\n",
    "# 로또 번호 파일에 쓰기\n",
    "with open('./lotto.txt', 'a') as f:\n",
    "    for cnt in range(6):\n",
    "        f.write(str(randint(1,45)))\n",
    "        f.write(' ')"
   ]
  },
  {
   "cell_type": "code",
   "execution_count": 6,
   "id": "6d10e943",
   "metadata": {},
   "outputs": [],
   "source": [
    "# writelines: 리스트 => 파일로 저장\n",
    "with open('./test_write3.txt', 'a') as f:\n",
    "    list = ['Kim\\n', 'Park\\n', 'Lee\\n']\n",
    "    f.writelines(list)"
   ]
  },
  {
   "cell_type": "code",
   "execution_count": 7,
   "id": "f2d200a6",
   "metadata": {},
   "outputs": [],
   "source": [
    "with open('./test_write4.txt', 'w') as f:\n",
    "    print('Test Contents!!', file = f)\n",
    "    print('Test Contents 22222!!', file = f)"
   ]
  }
 ],
 "metadata": {
  "kernelspec": {
   "display_name": "Python 3 (ipykernel)",
   "language": "python",
   "name": "python3"
  },
  "language_info": {
   "codemirror_mode": {
    "name": "ipython",
    "version": 3
   },
   "file_extension": ".py",
   "mimetype": "text/x-python",
   "name": "python",
   "nbconvert_exporter": "python",
   "pygments_lexer": "ipython3",
   "version": "3.9.7"
  }
 },
 "nbformat": 4,
 "nbformat_minor": 5
}
