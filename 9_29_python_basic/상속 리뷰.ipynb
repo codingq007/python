{
 "cells": [
  {
   "cell_type": "code",
   "execution_count": 3,
   "id": "0efb86c8",
   "metadata": {},
   "outputs": [],
   "source": [
    "def test2():\n",
    "    pass"
   ]
  },
  {
   "cell_type": "code",
   "execution_count": 5,
   "id": "39644229",
   "metadata": {},
   "outputs": [],
   "source": [
    "class Person:\n",
    "    pass"
   ]
  },
  {
   "cell_type": "code",
   "execution_count": 1,
   "id": "07dcab61",
   "metadata": {},
   "outputs": [
    {
     "name": "stdout",
     "output_type": "stream",
     "text": [
      "sing a song\n"
     ]
    }
   ],
   "source": [
    "class Parent:\n",
    "    def singing(self):\n",
    "        print('sing a song')\n",
    "        \n",
    "father = Parent()\n",
    "father.singing()"
   ]
  },
  {
   "cell_type": "code",
   "execution_count": 6,
   "id": "f39761b8",
   "metadata": {},
   "outputs": [
    {
     "name": "stdout",
     "output_type": "stream",
     "text": [
      "sing a song\n"
     ]
    }
   ],
   "source": [
    "class Child(Parent):\n",
    "    pass\n",
    "\n",
    "child = Child()\n",
    "child.singing()"
   ]
  },
  {
   "cell_type": "code",
   "execution_count": null,
   "id": "6d1be963",
   "metadata": {},
   "outputs": [],
   "source": [
    "# 문제> 다음과 같은 Person 클래스를 정의하세요.\n",
    "# 속성 : name, age\n",
    "# 메소드(함수) : eat        --> 아무개는 치킨을 먹습니다.\n",
    "#               sleep      --> 아무개는 10분 동안 잠을 잡니다.\n",
    "#               work       --> 아무개는 200분 동안 일을 합니다.\n",
    "\n",
    "# 위에서 정의한 Person 클래스를 상속 받는 Student, Employee 클래스를 만들어 보세요."
   ]
  },
  {
   "cell_type": "markdown",
   "id": "f815428c",
   "metadata": {},
   "source": [
    "### 상속은 의미적으로 is - a 관계\n",
    "- Student is a Person\n",
    "- Employee is a Person"
   ]
  },
  {
   "cell_type": "code",
   "execution_count": 12,
   "id": "fdc720f0",
   "metadata": {
    "scrolled": true
   },
   "outputs": [
    {
     "name": "stdout",
     "output_type": "stream",
     "text": [
      "홍길북는(은) 우유를 먹습니다..\n",
      "홍길북는(은) 60동안 잡니다..\n",
      "홍길북는(은) 240동안 일합니다..\n",
      "\n",
      "홍길남는(은) 빵를 먹습니다..\n",
      "홍길남는(은) 300동안 잡니다..\n",
      "홍길남는(은) 480동안 일합니다..\n"
     ]
    }
   ],
   "source": [
    "class Person:\n",
    "    def __init__(self, name, age):\n",
    "        self.name = name\n",
    "        self.age = age\n",
    "        \n",
    "    def eat(self, food):\n",
    "        print(f'{self.name}는(은) {food}를 먹습니다..')\n",
    "        \n",
    "    def sleep(self, minute):\n",
    "        print(f'{self.name}는(은) {minute}동안 잡니다..')\n",
    "    \n",
    "    def work(self, minute):\n",
    "        print(f'{self.name}는(은) {minute}동안 일합니다..')\n",
    "        \n",
    "class Student(Person):\n",
    "    pass\n",
    "\n",
    "class Employee(Person):\n",
    "    pass\n",
    "\n",
    "student1 = Student('홍길북', 25)\n",
    "student1.eat('우유')\n",
    "student1.sleep('60')\n",
    "student1.work('240')\n",
    "print()        \n",
    "emp1 = Employee('홍길남', 30)\n",
    "emp1.eat('빵')\n",
    "emp1.sleep('300')\n",
    "emp1.work('480')"
   ]
  },
  {
   "cell_type": "markdown",
   "id": "decbcc85",
   "metadata": {},
   "source": [
    "### 메소드(method) 오버라이드(Override)\n",
    "- 부모클래스의 method를 재정의(override)"
   ]
  },
  {
   "cell_type": "code",
   "execution_count": 16,
   "id": "35f7bc6f",
   "metadata": {},
   "outputs": [
    {
     "name": "stdout",
     "output_type": "stream",
     "text": [
      "김말똥은 120동안 공부합니다.\n",
      "김말똥는(은) 빵를 먹습니다..\n",
      "김말똥는(은) 120동안 잡니다..\n",
      "이말똥은 300동안 사무를 봅니다.\n"
     ]
    }
   ],
   "source": [
    "# work()를 호출시 Student 객체는 \" 동안 공부를 합니다..\"로 오버라이딩 하세요.\n",
    "# work()를 호출시 Employee 객체는 \" 동안 사무를 봅니다..\"로 오버라이딩 하세요.\n",
    "\n",
    "class Student(Person):\n",
    "    def work(self, minute):\n",
    "        print(f'{self.name}은 {minute}동안 공부합니다.')\n",
    "\n",
    "kim = Student('김말똥', 24)        \n",
    "kim.work(120)\n",
    "kim.eat('빵')\n",
    "kim.sleep(120)\n",
    "\n",
    "class Employee(Person):\n",
    "    def work(self, minute):\n",
    "        print(f'{self.name}은 {minute}동안 사무를 봅니다.')\n",
    "        \n",
    "emp1 = Employee('이말똥', 30)\n",
    "emp1.work(300)\n"
   ]
  },
  {
   "cell_type": "markdown",
   "id": "1c7457da",
   "metadata": {},
   "source": [
    "### super\n",
    "- 하위 클래스(자식 클래스)에서 부모클래스의 method를 호출할 때 사용"
   ]
  },
  {
   "cell_type": "code",
   "execution_count": 17,
   "id": "20dec205",
   "metadata": {},
   "outputs": [],
   "source": [
    "# 학생의 경우 이름, 나이, 학번(stu_num)이 필요하다고 가정하고\n",
    "# 학번을 포함한 Student 객체를 생성하시오. super 사용, \n",
    "# 학번을 출력하세요"
   ]
  },
  {
   "cell_type": "code",
   "execution_count": 18,
   "id": "46bb301e",
   "metadata": {},
   "outputs": [
    {
     "data": {
      "text/plain": [
       "202022"
      ]
     },
     "execution_count": 18,
     "metadata": {},
     "output_type": "execute_result"
    }
   ],
   "source": [
    "class Student(Person):\n",
    "    def __init__(self, name, age, stu_num):\n",
    "        super().__init__(name, age)\n",
    "        self.stu_num = stu_num\n",
    "        \n",
    "kim = Student('김말똥', 21, 202022)\n",
    "kim.stu_num"
   ]
  },
  {
   "cell_type": "code",
   "execution_count": 19,
   "id": "e8adcd91",
   "metadata": {},
   "outputs": [
    {
     "name": "stdout",
     "output_type": "stream",
     "text": [
      "강길동는(은) 30동안 일합니다..\n",
      "그리고 30분 동안 공부도 합니다.\n"
     ]
    }
   ],
   "source": [
    "# 문제> Student가 아르바이트를 하는 경우\n",
    "#      일도 하고 공부도 하는 Student 객체를 만들어 보세요.\n",
    "\n",
    "\n",
    "# work()를 호출시 \n",
    "# super를 사용해서\n",
    "#예> \"아무개는 30분동안 일을 합니다..\"\n",
    "#    \"그리고 30분 동안 공부도 합니다.\" \n",
    "\n",
    "class Student(Person):\n",
    "    \n",
    "    # 메소드 오버라이딩\n",
    "    def work(self, minute):\n",
    "        super().work(minute)\n",
    "        print(f'그리고 {minute}분 동안 공부도 합니다.')\n",
    "        \n",
    "kang = Student('강길동', 20)        \n",
    "kang.work(30)\n"
   ]
  },
  {
   "cell_type": "code",
   "execution_count": 26,
   "id": "6794b2aa",
   "metadata": {},
   "outputs": [
    {
     "name": "stdout",
     "output_type": "stream",
     "text": [
      "제조사 :galaxy-s20,  제품상세 :{'color': 'silver', 'price': 1000000}\n",
      "galaxy-s20\n",
      "silver\n",
      "1000000\n"
     ]
    }
   ],
   "source": [
    "# 문제>  Phone 객체를 만들어서\n",
    "# Phone 객체를 상속받는 SmartPhone 객체를 만드세요.\n",
    "\n",
    "# Phone 객체의 속성\n",
    "# maker, price, color\n",
    "# 메소드는 phone_info --> 제조사, 컬러, 가격을 출력해준다.\n",
    "\n",
    "class Phone:\n",
    "    '''Phone class'''\n",
    "#     def __init__(self, maker, color, price):\n",
    "#         self.maker = maker\n",
    "#         self.color = color\n",
    "#         self.price = price\n",
    "\n",
    "    def __init__(self, maker, details):\n",
    "        self.maker = maker\n",
    "        self.details = details\n",
    "        \n",
    "    def phone_info(self):\n",
    "#         print('제조사 :', self.maker, ' 컬러 :', self.color, ' 가격 :',self.price)\n",
    "        print(f'제조사 :{self.maker},  제품상세 :{self.details}')\n",
    "        \n",
    "        \n",
    "class SmartPhone(Phone):\n",
    "    pass\n",
    "        \n",
    "# galaxy = SmartPhone('galaxy-s20', 'silver', 1000000)\n",
    "galaxy = SmartPhone('galaxy-s20', {'color':'silver', 'price':1000000})\n",
    "\n",
    "galaxy.phone_info()\n",
    "\n",
    "# 메이커만 출력\n",
    "print(galaxy.maker)\n",
    "\n",
    "# 컬러만 출력\n",
    "print(galaxy.details['color'])\n",
    "\n",
    "# 가격만 출력\n",
    "print(galaxy.details['price'])\n"
   ]
  }
 ],
 "metadata": {
  "kernelspec": {
   "display_name": "Python 3 (ipykernel)",
   "language": "python",
   "name": "python3"
  },
  "language_info": {
   "codemirror_mode": {
    "name": "ipython",
    "version": 3
   },
   "file_extension": ".py",
   "mimetype": "text/x-python",
   "name": "python",
   "nbconvert_exporter": "python",
   "pygments_lexer": "ipython3",
   "version": "3.9.7"
  }
 },
 "nbformat": 4,
 "nbformat_minor": 5
}
