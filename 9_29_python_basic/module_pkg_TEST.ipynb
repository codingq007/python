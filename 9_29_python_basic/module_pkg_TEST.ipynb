{
 "cells": [
  {
   "cell_type": "markdown",
   "id": "c9e19b97",
   "metadata": {},
   "source": [
    "### 패키지와 모듈\n",
    "- 패키지 : 폴더 개념(비슷한 기능들을 묶어놓은 폴더(디렉토리) 개념)\n",
    "- 모듈 : 단일 파일(함수, 클래스들이 정의)"
   ]
  },
  {
   "cell_type": "code",
   "execution_count": 8,
   "id": "c7ad96e7",
   "metadata": {},
   "outputs": [
    {
     "name": "stdout",
     "output_type": "stream",
     "text": [
      "0 1 1 2 3 5 8 13 21 34 55 89 144 \n",
      "ex1 :  None\n",
      "ex1 :  [0, 1, 1, 2, 3, 5, 8, 13]\n",
      "ex1 :  fibonacci\n",
      "\n",
      "ex2 :  0 1 1 2 3 5 8 13 21 34 55 89 144 \n",
      "ex2 :  [0, 1, 1, 2, 3, 5, 8, 13]\n",
      "ex2 :  fibonacci\n",
      "\n",
      "0 1 1 2 3 5 8 13 \n"
     ]
    },
    {
     "data": {
      "text/plain": [
       "'fibonacci'"
      ]
     },
     "execution_count": 8,
     "metadata": {},
     "output_type": "execute_result"
    }
   ],
   "source": [
    "# 사용 예 1: 클래스\n",
    "from pkg.fibonacci import Fibonacci\n",
    "\n",
    "print(\"ex1 : \", Fibonacci.fib(200))\n",
    "\n",
    "print(\"ex1 : \", Fibonacci.fib2(20))\n",
    "print(\"ex1 : \", Fibonacci().title)\n",
    "\n",
    "print()\n",
    "\n",
    "# 사용 예 2: 클래스\n",
    "from pkg.fibonacci import *  # 권장하지 않음.(하지만 정확한 클래스명을 모를때 사용가능)\n",
    "\n",
    "print(\"ex2 : \", end=' ')\n",
    "Fibonacci.fib(200)\n",
    "\n",
    "print(\"ex2 : \", Fibonacci.fib2(20))\n",
    "print(\"ex2 : \", Fibonacci().title)\n",
    "\n",
    "print()\n",
    "# 사용 예 3: 클래스\n",
    "from pkg.fibonacci import Fibonacci as fb\n",
    "\n",
    "fb.fib(20)\n",
    "fb().title\n"
   ]
  },
  {
   "cell_type": "code",
   "execution_count": 11,
   "id": "2983f419",
   "metadata": {},
   "outputs": [
    {
     "name": "stdout",
     "output_type": "stream",
     "text": [
      "21\n",
      "20\n"
     ]
    }
   ],
   "source": [
    "# 사용 예4: 함수\n",
    "import pkg.calc as c\n",
    "\n",
    "print(c.add(10, 11))\n",
    "print(c.multiply(10, 2))\n"
   ]
  },
  {
   "cell_type": "code",
   "execution_count": 12,
   "id": "700b1e90",
   "metadata": {},
   "outputs": [
    {
     "name": "stdout",
     "output_type": "stream",
     "text": [
      "10\n"
     ]
    }
   ],
   "source": [
    "# 사용 예5: 함수\n",
    "# 필요한 함수만 불러와서 사용하기(권장)\n",
    "from pkg.calc import div as d\n",
    "print(d(100, 10))"
   ]
  },
  {
   "cell_type": "code",
   "execution_count": 13,
   "id": "00fa7804",
   "metadata": {},
   "outputs": [
    {
     "name": "stdout",
     "output_type": "stream",
     "text": [
      "나는 개발자!!!\n",
      "당신은 디자이너!!!\n"
     ]
    }
   ],
   "source": [
    "import pkg.prints as p\n",
    "p.prt1()\n",
    "p.prt2()\n"
   ]
  }
 ],
 "metadata": {
  "kernelspec": {
   "display_name": "Python 3 (ipykernel)",
   "language": "python",
   "name": "python3"
  },
  "language_info": {
   "codemirror_mode": {
    "name": "ipython",
    "version": 3
   },
   "file_extension": ".py",
   "mimetype": "text/x-python",
   "name": "python",
   "nbconvert_exporter": "python",
   "pygments_lexer": "ipython3",
   "version": "3.9.7"
  }
 },
 "nbformat": 4,
 "nbformat_minor": 5
}
