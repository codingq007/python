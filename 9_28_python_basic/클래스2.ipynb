{
 "cells": [
  {
   "cell_type": "markdown",
   "id": "c7ed732e",
   "metadata": {},
   "source": [
    "### 생성자, 소멸자"
   ]
  },
  {
   "cell_type": "code",
   "execution_count": 13,
   "id": "4d156b24",
   "metadata": {},
   "outputs": [],
   "source": [
    "# 클래스 생성자(=객체 초기화)\n",
    "class Player:\n",
    "    # 생성자 : 객체가 생성될 때 자동으로 호출되는 메서드와 같은것\n",
    "    def __init__(self, name, addr, tel):\n",
    "        print('객체 생성')\n",
    "        self.name = name\n",
    "        self.addr = addr\n",
    "        self.tel = tel\n",
    "        \n",
    "    def print_info(self):\n",
    "        print(self.name)\n",
    "        print(self.addr)\n",
    "        print(self.tel)        "
   ]
  },
  {
   "cell_type": "code",
   "execution_count": 14,
   "id": "d60965f2",
   "metadata": {},
   "outputs": [
    {
     "name": "stdout",
     "output_type": "stream",
     "text": [
      "객체 생성\n",
      "홍길동\n",
      "서울\n",
      "1212121\n",
      "객체 생성\n",
      "손흥민\n",
      "런던\n",
      "12121233\n"
     ]
    }
   ],
   "source": [
    "player1 = Player('홍길동', '서울', '1212121')\n",
    "player1.print_info()\n",
    "\n",
    "player2 = Player('손흥민', '런던', '12121233')\n",
    "player2.print_info()"
   ]
  },
  {
   "cell_type": "code",
   "execution_count": 16,
   "id": "b7fd77bf",
   "metadata": {},
   "outputs": [],
   "source": [
    "class House:\n",
    "    def __init__(self, rooms, addr):\n",
    "        self.rooms = rooms\n",
    "        self.addr = addr\n",
    "        \n",
    "    def existAt(self):\n",
    "        print(f'집은 {self.addr}에 위치합니다...')\n",
    "        "
   ]
  },
  {
   "cell_type": "code",
   "execution_count": 17,
   "id": "020fc712",
   "metadata": {},
   "outputs": [
    {
     "name": "stdout",
     "output_type": "stream",
     "text": [
      "집은 100번지에 위치합니다...\n"
     ]
    }
   ],
   "source": [
    "house1 = House(3, '100번지')\n",
    "house1.existAt()"
   ]
  },
  {
   "cell_type": "code",
   "execution_count": null,
   "id": "7c63df48",
   "metadata": {},
   "outputs": [],
   "source": [
    "# 문제 1> Book 클래스를 만들어서 책의 제목을 출력할 수 있도록 해보세요..\n",
    "# e.g> 책 제목은 \"파이썬 배우기\" 입니다.\n",
    "#        책 제목은 \"자바 기초\" 입니다. "
   ]
  },
  {
   "cell_type": "code",
   "execution_count": 26,
   "id": "14e4d803",
   "metadata": {},
   "outputs": [],
   "source": [
    "class Book:\n",
    "    def __init__(self, bookName):\n",
    "#         print(f'책 제목은 {bookName} 입니다.')\n",
    "        self.bookName = bookName\n",
    "    def book_info(self):\n",
    "        print(f'책 제목은 {self.bookName} 입니다.')"
   ]
  },
  {
   "cell_type": "code",
   "execution_count": 27,
   "id": "b4abf72f",
   "metadata": {},
   "outputs": [
    {
     "name": "stdout",
     "output_type": "stream",
     "text": [
      "책 제목은 파이썬 배우기 입니다.\n",
      "책 제목은 자바 기초 입니다.\n"
     ]
    }
   ],
   "source": [
    "book1 = Book('파이썬 배우기')\n",
    "book1.book_info()\n",
    "\n",
    "book2 = Book('자바 기초')\n",
    "book2.book_info()\n",
    "\n"
   ]
  },
  {
   "cell_type": "code",
   "execution_count": null,
   "id": "b82a60d4",
   "metadata": {},
   "outputs": [],
   "source": [
    "# 문제 2> Student 클래스를 정의하여 두명의 학생을 만들고 두학생의 정보를 출력하세요.\n",
    "# e.g> 제이름은 홍길동 입니다. 나이는 21살 입니다."
   ]
  },
  {
   "cell_type": "code",
   "execution_count": 28,
   "id": "0978c4b9",
   "metadata": {},
   "outputs": [],
   "source": [
    "class Student:\n",
    "    def __init__(self, name, age):\n",
    "        self.name = name\n",
    "        self.age = age\n",
    "    def stu_info(self):\n",
    "        print(f'제 이름은 {self.name} 입니다. 나이는 {self.age}살 입니다.')\n",
    "        "
   ]
  },
  {
   "cell_type": "code",
   "execution_count": 30,
   "id": "9432deb8",
   "metadata": {},
   "outputs": [
    {
     "name": "stdout",
     "output_type": "stream",
     "text": [
      "제 이름은 이길동 입니다. 나이는 20살 입니다.\n",
      "제 이름은 고길동 입니다. 나이는 19살 입니다.\n"
     ]
    }
   ],
   "source": [
    "student1 = Student('이길동', 20)\n",
    "student1.stu_info()\n",
    "\n",
    "student2 = Student('고길동', 19)\n",
    "student2.stu_info()"
   ]
  },
  {
   "cell_type": "code",
   "execution_count": 31,
   "id": "d7f29829",
   "metadata": {},
   "outputs": [],
   "source": [
    "# 문제 3> House 클래스를 정의하고 집주인과 방수, 주소를 출력하세요.\n",
    "# 홍길동의 집은 방이 3개이고 둔산동에 위치합니다...\n",
    "\n",
    "class House:\n",
    "    def __init__(self, rooms, ownerName, addr):\n",
    "        self.rooms = rooms\n",
    "        self.ownerName = ownerName\n",
    "        self.addr = addr\n",
    "    def house_info(self):\n",
    "#         print('{}의 집은 방이 {}개이고 {}에 위치합니다.'.format(self.ownerName, self.rooms, self.addr))\n",
    "        print(f'{self.ownerName}의 집은 방이 {self.rooms}개이고 {self.addr}에 위치합니다.')"
   ]
  },
  {
   "cell_type": "code",
   "execution_count": 33,
   "id": "96f13b26",
   "metadata": {},
   "outputs": [
    {
     "name": "stdout",
     "output_type": "stream",
     "text": [
      "홍길동의 집은 방이 4개이고 둔산동에 위치합니다.\n"
     ]
    }
   ],
   "source": [
    "house = House(4, '홍길동', '둔산동')\n",
    "house.house_info()"
   ]
  },
  {
   "cell_type": "code",
   "execution_count": 34,
   "id": "9c740435",
   "metadata": {},
   "outputs": [],
   "source": [
    "# 문제 4> Product 클래스를 만들어서 다음과 같이 출력되도록 하세요.\n",
    "'''\n",
    "카테고리 :  가전\n",
    "상품코드 :  p100\n",
    "상품명 :  LG TV\n",
    "단가 :  3000000\n",
    "상세설명 :  최신형 평면 TV\n",
    "'''\n",
    "class Product:\n",
    "\n",
    "    def __init__(self, category, pCode, pName, unitPrice, manufacturer, description):\n",
    "        self.category = category\n",
    "        self.pCode = pCode\n",
    "        self.pName = pName\n",
    "        self.unitPrice = unitPrice\n",
    "        self.manufacturer = manufacturer        \n",
    "        self.description = description\n",
    "\n",
    "    def prod_info(self):\n",
    "        print('카테고리 : ', self.category)\n",
    "        print('상품코드 : ', self.pCode)\n",
    "        print('상품명 : ', self.pName)\n",
    "        print('단가 : ', self.unitPrice)\n",
    "        print('상세설명 : ',self.description)"
   ]
  },
  {
   "cell_type": "code",
   "execution_count": 49,
   "id": "22274898",
   "metadata": {},
   "outputs": [
    {
     "name": "stdout",
     "output_type": "stream",
     "text": [
      "카테고리 :  가전\n",
      "상품코드 :  p100\n",
      "상품명 :  LG TV\n",
      "단가 :  3000000\n",
      "상세설명 :  최신형 평면 TV\n",
      "제조사 :  LG\n",
      "\n",
      "카테고리 :  가전\n",
      "상품코드 :  p200\n",
      "상품명 :  Samsung TV\n",
      "단가 :  2000000\n",
      "상세설명 :  최신형 평면 TV\n",
      "\n",
      "카테고리 :  가전\n",
      "상품코드 :  p100\n",
      "상품명 :  LG TV\n",
      "단가 :  3000000\n",
      "상세설명 :  최신형 평면 TV\n",
      "\n",
      "카테고리 :  가전\n",
      "상품코드 :  p200\n",
      "상품명 :  Samsung TV\n",
      "단가 :  2000000\n",
      "상세설명 :  최신형 평면 TV\n"
     ]
    }
   ],
   "source": [
    "tv = Product('가전', 'p100', 'LG TV', 3000000, 'LG', '최신형 평면 TV')\n",
    "tv.prod_info()\n",
    "print('제조사 : ', tv.manufacturer)\n",
    "\n",
    "print()\n",
    "tv2 = Product('가전', 'p200', 'Samsung TV', 2000000, 'Samsung', '최신형 평면 TV')\n",
    "tv2.prod_info()\n",
    "\n",
    "\n",
    "print()\n",
    "prodList = []\n",
    "prodList.append(tv)\n",
    "prodList.append(tv2)\n",
    "\n",
    "prodList[0].prod_info()\n",
    "print()\n",
    "prodList[1].prod_info()"
   ]
  },
  {
   "cell_type": "code",
   "execution_count": 38,
   "id": "425a40b6",
   "metadata": {},
   "outputs": [],
   "source": [
    "# 문제 5> Person 클래스를 정의 하여 다음과 같이 출력되도록 해보세요.\n",
    "# 단, 성별은 입력시 M, F 두개로 만 입력가능\n",
    "'''\n",
    "이름 :  김말똥\n",
    "나이 :  21\n",
    "성별 :  여자\n",
    "\n",
    "이름 :  이길동\n",
    "나이 :  21\n",
    "성별 :  남자\n",
    "'''\n",
    "class Person:\n",
    "    def __init__(self, name, age, gender):\n",
    "        self.name = name\n",
    "        self.age = age\n",
    "        self.gender = gender # 입력시 M/F\n",
    "\n",
    "    def print_info(self):\n",
    "        print('이름 : ', self.name)\n",
    "        print('나이 : ', self.age)\n",
    "        \n",
    "        gen = '여자'\n",
    "\n",
    "        if self.gender == 'M':\n",
    "            gen = '남자'\n",
    "\n",
    "        print('성별 : ', gen)  \n",
    "\n"
   ]
  },
  {
   "cell_type": "code",
   "execution_count": 50,
   "id": "0393f011",
   "metadata": {},
   "outputs": [
    {
     "name": "stdout",
     "output_type": "stream",
     "text": [
      "이름 :  이길동\n",
      "나이 :  21\n",
      "성별 :  남자\n"
     ]
    },
    {
     "data": {
      "text/plain": [
       "'M'"
      ]
     },
     "execution_count": 50,
     "metadata": {},
     "output_type": "execute_result"
    }
   ],
   "source": [
    "person1 = Person('이길동', 21, 'M')\n",
    "\n",
    "person1.print_info()\n",
    "\n",
    "person1.gender"
   ]
  },
  {
   "cell_type": "code",
   "execution_count": 40,
   "id": "0af155e0",
   "metadata": {},
   "outputs": [
    {
     "name": "stdout",
     "output_type": "stream",
     "text": [
      "이름 :  고길동\n",
      "나이 :  21\n",
      "성별 :  남자\n"
     ]
    }
   ],
   "source": [
    "person1.name = '고길동'\n",
    "person1.print_info()"
   ]
  },
  {
   "cell_type": "code",
   "execution_count": 1,
   "id": "4aa56916",
   "metadata": {
    "scrolled": true
   },
   "outputs": [
    {
     "name": "stdout",
     "output_type": "stream",
     "text": [
      "생성자 호출\n",
      "생성자 호출\n",
      "Name :  강길동\n",
      "Name :  홍길동\n",
      "소멸자가 호출되었습니다...\n",
      "28\n"
     ]
    },
    {
     "ename": "NameError",
     "evalue": "name 'user2' is not defined",
     "output_type": "error",
     "traceback": [
      "\u001b[1;31m---------------------------------------------------------------------------\u001b[0m",
      "\u001b[1;31mNameError\u001b[0m                                 Traceback (most recent call last)",
      "\u001b[1;32m~\\AppData\\Local\\Temp/ipykernel_13712/163934457.py\u001b[0m in \u001b[0;36m<module>\u001b[1;34m\u001b[0m\n\u001b[0;32m     20\u001b[0m \u001b[1;33m\u001b[0m\u001b[0m\n\u001b[0;32m     21\u001b[0m \u001b[0mprint\u001b[0m\u001b[1;33m(\u001b[0m\u001b[0muser1\u001b[0m\u001b[1;33m.\u001b[0m\u001b[0mage\u001b[0m\u001b[1;33m)\u001b[0m\u001b[1;33m\u001b[0m\u001b[1;33m\u001b[0m\u001b[0m\n\u001b[1;32m---> 22\u001b[1;33m \u001b[0mprint\u001b[0m\u001b[1;33m(\u001b[0m\u001b[0muser2\u001b[0m\u001b[1;33m.\u001b[0m\u001b[0mage\u001b[0m\u001b[1;33m)\u001b[0m\u001b[1;33m\u001b[0m\u001b[1;33m\u001b[0m\u001b[0m\n\u001b[0m",
      "\u001b[1;31mNameError\u001b[0m: name 'user2' is not defined"
     ]
    }
   ],
   "source": [
    "class User:\n",
    "    def __init__(self, name, age):\n",
    "        print('생성자 호출')\n",
    "        self.name = name\n",
    "        self.age = age\n",
    "        \n",
    "    def print_info(self):\n",
    "        print('Name : ', self.name)\n",
    "        \n",
    "    def __del__(self):\n",
    "        print('소멸자가 호출되었습니다...')\n",
    "        \n",
    "user1 = User('강길동', 28)\n",
    "user2 = User('홍길동', 33)\n",
    "\n",
    "user1.print_info()\n",
    "user2.print_info()\n",
    "\n",
    "del user2\n",
    "\n",
    "print(user1.age)\n",
    "# print(user2.age)"
   ]
  },
  {
   "cell_type": "code",
   "execution_count": 1,
   "id": "d7c544ea",
   "metadata": {},
   "outputs": [],
   "source": [
    "class IceCream:\n",
    "    def __init__(self, name, price):\n",
    "        self.name = name\n",
    "        self.price = price\n",
    "    def output_info(self):\n",
    "        print(f'{self.name} 가격은 {self.price} 입니다..')\n",
    "    # 소멸자    \n",
    "    def __del__(self):\n",
    "        print(f'{self.name} 아이스크림이 녹아 버렸습니다..')"
   ]
  },
  {
   "cell_type": "code",
   "execution_count": 2,
   "id": "0f82a79d",
   "metadata": {},
   "outputs": [
    {
     "name": "stdout",
     "output_type": "stream",
     "text": [
      "돼지바 가격은 1000 입니다..\n",
      "돼지바 아이스크림이 녹아 버렸습니다..\n"
     ]
    }
   ],
   "source": [
    "iceCream1 = IceCream('돼지바', 1000)\n",
    "iceCream1.output_info()\n",
    "del iceCream1"
   ]
  }
 ],
 "metadata": {
  "kernelspec": {
   "display_name": "Python 3 (ipykernel)",
   "language": "python",
   "name": "python3"
  },
  "language_info": {
   "codemirror_mode": {
    "name": "ipython",
    "version": 3
   },
   "file_extension": ".py",
   "mimetype": "text/x-python",
   "name": "python",
   "nbconvert_exporter": "python",
   "pygments_lexer": "ipython3",
   "version": "3.9.7"
  }
 },
 "nbformat": 4,
 "nbformat_minor": 5
}
