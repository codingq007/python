{
 "cells": [
  {
   "cell_type": "markdown",
   "id": "9b337058",
   "metadata": {},
   "source": [
    "### 클래스 변수, 인스턴스 변수"
   ]
  },
  {
   "cell_type": "code",
   "execution_count": 6,
   "id": "ede70852",
   "metadata": {},
   "outputs": [],
   "source": [
    "class Employee:\n",
    "    employeeCnt = 0; # 클래스 변수(일반적으로 공유 목적)\n",
    "    \n",
    "    def __init__(self, name, age):\n",
    "        self.name = name # 인스턴스 변수(self가 붙어있으면)\n",
    "        self.age = age\n",
    "        \n",
    "        Employee.employeeCnt +=1 # 클래스 변수의 접근법 : 클래스명.클래스변수명\n",
    "        \n",
    "    def empInfo(self):\n",
    "        print('Name : ', self.name, ', Age : ', self.age)\n",
    "        \n",
    "    def empCount(self):\n",
    "        print('전체 종업원 수는 %d' % Employee.employeeCnt)\n",
    "    "
   ]
  },
  {
   "cell_type": "code",
   "execution_count": 8,
   "id": "b846a900",
   "metadata": {
    "scrolled": true
   },
   "outputs": [
    {
     "name": "stdout",
     "output_type": "stream",
     "text": [
      "홍길동\n",
      "전체 종업원 수는 6\n"
     ]
    }
   ],
   "source": [
    "emp1 = Employee('홍길동', 22)\n",
    "emp2 = Employee('강길동', 33)\n",
    "emp3 = Employee('고길동', 40)\n",
    "\n",
    "print(emp1.name) # 인스턴스 변수 접근 : 인스턴스명.인스턴스변수\n",
    "\n",
    "emp1.empCount()"
   ]
  },
  {
   "cell_type": "code",
   "execution_count": 1,
   "id": "69b6df4d",
   "metadata": {},
   "outputs": [
    {
     "name": "stdout",
     "output_type": "stream",
     "text": [
      "현재 계좌 수 : 1\n",
      "현재 계좌 수 : 2\n",
      "현재 계좌 수 : 3\n",
      "현재 계좌 수 : 2\n"
     ]
    }
   ],
   "source": [
    "# 문제> 은행의 계좌 개설 또는 계좌 해지시 계좌의 갯수를 파악할 수있는 클래스를 정의하세요.\n",
    "# 클래스명 : Account\n",
    "# 계좌 해지는 del 키워드를 사용한다.(즉, 소멸자를 이용하세요.)\n",
    "\n",
    "# e.g> 속성은 계좌의 이름만 설정\n",
    "\n",
    "# 결과를 출력해보세요..\n",
    "\n",
    "class Account:\n",
    "    cnt_accounts = 0\n",
    "    \n",
    "    def __init__(self, name):\n",
    "        self.name = name\n",
    "        Account.cnt_accounts +=1\n",
    "        print(f'현재 계좌 수 : {Account.cnt_accounts}')\n",
    "        \n",
    "    def __del__(self):\n",
    "        Account.cnt_accounts -=1\n",
    "        print(f'현재 계좌 수 : {Account.cnt_accounts}')\n",
    "        \n",
    "kim = Account('김길동') \n",
    "lee = Account('이길동')\n",
    "ko = Account('고길동')\n",
    "\n",
    "del lee"
   ]
  },
  {
   "cell_type": "markdown",
   "id": "dbf89b18",
   "metadata": {},
   "source": [
    "### method 정의\n",
    "- 멤버함수\n",
    "- 객체명.메소드명 형태로 호출"
   ]
  },
  {
   "cell_type": "code",
   "execution_count": 9,
   "id": "95515a78",
   "metadata": {},
   "outputs": [
    {
     "name": "stdout",
     "output_type": "stream",
     "text": [
      "현재값 :  0\n",
      "현재값 :  3\n",
      "현재값 :  0\n"
     ]
    }
   ],
   "source": [
    "# a = list() # list 객체생성\n",
    "# a.append(0) # 메소드 호출\n",
    "\n",
    "class Counter:\n",
    "    def __init__(self):\n",
    "        self.num=0\n",
    "    def increment(self):\n",
    "        self.num +=1\n",
    "    def reset(self):\n",
    "        self.num =0\n",
    "    def print_value(self):\n",
    "        print('현재값 : ', self.num)\n",
    "        \n",
    "c1 = Counter()\n",
    "c1.print_value()\n",
    "c1.increment()\n",
    "c1.increment()\n",
    "c1.increment()\n",
    "c1.print_value()\n",
    "c1.reset()\n",
    "c1.print_value()"
   ]
  },
  {
   "cell_type": "markdown",
   "id": "41cba21f",
   "metadata": {},
   "source": [
    "### method type\n",
    "- instance method - 객체로 호출\n",
    "- class method - class로 호출"
   ]
  },
  {
   "cell_type": "code",
   "execution_count": 15,
   "id": "98edf59c",
   "metadata": {},
   "outputs": [
    {
     "data": {
      "text/plain": [
       "200"
      ]
     },
     "execution_count": 15,
     "metadata": {},
     "output_type": "execute_result"
    }
   ],
   "source": [
    "class Math:\n",
    "#     def add(a, b): # 클래스 메소드\n",
    "    def add(self, a, b):\n",
    "        return a+b\n",
    "    \n",
    "#     def multiply(a, b):# 클래스 메소드\n",
    "    def multiply(self, a, b):\n",
    "        return a*b\n",
    "    \n",
    "\n",
    "# add = Math.add(10, 20) # 클래스 메소드 호출   \n",
    "# mul = Math.multiply(10, 20)\n",
    "\n",
    "# 인스턴스 메소드 호출\n",
    "m = Math()\n",
    "m.add(10, 20)\n",
    "m.multiply(10, 20)    \n",
    "    \n",
    "    \n",
    "    "
   ]
  }
 ],
 "metadata": {
  "kernelspec": {
   "display_name": "Python 3 (ipykernel)",
   "language": "python",
   "name": "python3"
  },
  "language_info": {
   "codemirror_mode": {
    "name": "ipython",
    "version": 3
   },
   "file_extension": ".py",
   "mimetype": "text/x-python",
   "name": "python",
   "nbconvert_exporter": "python",
   "pygments_lexer": "ipython3",
   "version": "3.9.7"
  }
 },
 "nbformat": 4,
 "nbformat_minor": 5
}
