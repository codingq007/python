{
 "cells": [
  {
   "cell_type": "code",
   "execution_count": null,
   "id": "831be70d",
   "metadata": {},
   "outputs": [],
   "source": [
    "# 1. print(), sum(), range()와 같은 함수를 무슨 함수라고 하나요.\n",
    "# 내장(built-in)함수\n",
    "\n",
    "# 2. 함수를 정의하는 키워드를 쓰세요.\n",
    "# def\n",
    "\n",
    "# 3. 주어진 input에 대해 의도된 output을 전달하는 역할을 하는 것을 프로그래밍에서는 무엇이라고 하나요?\n",
    "# 함수\n",
    "\n",
    "# 4. 리스트, 튜플과 같은 원소의 개수를 output하는 함수명을 적으세요.\n",
    "# len\n",
    "\n",
    "# 5. 함수에 전달되는 입력을 무엇이라고 하는지 아는대로 적으세요.\n",
    "# argument, parameter\n",
    "\n",
    "# 6. 매개변수를 지정하지 않을 경우, 지정된 기본값으로 대체되는데 이러한 인자를 무엇이라고 하나요?\n",
    "# default parameter(기본 인자)\n",
    "\n",
    "# 7. 위의  문제에 해당하는 내장 함수의 예를 들어보세요.\n",
    "# print() 함수의 end = ‘\\n’\n",
    "\n",
    "# 8. 함수의 종료를 명시하는 키워드는 무엇인가요?\n",
    "# return\n",
    "\n",
    "# 9. 위 문제의 키워드가 생략된 경우 반환값은 무엇인지 적으세요\n",
    "# None\n",
    "\n",
    "# 10. 함수의 반환값은 어디로 리턴되나요?\n",
    "# 함수 호출자(caller)\n",
    "\n",
    "# 11. 다음 중 틀린 표현은 몇 번째 인가요?\n",
    "#   def test(a, b, c = 1)\n",
    "#   def test(a, b = 1, c)\n",
    "#   def test(a = 1, b = 1, c = 3)\n",
    "# 2번째\n",
    "\n",
    "# 12. 키워드 파라미터를 관례적으로 어떻게 표현하는지 직접 함수의 선언부를 작성해보세요\n",
    "# (인수의 갯수는 고정되지 않음, 함수명은 임의로 정하세요)\n",
    "# def test2(**kwargs):\n",
    "\n",
    "# 13. 특정 코드 블록(함수 안)에서 선언된 변수를 무엇이라고 하나요?\n",
    "# 지역(local) 변수\n",
    "\n",
    "# 14. 프로그램 종료 전까지 유지되는 변수를 무슨 변수라고 하나요?\n",
    "# 전역(global) 변수\n",
    "\n",
    "# 15. 위와 같은 변수의 범위를 영어로 무엇이라고 하나요?\n",
    "# scope\n",
    "\n",
    "# 16. 파라미터를 튜플 형태로 전달하는 함수의 선언부를 작성해보세요. (인자의 갯수가 고정되지 않음, 함수명은 임의로..)\n",
    "# def test(*args):\n",
    "\n"
   ]
  },
  {
   "cell_type": "code",
   "execution_count": 1,
   "id": "d5874c4b",
   "metadata": {},
   "outputs": [
    {
     "name": "stdout",
     "output_type": "stream",
     "text": [
      "(31, -11, 210)\n"
     ]
    }
   ],
   "source": [
    "# 17. 두개의 입력을 받아 합, 차, 곱의 결과를 튜플로 동시에 반환하는 함수를 정의 하고 실행해보세요.\n",
    "def fn_plus_minus_mul(num1, num2):\n",
    "    return (num1 + num2, num1 - num2, num1 * num2)\n",
    "\n",
    "print(fn_plus_minus_mul(10,21))"
   ]
  },
  {
   "cell_type": "code",
   "execution_count": 2,
   "id": "42d10534",
   "metadata": {},
   "outputs": [
    {
     "data": {
      "text/plain": [
       "\"I don't know\""
      ]
     },
     "execution_count": 2,
     "metadata": {},
     "output_type": "execute_result"
    }
   ],
   "source": [
    "# 18. 다음과 같은 함수를 정의하고 실행해보세요.(조건문을 이용)\n",
    "'''\n",
    "    함수명 : return_fruit\n",
    "    입력 : color\n",
    "    기능 : \n",
    "           color가 red 이면 apple을 반환\n",
    "           color가 yellow 이면 banana를 반환\n",
    "           color가 green 이면 water melon을 반환\n",
    "           위의 color가 아니면 I don't know를 반환    \n",
    "'''\n",
    "\n",
    "def return_fruit(color):\n",
    "    if color == 'red':\n",
    "        return 'apple'\n",
    "    elif color == 'yellow':\n",
    "        return 'banana'\n",
    "    elif color == 'green':\n",
    "        return 'water melon'\n",
    "    else:\n",
    "        return \"I don't know\"\n",
    "    \n",
    "return_fruit('blue')"
   ]
  },
  {
   "cell_type": "code",
   "execution_count": 3,
   "id": "bfd5d758",
   "metadata": {},
   "outputs": [
    {
     "name": "stdout",
     "output_type": "stream",
     "text": [
      "I don't know\n"
     ]
    }
   ],
   "source": [
    "# 19. 위의 문제를 아래 예시된 딕셔너리를 이용하여 함수를 정의하세요.\n",
    "# get(a, b)함수 이용, 첫번째 인자 a는 찾고싶은 key, 두번째 인자 b는 key값이 없을 때 리턴되는 값\n",
    "'''\n",
    "fruit_dic = {\n",
    "    'red': 'apple',\n",
    "    'yellow': 'banana',\n",
    "    'green': 'water melon'\n",
    "}\n",
    "'''\n",
    "\n",
    "fruit_dic = {\n",
    "    'red': 'apple',\n",
    "    'yellow': 'banana',\n",
    "    'green': 'water melon'\n",
    "}\n",
    "\n",
    "def return_fruit(color):\n",
    "    return fruit_dic.get(color, \"I don't know\") # get함수의 두번째 인자: color값이 없을 때 리턴되는 값\n",
    "\n",
    "res = return_fruit('blue')\n",
    "print(res)"
   ]
  },
  {
   "cell_type": "code",
   "execution_count": 4,
   "id": "ef62f6b3",
   "metadata": {},
   "outputs": [
    {
     "name": "stdout",
     "output_type": "stream",
     "text": [
      "0 1 1 2 3 5 8 \n"
     ]
    }
   ],
   "source": [
    "# 20. 입력 값 보다 작은 Fibonacci 수열을 출력하는 함수를 작성하세요\n",
    "# 함수명 : fibonacci\n",
    "# 피보나치 수열 : 0번째 원소를 0, 1번째 원소를 1로 두고 시작하여, 다음 2번째 원소는 앞의 두수의 합 1(0+1)을 놓고,\n",
    "#                3번째 원소는 앞의 두수의 합 2(1 + (0+1))을, 4번째 원소는 역시 앞의 두수의 합 3(1 + 2)을 배치하는 방식으로\n",
    "#                나열되는 수열을 말한다.\n",
    "#              e.g) 0, 1, 1, 2, 3, 5, 8, 13, 21, ....\n",
    "\n",
    "\n",
    "def fibonacci(n):\n",
    "    a, b = 0, 1\n",
    "\n",
    "    while a < n:\n",
    "        print(a, end=' ')\n",
    "        a,b = b, a+b\n",
    "\n",
    "    print()\n",
    "\n",
    "fibonacci(10)"
   ]
  },
  {
   "cell_type": "code",
   "execution_count": 5,
   "id": "d2aff876",
   "metadata": {},
   "outputs": [
    {
     "name": "stdout",
     "output_type": "stream",
     "text": [
      "[0, 1, 1, 2, 3, 5, 8]\n"
     ]
    }
   ],
   "source": [
    "# 21. 위의 문제에서 수열을 리스트에 출력하도록 함수를 수정하세요.\n",
    "def fibonacci2(n):\n",
    "    result = []\n",
    "    a, b = 0,1\n",
    "    while a < n:\n",
    "        result.append(a)\n",
    "        a,b = b, a+b\n",
    "\n",
    "    return result\n",
    "\n",
    "result = fibonacci2(10)\n",
    "print(result)"
   ]
  },
  {
   "cell_type": "code",
   "execution_count": 6,
   "id": "398a5b6e",
   "metadata": {
    "scrolled": true
   },
   "outputs": [
    {
     "name": "stdout",
     "output_type": "stream",
     "text": [
      "2\n",
      "9\n"
     ]
    }
   ],
   "source": [
    "# 22. 인자의 갯수가 하나 또는 두개만 허용된다고 가정하고, 하나인 경우는 제곱을 두개인 경우에는 두수의 곱을 반환하는 \n",
    "#     함수를 정의해보세요. 함수명(var_arg)\n",
    "def var_arg(*args):\n",
    "    num = len(args)\n",
    "    if num == 1:\n",
    "        return args[0] ** 2\n",
    "    elif num == 2:\n",
    "        return args[0] * args[1]\n",
    "\n",
    "val = var_arg(1, 2)\n",
    "print(val)\n",
    "\n",
    "val = var_arg(3)\n",
    "print(val)"
   ]
  },
  {
   "cell_type": "code",
   "execution_count": 7,
   "id": "32948afa",
   "metadata": {},
   "outputs": [
    {
     "name": "stdout",
     "output_type": "stream",
     "text": [
      "b : 100\n"
     ]
    }
   ],
   "source": [
    "# 23. a, b 서로 다른 두수 중 큰 값을 출력하는 코드를 삼항연산자(조건부 표현식)를 이용하여 작성하세요.\n",
    "a = 10\n",
    "b = 100\n",
    "\n",
    "print('a :', a) if a > b else print('b :', b)"
   ]
  },
  {
   "cell_type": "code",
   "execution_count": 8,
   "id": "ac0c0a92",
   "metadata": {},
   "outputs": [
    {
     "name": "stdout",
     "output_type": "stream",
     "text": [
      "100\n",
      "20\n"
     ]
    }
   ],
   "source": [
    "# 24. 위의 문제를 default parameter와 파이썬 삼항 연산자(조건부 표현식)를 이용하여 함수를 정의하세요.\n",
    "# 함수명 : default_arg\n",
    "def default_arg(x, y = None):\n",
    "    return x * (y if y else x)# 삼항연산자(조건부 표현식)\n",
    "\n",
    "print(default_arg(10))\n",
    "print(default_arg(10, 2))"
   ]
  },
  {
   "cell_type": "code",
   "execution_count": null,
   "id": "b0fa63d6",
   "metadata": {},
   "outputs": [],
   "source": [
    "# 25. 람다함수의 키워드를 쓰세요.\n",
    "# lamda\n",
    "\n",
    "# 26. 람다함수와 일반함수의 차이점에 대해서 간략히 정리해보세요.\n",
    "# 일회성(코드상에서 한번만 사용할 때)\n",
    "# 익명성\n",
    "\n",
    "# 27. 람다 함수가 유용하게 사용되는 2개의 함수를 적으세요.\n",
    "# map, filter"
   ]
  },
  {
   "cell_type": "code",
   "execution_count": 9,
   "id": "0737c40f",
   "metadata": {
    "scrolled": true
   },
   "outputs": [
    {
     "name": "stdout",
     "output_type": "stream",
     "text": [
      "[6, 8, 9, 10]\n"
     ]
    }
   ],
   "source": [
    "# 28. 주어진 리스트에서 5(포함) ~ 10(포함)사이의 값을 출력하는 코드를 작성하는데\n",
    "#     map, filter 함수 중 하나를 이용하여 작성하세요.\n",
    "#     nums = [1,2,3,6,8,9, 10, 11, 13, 15]\n",
    "\n",
    "nums = [1,2,3,6,8,9, 10, 11, 13, 15]\n",
    "print(list(filter(lambda n : n>=5 and n<=10, nums)))"
   ]
  },
  {
   "cell_type": "code",
   "execution_count": 11,
   "id": "03e73e2e",
   "metadata": {},
   "outputs": [
    {
     "name": "stdout",
     "output_type": "stream",
     "text": [
      "[1, 2, '박수', 4, 5, '박수', 7, 8, '박수']\n"
     ]
    }
   ],
   "source": [
    "# 29. map, filter 함수 중 하나를 이용하여 다음과 같이 369 게임에 맞게 코드를 작성하세요.\n",
    "# [1, 2, '박수', 4, 5, '박수', 7, 8, '박수'] (1 ~ 10범위)\n",
    " \n",
    "print(list(map(lambda x: '박수' if x % 3 == 0 else x, range(1, 10))))"
   ]
  },
  {
   "cell_type": "code",
   "execution_count": 14,
   "id": "bbf05898",
   "metadata": {},
   "outputs": [
    {
     "name": "stdout",
     "output_type": "stream",
     "text": [
      "[1, 2, '박수', 4, 5, '박수', 7, 8, '박수', 10, 11, 12, '박수', 14, 15, '박수', 17, 18, '박수']\n"
     ]
    }
   ],
   "source": [
    "# 30. 위의 문제에서 범위를 1 ~ 20까지 했을 때 코드를 작성하세요. (find함수 사용)\n",
    "# [1, 2, '박수', 4, 5, '박수', 7, 8, '박수', 10, 11, 12, '박수', 14, 15, '박수', 17, 18, '박수'] (1 ~ 20범위)\n",
    "# find() : 문자열에서 해당 문자의 index를 반환, 만일 없으면 -1을 반환 \n",
    "# e.g> 'abcde'.find('b') 실행 후 확인해보세요.\n",
    "\n",
    "print(list(map(lambda x: '박수' if str(x).find('3') >= 0 or str(x).find('6') >= 0 or str(x).find('9') >= 0 else x, range(1, 20))))\n",
    "\n",
    "# 'abcde'.find('f') \n",
    "\n",
    "\n"
   ]
  },
  {
   "cell_type": "code",
   "execution_count": 15,
   "id": "1592d850",
   "metadata": {},
   "outputs": [
    {
     "name": "stdout",
     "output_type": "stream",
     "text": [
      "['2 x 1 = 2', '2 x 2 = 4', '2 x 3 = 6', '2 x 4 = 8', '2 x 5 = 10', '2 x 6 = 12', '2 x 7 = 14', '2 x 8 = 16', '2 x 9 = 18', '3 x 1 = 3', '3 x 2 = 6', '3 x 3 = 9', '3 x 4 = 12', '3 x 5 = 15', '3 x 6 = 18', '3 x 7 = 21', '3 x 8 = 24', '3 x 9 = 27', '4 x 1 = 4', '4 x 2 = 8', '4 x 3 = 12', '4 x 4 = 16', '4 x 5 = 20', '4 x 6 = 24', '4 x 7 = 28', '4 x 8 = 32', '4 x 9 = 36', '5 x 1 = 5', '5 x 2 = 10', '5 x 3 = 15', '5 x 4 = 20', '5 x 5 = 25', '5 x 6 = 30', '5 x 7 = 35', '5 x 8 = 40', '5 x 9 = 45', '6 x 1 = 6', '6 x 2 = 12', '6 x 3 = 18', '6 x 4 = 24', '6 x 5 = 30', '6 x 6 = 36', '6 x 7 = 42', '6 x 8 = 48', '6 x 9 = 54', '7 x 1 = 7', '7 x 2 = 14', '7 x 3 = 21', '7 x 4 = 28', '7 x 5 = 35', '7 x 6 = 42', '7 x 7 = 49', '7 x 8 = 56', '7 x 9 = 63', '8 x 1 = 8', '8 x 2 = 16', '8 x 3 = 24', '8 x 4 = 32', '8 x 5 = 40', '8 x 6 = 48', '8 x 7 = 56', '8 x 8 = 64', '8 x 9 = 72', '9 x 1 = 9', '9 x 2 = 18', '9 x 3 = 27', '9 x 4 = 36', '9 x 5 = 45', '9 x 6 = 54', '9 x 7 = 63', '9 x 8 = 72', '9 x 9 = 81']\n"
     ]
    }
   ],
   "source": [
    "# 31. 리스트 컴프리핸션과 람다 함수를 이용하여 구구단을 가로로 출력하는 리스트를 만들어 보세요\n",
    "# e.g> ['2 x 1 = 2', '2 x 2 = 4', '2 x 3 = 6', ... ]\n",
    "\n",
    "# aa = lambda a, b : f'{a} x {b} = {a * b}'\n",
    "\n",
    "# aa(x, y)\n",
    "\n",
    "res = [ (lambda a, b : f'{a} x {b} = {a * b}')(x, y) for x in range(2, 10) for y in range(1, 10) ]\n",
    "print(res)"
   ]
  },
  {
   "cell_type": "code",
   "execution_count": 17,
   "id": "47353d12",
   "metadata": {},
   "outputs": [
    {
     "name": "stdout",
     "output_type": "stream",
     "text": [
      "학생 수를 입력하세요. 3\n",
      "1번 학생의 점수 : 78\n",
      "2번 학생의 점수 : 88\n",
      "3번 학생의 점수 : 99\n",
      "------------------------------\n",
      " 번호 \t 점수 \t 평균과의 차이\n",
      "------------------------------\n",
      "\n",
      "   1 \t  78 \t -10.33\n",
      "\n",
      "   2 \t  88 \t -0.33\n",
      "\n",
      "   3 \t  99 \t 10.67\n",
      "------------------------------\n",
      "전체 평균 :  88.33333333333333\n",
      "------------------------------\n",
      "평균 미만자 수 :  2\n",
      "------------------------------\n"
     ]
    }
   ],
   "source": [
    "# 32. 다음 예시와 같이 학생의 수를 입력받아 학생의 점수와 평균, 평균과의 차이를 구하여 출력하는\n",
    "# 프로그램을 구현하세요. (함수를 이용하여 구현하세요) \n",
    "\n",
    "# 참고 사항 : 전체적인 구현을 먼저 한 후 부분 부분 함수를 정의해보세요.\n",
    "\n",
    "# 학생 수를 입력받는다.\n",
    "# 학생의 점수는 리스트에 append() 함수를 이용하여 학생수 만큼 루프를 돌려 추가시킨다.\n",
    "# 리스트의 평균을 구한다.\n",
    "# 평균미만자 수 : 구한 평균 미만의 점수를 카운트 한다.(루프 활용)\n",
    "# 반복문을 활용하여 출력한다.\n",
    "\n",
    "''' [ 프로그램 실행 화면 ]\n",
    "\n",
    "학생 수를 입력하세요 : 4\n",
    "\n",
    "1번 학생의 점수 : 88\n",
    "2번 학생의 점수 : 79\n",
    "3번 학생의 점수 : 85\n",
    "4번 학생의 점수 : 78\n",
    "------------------------------\n",
    " 번호 \t 점수 \t 평균과의 차이\n",
    "------------------------------\n",
    "\n",
    "   1 \t  88 \t 5.50\n",
    "\n",
    "   2 \t  79 \t -3.50\n",
    "\n",
    "   3 \t  85 \t 2.50\n",
    "\n",
    "   4 \t  78 \t -4.50\n",
    "------------------------------\n",
    "전체 평균 :  82.5\n",
    "------------------------------\n",
    "평균 미만자 수 :  2\n",
    "------------------------------\n",
    "'''\n",
    "\n",
    "# 학생 수 입력받기\n",
    "def stu_nums():\n",
    "    num = int(input('학생 수를 입력하세요. '))\n",
    "    return num\n",
    "\n",
    "# 학생점수 입력받기\n",
    "def input_score(n):\n",
    "    score = []\n",
    "    for i in range(1, n+1):\n",
    "        score.append(int(input(str(i)+'번 학생의 점수 : ')))\n",
    "    return score\n",
    "\n",
    "# 평균 구하기\n",
    "def mean(score):\n",
    "    avg = sum(score) / len(score)\n",
    "    return avg\n",
    "    \n",
    "# 평균미만자 수 구하기\n",
    "def under_avg_cnt(avg, score):\n",
    "    cnt = 0\n",
    "    for i in score:\n",
    "        if i < avg:\n",
    "            cnt += 1\n",
    "    return cnt \n",
    "\n",
    "# 화면 출력하기\n",
    "def res_output(avg, score, cnt):    \n",
    "    print('------------------------------')\n",
    "    print(' 번호 \\t 점수 \\t 평균과의 차이')\n",
    "    print('------------------------------')\n",
    "    \n",
    "    for idx, value in enumerate(score):\n",
    "        print()\n",
    "        print(f'   {idx+1} \\t  {value} \\t {value - avg:.2f}')\n",
    "    \n",
    "    print('------------------------------')  \n",
    "    print('전체 평균 : ', avg)  \n",
    "    print('------------------------------')  \n",
    "    print('평균 미만자 수 : ', under_cnt)\n",
    "    print('------------------------------')        \n",
    "        \n",
    "# main process\n",
    "num = stu_nums()\n",
    "\n",
    "score = input_score(num)\n",
    "\n",
    "avg = mean(score)\n",
    "under_cnt = under_avg_cnt(avg, score)\n",
    "\n",
    "res_output(avg, score, under_cnt)\n"
   ]
  }
 ],
 "metadata": {
  "kernelspec": {
   "display_name": "Python 3 (ipykernel)",
   "language": "python",
   "name": "python3"
  },
  "language_info": {
   "codemirror_mode": {
    "name": "ipython",
    "version": 3
   },
   "file_extension": ".py",
   "mimetype": "text/x-python",
   "name": "python",
   "nbconvert_exporter": "python",
   "pygments_lexer": "ipython3",
   "version": "3.9.7"
  }
 },
 "nbformat": 4,
 "nbformat_minor": 5
}
