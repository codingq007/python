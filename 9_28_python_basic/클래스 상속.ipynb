{
 "cells": [
  {
   "cell_type": "markdown",
   "id": "6f8d5ea5",
   "metadata": {},
   "source": [
    "### Class Inheritance(상속)\n",
    "- 기존에 정의해둔 클래스를 그대로 물려 받을 수 있는 기법\n",
    "- 기존 클래스에 일부 기능을 추가하거나, 변경하여 새로운 클래스를 정의하는 기법\n",
    "- 코드를 재사용 하는 기법\n",
    "- 상속을 해주는 기존 클래스를 Parent, Super, Base class라고 부른다.\n",
    "- 상속을 받는 클래스는 Child, Sub, Derived(파생) class라고 부른다."
   ]
  },
  {
   "cell_type": "code",
   "execution_count": 7,
   "id": "b0a522e5",
   "metadata": {},
   "outputs": [],
   "source": [
    "class Car:\n",
    "    ''' Parent Class '''\n",
    "    def __init__(self, _type, color):\n",
    "        self._type = _type\n",
    "        self.color = color\n",
    "        \n",
    "    def show(self):\n",
    "        print('Car 클래스의 show 메소드')\n",
    "        \n",
    "class BmwCar(Car):\n",
    "    ''' Child Class'''\n",
    "    def __init__(self, car_name, _type, color):\n",
    "        super().__init__(_type, color)\n",
    "        self.car_name = car_name\n",
    "        \n",
    "    def show_model(self):\n",
    "        print('Your Car Name : %s'% self.car_name)\n",
    "\n",
    "\n",
    "class Avante(Car):\n",
    "        def __init__(self, car_name, _type, color):\n",
    "            super().__init__(_type, color)\n",
    "            self.car_name = car_name\n",
    "       \n",
    "        # 메소드 오버라이드 : 재정의\n",
    "        def show(self):\n",
    "            print('Avante 클래스 \"show\" 메소드')\n",
    "            \n",
    "        def show_model(self):\n",
    "            print('Your Car Name : %s' % self.car_name)\n",
    "    "
   ]
  },
  {
   "cell_type": "code",
   "execution_count": 14,
   "id": "0c441f06",
   "metadata": {},
   "outputs": [
    {
     "name": "stdout",
     "output_type": "stream",
     "text": [
      "Car 클래스의 show 메소드\n"
     ]
    }
   ],
   "source": [
    "model1 = BmwCar('500d', 'sedan', 'red')\n",
    "model1.car_name\n",
    "model1._type\n",
    "model1.color\n",
    "\n",
    "model1.show()\n",
    "\n",
    "# avante = Avante('new 아반떼', '2000cc', 'white')\n",
    "# avante.car_name\n",
    "# avante._type\n",
    "# avante.color\n",
    "\n",
    "# avante.show()\n",
    "# avante.show_model()"
   ]
  }
 ],
 "metadata": {
  "kernelspec": {
   "display_name": "Python 3 (ipykernel)",
   "language": "python",
   "name": "python3"
  },
  "language_info": {
   "codemirror_mode": {
    "name": "ipython",
    "version": 3
   },
   "file_extension": ".py",
   "mimetype": "text/x-python",
   "name": "python",
   "nbconvert_exporter": "python",
   "pygments_lexer": "ipython3",
   "version": "3.9.7"
  }
 },
 "nbformat": 4,
 "nbformat_minor": 5
}
