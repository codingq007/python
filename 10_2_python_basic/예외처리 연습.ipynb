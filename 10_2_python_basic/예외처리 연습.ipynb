{
 "cells": [
  {
   "cell_type": "code",
   "execution_count": null,
   "id": "b568defc",
   "metadata": {},
   "outputs": [],
   "source": [
    "print('첫번째 수를 입력하시오: ', end='')\n",
    "number1 = int(input())\n",
    "print('두번째 수를 입력하시오: ', end='')\n",
    "number2 = int(input())\n",
    "\n",
    "add = number1 + number2\n",
    "subtract = number1 - number2\n",
    "multiply = number1 * number2\n",
    "divide = number1 / number2\n",
    "\n",
    "print('------- 연산 결과 -------- ')\n",
    "print(number1, '+', number2, '=', add)\n",
    "print(number1, '-', number2, '=', subtract)\n",
    "print(number1, '*', number2, '=', multiply)\n",
    "print(number1, '/', number2, '=', divide)"
   ]
  },
  {
   "cell_type": "code",
   "execution_count": 4,
   "id": "d002dec9",
   "metadata": {
    "scrolled": true
   },
   "outputs": [
    {
     "name": "stdout",
     "output_type": "stream",
     "text": [
      "첫번째 수를 입력하시오: 11\n",
      "두번째 수를 입력하시오: 0\n",
      "------- 연산 결과 -------- \n",
      "11 + 0 = 11\n",
      "11 - 0 = 11\n",
      "11 * 0 = 0\n",
      "11 / 0 = ? <-- 잘못된 연산 : \"0으로 나눌 수 업습니다!!\"\n"
     ]
    }
   ],
   "source": [
    "print('첫번째 수를 입력하시오: ', end='')\n",
    "number1 = int(input())\n",
    "print('두번째 수를 입력하시오: ', end='')\n",
    "number2 = int(input())\n",
    "\n",
    "add = number1 + number2\n",
    "subtract = number1 - number2\n",
    "multiply = number1 * number2\n",
    "try:\n",
    "    divide = number1 / number2\n",
    "except ZeroDivisionError:\n",
    "#     print('0으로 나눌 수 없습니다!!')\n",
    "    divide = '? <-- 잘못된 연산 : \"0으로 나눌 수 없습니다!!\"'\n",
    "    \n",
    "\n",
    "print('------- 연산 결과 -------- ')\n",
    "print(number1, '+', number2, '=', add)\n",
    "print(number1, '-', number2, '=', subtract)\n",
    "print(number1, '*', number2, '=', multiply)\n",
    "print(number1, '/', number2, '=', divide)"
   ]
  },
  {
   "cell_type": "code",
   "execution_count": 6,
   "id": "5cf0d96c",
   "metadata": {},
   "outputs": [
    {
     "name": "stdout",
     "output_type": "stream",
     "text": [
      "첫번째 수를 입력하시오: 11\n",
      "두번째 수를 입력하시오: 0\n",
      "0은 입력할 수 없습니다!!! 다시 입력하세요....\n",
      "0\n",
      "0은 입력할 수 없습니다!!! 다시 입력하세요....\n",
      "12\n",
      "------- 연산 결과 -------- \n",
      "11 + 12 = 23\n",
      "11 - 12 = -1\n",
      "11 * 12 = 132\n",
      "11 / 12 = 0.9166666666666666\n"
     ]
    }
   ],
   "source": [
    "print('첫번째 수를 입력하시오: ', end='')\n",
    "number1 = int(input())\n",
    "print('두번째 수를 입력하시오: ', end='')\n",
    "\n",
    "while 1:\n",
    "    number2 = int(input())\n",
    "    if number2 !=0:\n",
    "        break\n",
    "    else:\n",
    "        print('0은 입력할 수 없습니다!!! 다시 입력하세요....')\n",
    "\n",
    "add = number1 + number2\n",
    "subtract = number1 - number2\n",
    "multiply = number1 * number2\n",
    "divide = number1 / number2\n",
    "    \n",
    "\n",
    "print('------- 연산 결과 -------- ')\n",
    "print(number1, '+', number2, '=', add)\n",
    "print(number1, '-', number2, '=', subtract)\n",
    "print(number1, '*', number2, '=', multiply)\n",
    "print(number1, '/', number2, '=', divide)"
   ]
  },
  {
   "cell_type": "code",
   "execution_count": 7,
   "id": "6143b7a3",
   "metadata": {},
   "outputs": [
    {
     "name": "stdout",
     "output_type": "stream",
     "text": [
      "첫번째 수를 입력하시오: 11\n",
      "두번째 수를 입력하시오: 0\n",
      "0은 입력할 수 없습니다!!! 다시 입력하세요....\n",
      "0\n",
      "0은 입력할 수 없습니다!!! 다시 입력하세요....\n",
      "11\n",
      "------- 연산 결과 -------- \n",
      "11 + 11 = 22\n",
      "11 - 11 = 0\n",
      "11 * 11 = 121\n",
      "11 / 11 = 1.0\n"
     ]
    }
   ],
   "source": [
    "print('첫번째 수를 입력하시오: ', end='')\n",
    "number1 = int(input())\n",
    "print('두번째 수를 입력하시오: ', end='')\n",
    "\n",
    "while 1:\n",
    "    try:\n",
    "        number2 = int(input())\n",
    "        if number2 !=0:\n",
    "            break\n",
    "        else:\n",
    "            raise ZeroDivisionError\n",
    "    except ZeroDivisionError:        \n",
    "        print('0은 입력할 수 없습니다!!! 다시 입력하세요....')\n",
    "\n",
    "add = number1 + number2\n",
    "subtract = number1 - number2\n",
    "multiply = number1 * number2\n",
    "divide = number1 / number2\n",
    "    \n",
    "\n",
    "print('------- 연산 결과 -------- ')\n",
    "print(number1, '+', number2, '=', add)\n",
    "print(number1, '-', number2, '=', subtract)\n",
    "print(number1, '*', number2, '=', multiply)\n",
    "print(number1, '/', number2, '=', divide)"
   ]
  },
  {
   "cell_type": "code",
   "execution_count": null,
   "id": "969b6ec8",
   "metadata": {},
   "outputs": [],
   "source": []
  }
 ],
 "metadata": {
  "kernelspec": {
   "display_name": "Python 3 (ipykernel)",
   "language": "python",
   "name": "python3"
  },
  "language_info": {
   "codemirror_mode": {
    "name": "ipython",
    "version": 3
   },
   "file_extension": ".py",
   "mimetype": "text/x-python",
   "name": "python",
   "nbconvert_exporter": "python",
   "pygments_lexer": "ipython3",
   "version": "3.9.7"
  }
 },
 "nbformat": 4,
 "nbformat_minor": 5
}
