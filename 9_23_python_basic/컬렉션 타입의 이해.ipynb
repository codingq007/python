{
 "cells": [
  {
   "cell_type": "markdown",
   "id": "83564242",
   "metadata": {},
   "source": [
    "### 리스트 & 튜플"
   ]
  },
  {
   "cell_type": "markdown",
   "id": "6561e54d",
   "metadata": {},
   "source": [
    "#### 리스트 초기화"
   ]
  },
  {
   "cell_type": "code",
   "execution_count": 1,
   "id": "ddb748ac",
   "metadata": {},
   "outputs": [],
   "source": [
    "# [] 안에 값을 담아서 생성\n",
    "# list() 함수로 생성\n",
    "# str.split()함수로 생성\n",
    "\n",
    "## 순서 : 0, 중복 : 0, 수정 : 0, 삭제 : 0\n",
    "\n",
    "# list - mutable(생성후에 변경 가능)\n",
    "# tuple - immutable(생성후에 변경 불가능)"
   ]
  },
  {
   "cell_type": "code",
   "execution_count": 5,
   "id": "ac51ac84",
   "metadata": {},
   "outputs": [
    {
     "name": "stdout",
     "output_type": "stream",
     "text": [
      "[1, 3, 4, 5, 7]\n"
     ]
    }
   ],
   "source": [
    "# 리스트 선언\n",
    "a = []\n",
    "# type(a)\n",
    "\n",
    "b = list()\n",
    "type(b)\n",
    "\n",
    "c = [1,3,4,5,7]\n",
    "print(c)"
   ]
  },
  {
   "cell_type": "code",
   "execution_count": 7,
   "id": "2ba5b4fa",
   "metadata": {},
   "outputs": [
    {
     "name": "stdout",
     "output_type": "stream",
     "text": [
      "['korea', 'america', 1, 11, 33, [3, 7]]\n"
     ]
    }
   ],
   "source": [
    "li = ['korea', 'america', 1, 11, 33, [3,7]]\n",
    "\n",
    "print(li)"
   ]
  },
  {
   "cell_type": "code",
   "execution_count": 12,
   "id": "2985554c",
   "metadata": {},
   "outputs": [
    {
     "name": "stdout",
     "output_type": "stream",
     "text": [
      "['hello', 'world', 'nice', 'weather']\n"
     ]
    }
   ],
   "source": [
    "a = 'hello world'\n",
    "\n",
    "# list() 함수는 다른 데이터 타입을 리스트로 변환할 때도 사용한다.\n",
    "b = list(a)\n",
    "print(b)\n",
    "\n",
    "c = (1,2,3)\n",
    "d = list(c)\n",
    "print(d)\n",
    "\n",
    "a = 'hello world nice weather'\n",
    "b = a.split() # 기본적으로 띄어쓰기로 구분\n",
    "\n",
    "print(b)\n"
   ]
  },
  {
   "cell_type": "code",
   "execution_count": 16,
   "id": "b1a9ce51",
   "metadata": {
    "scrolled": true
   },
   "outputs": [
    {
     "name": "stdout",
     "output_type": "stream",
     "text": [
      "4\n",
      "6\n",
      "cap\n"
     ]
    }
   ],
   "source": [
    "# 리스트 인덱싱\n",
    "a = [1,2,3,4,5,6]\n",
    "\n",
    "print(a[3])\n",
    "print(a[-1])\n",
    "\n",
    "\n",
    "b = [10, 100, ['pen', 'cap', 'plate']]\n",
    "\n",
    "print(b[2][1])"
   ]
  },
  {
   "cell_type": "code",
   "execution_count": 21,
   "id": "220ad857",
   "metadata": {},
   "outputs": [
    {
     "name": "stdout",
     "output_type": "stream",
     "text": [
      "h\n",
      "kello world\n",
      "hello world\n"
     ]
    }
   ],
   "source": [
    "# 문자열은 불변(immutable)\n",
    "a = 'hello world'\n",
    "print(a[0])\n",
    "\n",
    "# a[0] ='k'\n",
    "\n",
    "d = a.replace('h', 'k')\n",
    "print(d)\n",
    "\n",
    "print(a) # a는 바뀌지 않음"
   ]
  },
  {
   "cell_type": "code",
   "execution_count": 22,
   "id": "62eb72aa",
   "metadata": {},
   "outputs": [
    {
     "name": "stdout",
     "output_type": "stream",
     "text": [
      "[100, 2, 3, 90]\n"
     ]
    }
   ],
   "source": [
    "a = [1,2,3,4]\n",
    "\n",
    "# 문제> 1 -> 100, 4->90으로 변경하세요\n",
    "a[0] = 100\n",
    "a[-1] = 90\n",
    "\n",
    "print(a)"
   ]
  },
  {
   "cell_type": "markdown",
   "id": "5088f642",
   "metadata": {},
   "source": [
    "### 리스트 슬라이싱\n",
    "- 슬라이싱의 결과 역시 list"
   ]
  },
  {
   "cell_type": "code",
   "execution_count": 27,
   "id": "53acae26",
   "metadata": {},
   "outputs": [
    {
     "name": "stdout",
     "output_type": "stream",
     "text": [
      "[10, 100]\n",
      "['cap', 'plate']\n"
     ]
    }
   ],
   "source": [
    "e = [10, 100, ['pen', 'cap', 'plate']]\n",
    "\n",
    "# 문제1> 슬라이싱 결과 -> [10, 100]   \n",
    "# 문제2> 슬라이싱 결과 ->  ['cap', 'plate']\n",
    "\n",
    "print(e[0:2])\n",
    "print(e[2][1:3])\n",
    "\n",
    "\n"
   ]
  },
  {
   "cell_type": "markdown",
   "id": "2494747d",
   "metadata": {},
   "source": [
    "### 리스트 연산"
   ]
  },
  {
   "cell_type": "code",
   "execution_count": 36,
   "id": "90e827c8",
   "metadata": {},
   "outputs": [
    {
     "name": "stdout",
     "output_type": "stream",
     "text": [
      "[1, 2, 3, 4, 10, 100, ['pen', 'cap', 'plate']]\n",
      "[1, 2, 3, 4, 1, 2, 3, 4, 1, 2, 3, 4]\n",
      "1h\n",
      "[1, 10, 10, 100, 3, 4]\n",
      "[1, ['a', 'b', 'c'], 10, 100, 3, 4]\n",
      "[1, 10, 100, 3, 4]\n"
     ]
    }
   ],
   "source": [
    "c = [1,2,3,4]\n",
    "d =[10, 100, ['pen', 'cap', 'plate']]\n",
    "\n",
    "print(c + d)\n",
    "print(c * 3)\n",
    "\n",
    "# 문제> 리스트 c와, 'h'를 활용하여 출력결과가 '1h' 가 되도록 하세요 \n",
    "\n",
    "print(str(c[0]) + 'h')\n",
    "\n",
    "c[1:2] = [10, 10, 100]\n",
    "print(c)\n",
    "c[1] = ['a', 'b', 'c']\n",
    "print(c)\n",
    "\n",
    "del c[1]\n",
    "print(c)\n"
   ]
  },
  {
   "cell_type": "markdown",
   "id": "df49d81a",
   "metadata": {},
   "source": [
    "### list 멤버함수\n",
    "- 생성된 리스트 객체에서 동작하는 함수"
   ]
  },
  {
   "cell_type": "code",
   "execution_count": 41,
   "id": "64dce14c",
   "metadata": {},
   "outputs": [
    {
     "name": "stdout",
     "output_type": "stream",
     "text": [
      "[1, 2, 3, 4, 100]\n",
      "[1, 2, 3, [6, 7, 8]]\n"
     ]
    }
   ],
   "source": [
    "# append()\n",
    "a = [1,2,3,4]\n",
    "a.append(100)\n",
    "\n",
    "print(a)\n",
    "\n",
    "# extend()\n",
    "a = [1,2,3]\n",
    "b = [6,7,8]\n",
    "\n",
    "a.append(b)\n",
    "print(a)\n",
    "\n",
    "# a.extend(b)\n",
    "# print(a)\n"
   ]
  },
  {
   "cell_type": "code",
   "execution_count": 44,
   "id": "5057fe1b",
   "metadata": {},
   "outputs": [
    {
     "name": "stdout",
     "output_type": "stream",
     "text": [
      "[1, 100, 2, 3, 4, 5]\n",
      "[1, 3, 4, 5]\n"
     ]
    }
   ],
   "source": [
    "# insert() : 원하는 위치에 추가\n",
    "a = [1,2,3,4,5]\n",
    "a.insert(1, 100)\n",
    "print(a)\n",
    "\n",
    "# remove() : 값으로 항목 삭제\n",
    "a = [1,2,3,4,5]\n",
    "# a.remove(2)\n",
    "\n",
    "print(a)"
   ]
  },
  {
   "cell_type": "code",
   "execution_count": 49,
   "id": "dd7969ff",
   "metadata": {},
   "outputs": [
    {
     "name": "stdout",
     "output_type": "stream",
     "text": [
      "3\n",
      "[1, 2, 4, 5]\n"
     ]
    }
   ],
   "source": [
    "# pop()\n",
    "a = [1,2,3,4,5]\n",
    "\n",
    "# a.pop()\n",
    "# a.pop()\n",
    "# a.pop()\n",
    "# a.pop()\n",
    "# a.pop()\n",
    "# a.pop()\n",
    "\n",
    "d = a.pop(2)\n",
    "\n",
    "print(d)\n",
    "\n",
    "\n",
    "print(a)"
   ]
  },
  {
   "cell_type": "code",
   "execution_count": 50,
   "id": "ec27ae9d",
   "metadata": {},
   "outputs": [
    {
     "data": {
      "text/plain": [
       "3"
      ]
     },
     "execution_count": 50,
     "metadata": {},
     "output_type": "execute_result"
    }
   ],
   "source": [
    "# index() : 찾고자 하는 값의 인덱스를 반환\n",
    "a = [2, 6, 7, 9, 10]\n",
    "a.index(9)"
   ]
  },
  {
   "cell_type": "code",
   "execution_count": 51,
   "id": "dc9a26a6",
   "metadata": {},
   "outputs": [
    {
     "name": "stdout",
     "output_type": "stream",
     "text": [
      "False\n"
     ]
    }
   ],
   "source": [
    "# in 키워드 : True나 False를 반환\n",
    "a = [1,2,3,4,5]\n",
    "\n",
    "b = 10\n",
    "\n",
    "c = b in a\n",
    "\n",
    "print(c)\n"
   ]
  },
  {
   "cell_type": "markdown",
   "id": "ca8dba4d",
   "metadata": {},
   "source": [
    "### list 정렬\n",
    "- sort() --> 리스트 자체를 내부적으로 정렬\n",
    "- sorted() --> 리스트의 정렬된 복사본을 반환"
   ]
  },
  {
   "cell_type": "code",
   "execution_count": 57,
   "id": "a27ed16e",
   "metadata": {},
   "outputs": [
    {
     "name": "stdout",
     "output_type": "stream",
     "text": [
      "[9, 10, 7, 19, 1, 2, 20, 21, 7, 8]\n",
      "[1, 2, 7, 7, 8, 9, 10, 19, 20, 21]\n"
     ]
    }
   ],
   "source": [
    "a = [9, 10, 7, 19, 1, 2, 20, 21, 7, 8]\n",
    "\n",
    "# a.sort() # 기본적으로 오름차순 정렬\n",
    "# a.reverse() # 내림차순\n",
    "\n",
    "# a.sort(reverse=True)\n",
    "\n",
    "b = sorted(a)\n",
    "\n",
    "print(a)\n",
    "print(b)"
   ]
  },
  {
   "cell_type": "markdown",
   "id": "26b7eaba",
   "metadata": {},
   "source": [
    "### tuple\n"
   ]
  },
  {
   "cell_type": "code",
   "execution_count": 66,
   "id": "57d86512",
   "metadata": {},
   "outputs": [
    {
     "name": "stdout",
     "output_type": "stream",
     "text": [
      "3\n",
      "Cap\n",
      "<class 'tuple'>\n",
      "100 200\n"
     ]
    }
   ],
   "source": [
    "# 순서 : 0, 중복 : 0, 수정 : X, 삭제 : X\n",
    "\n",
    "# 변경되지 않아야 할 값들을 저장할 때 사용\n",
    "\n",
    "a = ()\n",
    "print(type(a))\n",
    "\n",
    "b = (1,)\n",
    "c = (1, 2, 3, 4)\n",
    "d = (10, 100, 'Pen', 'Cap', 'Hat')\n",
    "e = (10, 100, ('Pen', 'Cap', 'Hat'))\n",
    "\n",
    "# del c[2]\n",
    "# c[0] = 100\n",
    "\n",
    "print(c[2])\n",
    "print(e[2][1])\n",
    "\n",
    "aa = 11, 22\n",
    "print(type(aa))\n",
    "\n",
    "c, d = 100, 200\n",
    "print(c, d)\n",
    "\n"
   ]
  },
  {
   "cell_type": "code",
   "execution_count": 70,
   "id": "fcce68ad",
   "metadata": {},
   "outputs": [
    {
     "name": "stdout",
     "output_type": "stream",
     "text": [
      "200 100\n"
     ]
    }
   ],
   "source": [
    "# 문제>  a 와 b 값을 교환 하시오.\n",
    "\n",
    "a = 100\n",
    "b = 200\n",
    "\n",
    "# a = b\n",
    "# b = a\n",
    "\n",
    "# 기존 언어의 교환 방식\n",
    "# temp = a\n",
    "# a = b\n",
    "# b = temp\n",
    "\n",
    "# 파이썬의 교환방식\n",
    "a, b = b, a\n",
    "\n",
    "print(a, b)"
   ]
  },
  {
   "cell_type": "code",
   "execution_count": 74,
   "id": "32580be9",
   "metadata": {},
   "outputs": [
    {
     "name": "stdout",
     "output_type": "stream",
     "text": [
      "4\n",
      "2\n",
      "0\n",
      "2\n"
     ]
    }
   ],
   "source": [
    "# 튜플 함수\n",
    "a = (5, 2, 3, 1, 4, 4)\n",
    "\n",
    "print(a.index(4)) # 중복인 경우 첫번째 값 반환\n",
    "print(a.index(3))\n",
    "print(a.index(5))\n",
    "\n",
    "print(a.count(4))\n",
    "\n"
   ]
  }
 ],
 "metadata": {
  "kernelspec": {
   "display_name": "Python 3 (ipykernel)",
   "language": "python",
   "name": "python3"
  },
  "language_info": {
   "codemirror_mode": {
    "name": "ipython",
    "version": 3
   },
   "file_extension": ".py",
   "mimetype": "text/x-python",
   "name": "python",
   "nbconvert_exporter": "python",
   "pygments_lexer": "ipython3",
   "version": "3.9.7"
  }
 },
 "nbformat": 4,
 "nbformat_minor": 5
}
