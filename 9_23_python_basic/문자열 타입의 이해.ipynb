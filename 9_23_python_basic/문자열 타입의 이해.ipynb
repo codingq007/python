{
 "cells": [
  {
   "cell_type": "markdown",
   "id": "1ccb2d92",
   "metadata": {},
   "source": [
    "### String(문자열)\n",
    "\n",
    "- 문자를 나열한 것\n",
    "- 작은따옴표('), \"(큰 따옴표) 사이에 문자를 넣어서 생성\n",
    "- 여러줄에 걸쳐 문자열 표현 할 때는 \"\"\" \"\"\", ''' ''' 사이에 넣어서 생성"
   ]
  },
  {
   "cell_type": "code",
   "execution_count": 3,
   "id": "f43069c0",
   "metadata": {},
   "outputs": [
    {
     "name": "stdout",
     "output_type": "stream",
     "text": [
      "\"Hello\" World!!\n"
     ]
    }
   ],
   "source": [
    "a = '\"Hello\" World!!'\n",
    "\n",
    "print(a)"
   ]
  },
  {
   "cell_type": "code",
   "execution_count": 6,
   "id": "74a4ebf8",
   "metadata": {},
   "outputs": [
    {
     "name": "stdout",
     "output_type": "stream",
     "text": [
      "Hello\n",
      "\n",
      "World\n",
      "\n",
      "Hello\n",
      "World!!!\n"
     ]
    }
   ],
   "source": [
    "b = '''Hello\n",
    "\n",
    "World\n",
    "'''\n",
    "\n",
    "c = \"\"\"Hello\n",
    "World!!!\"\"\"\n",
    "\n",
    "print(b)\n",
    "print(c)"
   ]
  },
  {
   "cell_type": "code",
   "execution_count": 10,
   "id": "1e95ef9b",
   "metadata": {},
   "outputs": [
    {
     "ename": "SyntaxError",
     "evalue": "invalid syntax (Temp/ipykernel_20200/4146196661.py, line 1)",
     "output_type": "error",
     "traceback": [
      "\u001b[1;36m  File \u001b[1;32m\"C:\\Users\\t\\AppData\\Local\\Temp/ipykernel_20200/4146196661.py\"\u001b[1;36m, line \u001b[1;32m1\u001b[0m\n\u001b[1;33m    multi =\u001b[0m\n\u001b[1;37m           ^\u001b[0m\n\u001b[1;31mSyntaxError\u001b[0m\u001b[1;31m:\u001b[0m invalid syntax\n"
     ]
    }
   ],
   "source": [
    "multi =\n",
    "\"\"\" Hello\n",
    "\n",
    "World!!!\n",
    "\"\"\"\n",
    "\n",
    "print(multi)"
   ]
  },
  {
   "cell_type": "code",
   "execution_count": 14,
   "id": "9d9edf96",
   "metadata": {},
   "outputs": [
    {
     "name": "stdout",
     "output_type": "stream",
     "text": [
      " Hello\n",
      "\n",
      "World!!!\n",
      "\n"
     ]
    }
   ],
   "source": [
    "# 다음 라인에 이어서 명령을 사용할 때 \\를 이용한다.\n",
    "multi2 = \\\n",
    "\"\"\" Hello\n",
    "\n",
    "World!!!\n",
    "\"\"\"\n",
    "\n",
    "print(multi2)"
   ]
  },
  {
   "cell_type": "markdown",
   "id": "08974da5",
   "metadata": {},
   "source": [
    "### 문자열 연산"
   ]
  },
  {
   "cell_type": "code",
   "execution_count": 21,
   "id": "72c1f469",
   "metadata": {},
   "outputs": [
    {
     "name": "stdout",
     "output_type": "stream",
     "text": [
      "apple orange\n",
      "apple3\n",
      "True\n",
      "False\n",
      "True\n"
     ]
    }
   ],
   "source": [
    "str1 = '*'\n",
    "# print(str1 * 3) # 문자열에서 * 는 반복의 개념\n",
    "# print(str1 + 3) # 형(type)이 다르기 때문에 에러\n",
    "\n",
    "str2 = \" orange\"\n",
    "str3 =\"apple\"\n",
    "str4 = '3'\n",
    "\n",
    "print(str3 + str2)\n",
    "print(str3 + str4)\n",
    "\n",
    "\n",
    "str5 = \"Niceman\"\n",
    "\n",
    "print('a' in str5)\n",
    "print('x' in str5)\n",
    "print('z' not in str5)\n"
   ]
  },
  {
   "cell_type": "markdown",
   "id": "9552cffb",
   "metadata": {},
   "source": [
    "### 문자열 형변환"
   ]
  },
  {
   "cell_type": "code",
   "execution_count": 24,
   "id": "9f6fea60",
   "metadata": {},
   "outputs": [
    {
     "name": "stdout",
     "output_type": "stream",
     "text": [
      "77\n",
      "<class 'str'>\n",
      "77aa\n"
     ]
    }
   ],
   "source": [
    "print(str(77))\n",
    "print(type(str(77)))\n",
    "\n",
    "\n",
    "print(str(77) + 'aa')"
   ]
  },
  {
   "cell_type": "markdown",
   "id": "860e554a",
   "metadata": {},
   "source": [
    "#### escape string(이스케이프 문자)\n",
    "- \\n : new line, \\t : tab 등 "
   ]
  },
  {
   "cell_type": "code",
   "execution_count": 28,
   "id": "3c01d35b",
   "metadata": {},
   "outputs": [
    {
     "name": "stdout",
     "output_type": "stream",
     "text": [
      "Hello World!!\n",
      "\n",
      "\n",
      "반갑\t습니다.....\n"
     ]
    }
   ],
   "source": [
    "print(\"Hello World!!\\n\\n\")\n",
    "print(\"반갑\\t습니다.....\")"
   ]
  },
  {
   "cell_type": "code",
   "execution_count": 31,
   "id": "7da87e7c",
   "metadata": {},
   "outputs": [
    {
     "name": "stdout",
     "output_type": "stream",
     "text": [
      "Do you have a \"big collection\"?\n",
      "What's on Tv?\n"
     ]
    }
   ],
   "source": [
    "escape_str1 = \"Do you have a \\\"big collection\\\"?\"\n",
    "escape_str2 = 'What\\'s on Tv?'\n",
    "\n",
    "print(escape_str1)\n",
    "print(escape_str2)"
   ]
  },
  {
   "cell_type": "code",
   "execution_count": 43,
   "id": "8b29f795",
   "metadata": {},
   "outputs": [
    {
     "name": "stdout",
     "output_type": "stream",
     "text": [
      "c:\\Programs\\python3\\'\n",
      "\\\"'\n"
     ]
    }
   ],
   "source": [
    "# Raw String : r'', r\"\"\n",
    "\n",
    "raw_s1 = r'c:\\Programs\\python3\\\"'\n",
    "\n",
    "\n",
    "raw_s2 = r\"\\\"'\"\n",
    "\n",
    "print(raw_s1)\n",
    "print(raw_s2)\n",
    "\n"
   ]
  },
  {
   "cell_type": "markdown",
   "id": "645d0db5",
   "metadata": {},
   "source": [
    "### indexing & slicing string(문자열 인덱스 및 추출)\n"
   ]
  },
  {
   "cell_type": "code",
   "execution_count": 41,
   "id": "6596db6c",
   "metadata": {},
   "outputs": [
    {
     "name": "stdout",
     "output_type": "stream",
     "text": [
      "d\n",
      "l\n"
     ]
    }
   ],
   "source": [
    "a = 'Hello World' \n",
    "\n",
    "print(a[10])\n",
    "print(a[-2])"
   ]
  },
  {
   "cell_type": "markdown",
   "id": "690137ca",
   "metadata": {},
   "source": [
    "### 문자열 슬라이싱(slicing)\n",
    "- 인덱스는 하나의 문자만을 추출\n",
    "- slicing은 부분 문자열을 추출\n",
    "- [시작:끝]과 같이 명시"
   ]
  },
  {
   "cell_type": "code",
   "execution_count": 49,
   "id": "d3d55466",
   "metadata": {},
   "outputs": [
    {
     "name": "stdout",
     "output_type": "stream",
     "text": [
      "Hello World\n",
      "H\n",
      "Hello World\n",
      "Hello\n",
      "HloW\n",
      "dlroW olleH\n"
     ]
    }
   ],
   "source": [
    "a = 'Hello World'\n",
    "\n",
    "print(a[0:11])\n",
    "print(a[0:1])\n",
    "\n",
    "print(a[:])\n",
    "print(a[:5])\n",
    "\n",
    "print(a[0:7:2])\n",
    "print(a[::-1]) # 역순"
   ]
  },
  {
   "cell_type": "markdown",
   "id": "2a0d365c",
   "metadata": {},
   "source": [
    "### 문자열 함수\n",
    "- 문자열을 다루기 쉽게 제공하는 내장함수"
   ]
  },
  {
   "cell_type": "code",
   "execution_count": 54,
   "id": "06371cd6",
   "metadata": {},
   "outputs": [
    {
     "name": "stdout",
     "output_type": "stream",
     "text": [
      "hello world\n",
      "False\n",
      "True\n",
      "Niceman\n"
     ]
    }
   ],
   "source": [
    "a = 'Hello World'\n",
    "a.upper()\n",
    "\n",
    "print(a.lower())\n",
    "\n",
    "b = 'niceman'\n",
    "\n",
    "print(b.endswith('e')) # 끝 글자가 e 로 끝나는지 여부\n",
    "\n",
    "print(b.islower())\n",
    "print(b.capitalize()) # 첫글자 대문자\n"
   ]
  },
  {
   "cell_type": "code",
   "execution_count": 55,
   "id": "d1f55413",
   "metadata": {},
   "outputs": [
    {
     "data": {
      "text/plain": [
       "'kello world'"
      ]
     },
     "execution_count": 55,
     "metadata": {},
     "output_type": "execute_result"
    }
   ],
   "source": [
    "# replace() : 특정 문자를 치환\n",
    "\n",
    "a = 'hello world'\n",
    "a.replace('h','k')"
   ]
  },
  {
   "cell_type": "markdown",
   "id": "d03a1f46",
   "metadata": {},
   "source": [
    "### format"
   ]
  },
  {
   "cell_type": "code",
   "execution_count": 59,
   "id": "25627b0c",
   "metadata": {},
   "outputs": [
    {
     "name": "stdout",
     "output_type": "stream",
     "text": [
      "오늘 기온25.5도 이고, 비올 확률은 80.0% 입니다!!\n",
      "오늘 기온25.5도 이고, 비올 확률은 80.0% 입니다!!\n"
     ]
    }
   ],
   "source": [
    "# format\n",
    "temperature = 25.5\n",
    "p = 80.0\n",
    "\n",
    "a = '오늘 기온{}도 이고, 비올 확률은 {}% 입니다!!'.format(temperature, p)\n",
    "\n",
    "b = f'오늘 기온{temperature}도 이고, 비올 확률은 {p}% 입니다!!'\n",
    "\n",
    "print(a)\n",
    "print(b)"
   ]
  },
  {
   "cell_type": "code",
   "execution_count": 61,
   "id": "bb680ef5",
   "metadata": {},
   "outputs": [
    {
     "name": "stdout",
     "output_type": "stream",
     "text": [
      "kim's favorite number is 7\n",
      "Test1 :   776, Price: 6544.12\n"
     ]
    }
   ],
   "source": [
    "# %d: 정수, %f: 실수, %s: 문자\n",
    "print(\"%s's favorite number is %d\" %('kim', 7))\n",
    "\n",
    "print(\"Test1 : %5d, Price: %4.2f\" %(776, 6544.1234))\n",
    "\n"
   ]
  },
  {
   "cell_type": "markdown",
   "id": "286ad807",
   "metadata": {},
   "source": [
    "### split\n",
    "- 문자열을 특정한 문자로 구분하여(delimiter) 문자열의 리스트로 치환\n"
   ]
  },
  {
   "cell_type": "code",
   "execution_count": 62,
   "id": "f8824e6f",
   "metadata": {},
   "outputs": [
    {
     "data": {
      "text/plain": [
       "['hello ', 'orld ', 'hat a nice ', 'eather']"
      ]
     },
     "execution_count": 62,
     "metadata": {},
     "output_type": "execute_result"
    }
   ],
   "source": [
    "a = 'hello world what a nice weather'\n",
    "a.split('w')"
   ]
  },
  {
   "cell_type": "code",
   "execution_count": 63,
   "id": "f7bf12f6",
   "metadata": {
    "scrolled": true
   },
   "outputs": [
    {
     "data": {
      "text/plain": [
       "['손흥민', '한국', '프리미어리그', '윙어']"
      ]
     },
     "execution_count": 63,
     "metadata": {},
     "output_type": "execute_result"
    }
   ],
   "source": [
    "a = '손흥민/한국/프리미어리그/윙어'\n",
    "a.split('/')"
   ]
  },
  {
   "cell_type": "markdown",
   "id": "5118db11",
   "metadata": {},
   "source": [
    "### len\n",
    "- 문자열의 길이를 알고자 할 때 사용하는 함수"
   ]
  },
  {
   "cell_type": "code",
   "execution_count": 65,
   "id": "6c96592c",
   "metadata": {},
   "outputs": [
    {
     "name": "stdout",
     "output_type": "stream",
     "text": [
      "9 7 0 0\n",
      "4\n"
     ]
    }
   ],
   "source": [
    "str1 = \"I am Boy.\"\n",
    "str2 = 'NiceMan'\n",
    "str3 = ''\n",
    "str4 = str()\n",
    "str5 = str('good')\n",
    "\n",
    "print(len(str1), len(str2),len(str3),len(str4))\n",
    "print(len(str5))\n"
   ]
  }
 ],
 "metadata": {
  "kernelspec": {
   "display_name": "Python 3 (ipykernel)",
   "language": "python",
   "name": "python3"
  },
  "language_info": {
   "codemirror_mode": {
    "name": "ipython",
    "version": 3
   },
   "file_extension": ".py",
   "mimetype": "text/x-python",
   "name": "python",
   "nbconvert_exporter": "python",
   "pygments_lexer": "ipython3",
   "version": "3.9.7"
  }
 },
 "nbformat": 4,
 "nbformat_minor": 5
}
