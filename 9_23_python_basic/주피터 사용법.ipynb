{
 "cells": [
  {
   "cell_type": "markdown",
   "id": "6a13f73e",
   "metadata": {},
   "source": [
    "# Hello Python\n",
    "## Hello python\n",
    "### Hello python\n",
    "#### Hello python\n",
    "\n",
    "**python** 입니다\n",
    "\n",
    "- python\n",
    " - pandas\n",
    "  - sub1\n",
    "  - sub2\n",
    " - numpy\n",
    "- java\n",
    "- c언어\n",
    "\n",
    "1. python\n",
    "2. java\n",
    "3. c\n",
    "\n",
    "> 파이썬은 쉬운 언어이다....!!!"
   ]
  },
  {
   "cell_type": "markdown",
   "id": "c4ebff7f",
   "metadata": {},
   "source": [
    "### Print 구문의 이해"
   ]
  },
  {
   "cell_type": "code",
   "execution_count": 5,
   "id": "78b07493",
   "metadata": {},
   "outputs": [
    {
     "name": "stdout",
     "output_type": "stream",
     "text": [
      "Hello Python!!!\n"
     ]
    }
   ],
   "source": [
    "# 기본 출력\n",
    "print(\"Hello Python!!!\")"
   ]
  },
  {
   "cell_type": "markdown",
   "id": "8979aff9",
   "metadata": {},
   "source": [
    "### separator 옵션"
   ]
  },
  {
   "cell_type": "code",
   "execution_count": 12,
   "id": "ad9e245d",
   "metadata": {},
   "outputs": [
    {
     "name": "stdout",
     "output_type": "stream",
     "text": [
      "T      E      S      T\n",
      "2019-02-19\n",
      "niceman@google.com\n"
     ]
    }
   ],
   "source": [
    "print('T', 'E', 'S', 'T')\n",
    "print('2019', '02', '19', sep='-')\n",
    "print('niceman', 'google.com', sep='@')"
   ]
  },
  {
   "cell_type": "markdown",
   "id": "20e0af18",
   "metadata": {},
   "source": [
    "### end 옵션"
   ]
  },
  {
   "cell_type": "code",
   "execution_count": 10,
   "id": "b1d34fff",
   "metadata": {},
   "outputs": [
    {
     "name": "stdout",
     "output_type": "stream",
     "text": [
      "Welcome To\n",
      "the black parade\n"
     ]
    }
   ],
   "source": [
    "print('Welcome To')\n",
    "print('the black parade')"
   ]
  },
  {
   "cell_type": "code",
   "execution_count": 9,
   "id": "77018f38",
   "metadata": {},
   "outputs": [
    {
     "name": "stdout",
     "output_type": "stream",
     "text": [
      "Welcome To the black parade xxxxx\n"
     ]
    }
   ],
   "source": [
    "print('Welcome To', end=' ')\n",
    "print('the black parade', end=' ')\n",
    "print('xxxxx')"
   ]
  }
 ],
 "metadata": {
  "kernelspec": {
   "display_name": "Python 3 (ipykernel)",
   "language": "python",
   "name": "python3"
  },
  "language_info": {
   "codemirror_mode": {
    "name": "ipython",
    "version": 3
   },
   "file_extension": ".py",
   "mimetype": "text/x-python",
   "name": "python",
   "nbconvert_exporter": "python",
   "pygments_lexer": "ipython3",
   "version": "3.9.7"
  }
 },
 "nbformat": 4,
 "nbformat_minor": 5
}
