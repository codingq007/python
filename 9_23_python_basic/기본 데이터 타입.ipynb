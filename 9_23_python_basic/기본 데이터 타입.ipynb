{
 "cells": [
  {
   "cell_type": "markdown",
   "id": "37865ca7",
   "metadata": {},
   "source": [
    "### 기본 데이터 타입(자료형)\n",
    "\n",
    "- 정수(int)\n",
    "- 실수(float)\n",
    "- 문자열(str)\n",
    "- 불리언(boolean)\n",
    "\n",
    "#### type함수\n",
    "- 해당 변수가 어떤 타입(type)을 알고자 할 때 사용하는 함수"
   ]
  },
  {
   "cell_type": "code",
   "execution_count": 5,
   "id": "48fce133",
   "metadata": {
    "scrolled": true
   },
   "outputs": [
    {
     "name": "stdout",
     "output_type": "stream",
     "text": [
      "<class 'int'>\n",
      "<class 'float'>\n",
      "None\n"
     ]
    }
   ],
   "source": [
    "a = 100\n",
    "b = 33.3\n",
    "\n",
    "c = None # None은 아무런 값을 갖지 않을 때 사용\n",
    "\n",
    "print(type(a))\n",
    "print(type(b))\n",
    "\n",
    "print(c)"
   ]
  },
  {
   "cell_type": "markdown",
   "id": "8749905f",
   "metadata": {},
   "source": [
    "### 몫, 나머지 연산자\n",
    "- //, %\n",
    "\n",
    "\n"
   ]
  },
  {
   "cell_type": "code",
   "execution_count": 8,
   "id": "af11f7bb",
   "metadata": {},
   "outputs": [
    {
     "name": "stdout",
     "output_type": "stream",
     "text": [
      "i2 // i1 :  10\n",
      "i1 % i2 :  10\n"
     ]
    }
   ],
   "source": [
    "i1 = 10\n",
    "i2 = 100\n",
    "\n",
    "print(\"i2 // i1 : \", i2// i1)\n",
    "print(\"i1 % i2 : \", i1 % i2 )"
   ]
  },
  {
   "cell_type": "markdown",
   "id": "50ff53ee",
   "metadata": {},
   "source": [
    "### 형변환(Casting: 캐스팅)"
   ]
  },
  {
   "cell_type": "code",
   "execution_count": 19,
   "id": "10084f58",
   "metadata": {},
   "outputs": [
    {
     "name": "stdout",
     "output_type": "stream",
     "text": [
      "<class 'float'> <class 'int'> <class 'float'> <class 'float'>\n",
      "9.0\n",
      "<class 'float'>\n",
      "9\n",
      "4.0\n",
      "0\n",
      "1\n",
      "1.0\n",
      "3\n"
     ]
    }
   ],
   "source": [
    "a = 5.\n",
    "b = 4\n",
    "c = .4\n",
    "d = 7.7\n",
    "\n",
    "print(type(a), type(b), type(c), type(d))\n",
    "\n",
    "result = a + b # 정수 + 실수 = 실수\n",
    "print(result)\n",
    "print(type(result))\n",
    "print(int(result))\n",
    "\n",
    "\n",
    "print(float(b))\n",
    "print(int(c))\n",
    "\n",
    "\n",
    "print(int(True)) # Bool -> 정수\n",
    "print(float(True))\n",
    "\n",
    "print(int('3')) #숫자형 문자 -> 정수\n",
    "\n",
    "\n"
   ]
  },
  {
   "cell_type": "markdown",
   "id": "f327de3c",
   "metadata": {},
   "source": [
    "### 수치 연산 함수"
   ]
  },
  {
   "cell_type": "code",
   "execution_count": 22,
   "id": "a0c79831",
   "metadata": {},
   "outputs": [
    {
     "name": "stdout",
     "output_type": "stream",
     "text": [
      "9\n",
      "12 4\n",
      "125\n"
     ]
    }
   ],
   "source": [
    "print(abs(-9))\n",
    "x, y = divmod(100, 8) # 몫, 나머지\n",
    "print(x, y)\n",
    "print(pow(5, 3)) # 5 ^ 3"
   ]
  },
  {
   "cell_type": "code",
   "execution_count": 32,
   "id": "b6c4af3a",
   "metadata": {},
   "outputs": [
    {
     "name": "stdout",
     "output_type": "stream",
     "text": [
      "4\n",
      "3\n",
      "6\n",
      "6\n",
      "5\n",
      "5\n",
      "-4\n",
      "3.141592653589793\n"
     ]
    }
   ],
   "source": [
    "print(round(3.5))\n",
    "print(round(3.3))\n",
    "\n",
    "# 외부 모듈을 불러오기\n",
    "import math as m\n",
    "\n",
    "# ceil함수\n",
    "print(m.ceil(5.1))\n",
    "print(m.ceil(5.8))\n",
    "\n",
    "# floor함수\n",
    "print(m.floor(5.1))\n",
    "print(m.floor(5.9))\n",
    "print(m.floor(-3.5))\n",
    "\n",
    "\n",
    "#pi\n",
    "print(m.pi)"
   ]
  }
 ],
 "metadata": {
  "kernelspec": {
   "display_name": "Python 3 (ipykernel)",
   "language": "python",
   "name": "python3"
  },
  "language_info": {
   "codemirror_mode": {
    "name": "ipython",
    "version": 3
   },
   "file_extension": ".py",
   "mimetype": "text/x-python",
   "name": "python",
   "nbconvert_exporter": "python",
   "pygments_lexer": "ipython3",
   "version": "3.9.7"
  }
 },
 "nbformat": 4,
 "nbformat_minor": 5
}
