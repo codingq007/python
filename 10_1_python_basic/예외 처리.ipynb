{
 "cells": [
  {
   "cell_type": "markdown",
   "id": "ff34bb3c",
   "metadata": {},
   "source": [
    "### 예외처리 기본 구문\n",
    "- try : 에러가 발생이 예상되는 코드를 실행하는 블럭\n",
    "- except 에러명1(ValueError) : 에러를 받아서 처리해주는 블럭\n",
    "- except 에러명2(TypeError) : except 블럭은 여러개 사용 가능\n",
    "- else : try블럭에서 에러가 없이 수행될 경우 실행되는 블럭\n",
    "- finally : 반드시 실행되는 블럭"
   ]
  },
  {
   "cell_type": "code",
   "execution_count": 3,
   "id": "98b7e0e7",
   "metadata": {},
   "outputs": [
    {
     "name": "stdout",
     "output_type": "stream",
     "text": [
      "1는 대한민국 도시 입니다\n",
      "Okay!!!\n"
     ]
    }
   ],
   "source": [
    "# e.g>\n",
    "city = ['Seoul', 'Daegu', 'Daejeon']\n",
    "\n",
    "try:\n",
    "    a = 'Seoul'\n",
    "#     a = 'Pusan'\n",
    "    b = city.index(a)\n",
    "    print(f'{b+1}는 대한민국 도시 입니다')\n",
    "    \n",
    "except ValueError:\n",
    "    print('에러발생')\n",
    "    print('참조 Value 가 없습니다!!!')\n",
    "    \n",
    "else:\n",
    "    print('Okay!!!')"
   ]
  },
  {
   "cell_type": "code",
   "execution_count": 6,
   "id": "d18c0a84",
   "metadata": {},
   "outputs": [
    {
     "name": "stdout",
     "output_type": "stream",
     "text": [
      "에러발생\n",
      "참조 Value 가 없습니다!!!\n"
     ]
    }
   ],
   "source": [
    "city = ['Seoul', 'Daegu', 'Daejeon']\n",
    "\n",
    "try:\n",
    "#     a = 'Seoul'\n",
    "    a = 'Pusan'\n",
    "    b = city.index(a)\n",
    "    print(f'{b+1}는 대한민국 도시 입니다')\n",
    "    \n",
    "except Exception: # Exception 생략 가능, 모든 에러를 처리하겠다는 의미\n",
    "    print('에러발생')\n",
    "    print('참조 Value 가 없습니다!!!')\n",
    "    \n",
    "else:\n",
    "    print('Okay!!!')"
   ]
  },
  {
   "cell_type": "code",
   "execution_count": 10,
   "id": "b099a466",
   "metadata": {},
   "outputs": [
    {
     "name": "stdout",
     "output_type": "stream",
     "text": [
      "1는 대한민국 도시 입니다\n",
      "Okay!!!\n",
      "반드시 실행\n"
     ]
    }
   ],
   "source": [
    "city = ['Seoul', 'Daegu', 'Daejeon']\n",
    "\n",
    "try:\n",
    "    a = 'Seoul'\n",
    "#     a = 'Pusan'\n",
    "    b = city.index(a)\n",
    "    print(f'{b+1}는 대한민국 도시 입니다')\n",
    "    \n",
    "except Exception as e: \n",
    "    print(e)\n",
    "else:\n",
    "    print('Okay!!!')\n",
    "    \n",
    "finally: # 반드시 실행되는 블럭\n",
    "    print('반드시 실행')"
   ]
  },
  {
   "cell_type": "code",
   "execution_count": 11,
   "id": "b2ed522a",
   "metadata": {},
   "outputs": [
    {
     "name": "stdout",
     "output_type": "stream",
     "text": [
      "에러 예상 코드\n",
      "반드시 실행\n"
     ]
    }
   ],
   "source": [
    "# 예외처리는 하지 않지만, 무조건 수행되는 코드\n",
    "try:\n",
    "    print('에러 예상 코드')\n",
    "finally:\n",
    "    print('반드시 실행')"
   ]
  },
  {
   "cell_type": "code",
   "execution_count": 12,
   "id": "fbbbf3f9",
   "metadata": {},
   "outputs": [
    {
     "name": "stdout",
     "output_type": "stream",
     "text": [
      "반드시 실행\n"
     ]
    }
   ],
   "source": [
    "city = ['Seoul', 'Daegu', 'Daejeon']\n",
    "\n",
    "try:\n",
    "#     a = 'Seoul'\n",
    "    a = 'Pusan'\n",
    "    b = city.index(a)\n",
    "    print(f'{b+1}는 대한민국 도시 입니다')\n",
    "    \n",
    "except : \n",
    "    pass # 임시로 에러 해결할 경우의 예외처리\n",
    "else:\n",
    "    print('Okay!!!')\n",
    "    \n",
    "finally: # 반드시 실행되는 블럭\n",
    "    print('반드시 실행')"
   ]
  },
  {
   "cell_type": "code",
   "execution_count": 15,
   "id": "99934e6c",
   "metadata": {},
   "outputs": [
    {
     "name": "stdout",
     "output_type": "stream",
     "text": [
      "참조 Value가 잘못 되었습니다...\n",
      "반드시 실행\n"
     ]
    }
   ],
   "source": [
    "city = ['Seoul', 'Daegu', 'Daejeon']\n",
    "\n",
    "try:\n",
    "#     a = 'Seoul'\n",
    "    a = 'Pusan'\n",
    "    b = city.index(a)\n",
    "    print(f'{b+1}는 대한민국 도시 입니다')\n",
    "    \n",
    "except ValueError: \n",
    "    print('참조 Value가 잘못 되었습니다...')\n",
    "except IndexError: \n",
    "    print('Index 에러 입니다...')\n",
    "except : \n",
    "    print('에러 발생!!!')    \n",
    "else:\n",
    "    print('Okay!!!')\n",
    "    \n",
    "finally: # 반드시 실행되는 블럭\n",
    "    print('반드시 실행')"
   ]
  },
  {
   "cell_type": "code",
   "execution_count": 16,
   "id": "0bdd9050",
   "metadata": {},
   "outputs": [
    {
     "ename": "SyntaxError",
     "evalue": "default 'except:' must be last (Temp/ipykernel_6200/3686770108.py, line 7)",
     "output_type": "error",
     "traceback": [
      "\u001b[1;36m  File \u001b[1;32m\"C:\\Users\\t\\AppData\\Local\\Temp/ipykernel_6200/3686770108.py\"\u001b[1;36m, line \u001b[1;32m7\u001b[0m\n\u001b[1;33m    print(f'{b+1}는 대한민국 도시 입니다')\u001b[0m\n\u001b[1;37m    ^\u001b[0m\n\u001b[1;31mSyntaxError\u001b[0m\u001b[1;31m:\u001b[0m default 'except:' must be last\n"
     ]
    }
   ],
   "source": [
    "city = ['Seoul', 'Daegu', 'Daejeon']\n",
    "\n",
    "try:\n",
    "#     a = 'Seoul'\n",
    "    a = 'Pusan'\n",
    "    b = city.index(a)\n",
    "    print(f'{b+1}는 대한민국 도시 입니다')\n",
    "except : # 모든 에러가 여기서 잡힘. SyntaxError: default 'except:' must be last\n",
    "    print('에러 발생!!!')       \n",
    "except ValueError: \n",
    "    print('참조 Value가 잘못 되었습니다...')\n",
    "except IndexError: \n",
    "    print('Index 에러 입니다...') \n",
    "else:\n",
    "    print('Okay!!!')\n",
    "    \n",
    "finally: # 반드시 실행되는 블럭\n",
    "    print('반드시 실행')"
   ]
  },
  {
   "cell_type": "code",
   "execution_count": 13,
   "id": "89c84040",
   "metadata": {},
   "outputs": [
    {
     "name": "stdout",
     "output_type": "stream",
     "text": [
      "파일이 없습니다....\n"
     ]
    },
    {
     "ename": "NameError",
     "evalue": "name 'fp' is not defined",
     "output_type": "error",
     "traceback": [
      "\u001b[1;31m---------------------------------------------------------------------------\u001b[0m",
      "\u001b[1;31mNameError\u001b[0m                                 Traceback (most recent call last)",
      "\u001b[1;32m~\\AppData\\Local\\Temp/ipykernel_6200/4056419193.py\u001b[0m in \u001b[0;36m<module>\u001b[1;34m\u001b[0m\n\u001b[0;32m      4\u001b[0m     \u001b[0mprint\u001b[0m\u001b[1;33m(\u001b[0m\u001b[1;34m'파일이 없습니다....'\u001b[0m\u001b[1;33m)\u001b[0m\u001b[1;33m\u001b[0m\u001b[1;33m\u001b[0m\u001b[0m\n\u001b[0;32m      5\u001b[0m \u001b[1;32mfinally\u001b[0m\u001b[1;33m:\u001b[0m\u001b[1;33m\u001b[0m\u001b[1;33m\u001b[0m\u001b[0m\n\u001b[1;32m----> 6\u001b[1;33m     \u001b[0mfp\u001b[0m\u001b[1;33m.\u001b[0m\u001b[0mclose\u001b[0m\u001b[1;33m(\u001b[0m\u001b[1;33m)\u001b[0m\u001b[1;33m\u001b[0m\u001b[1;33m\u001b[0m\u001b[0m\n\u001b[0m",
      "\u001b[1;31mNameError\u001b[0m: name 'fp' is not defined"
     ]
    }
   ],
   "source": [
    "try:\n",
    "    fp = open('test.txt', 'r')\n",
    "except:\n",
    "    print('파일이 없습니다....')\n",
    "finally:\n",
    "    fp.close()"
   ]
  },
  {
   "cell_type": "code",
   "execution_count": 17,
   "id": "19698f66",
   "metadata": {},
   "outputs": [
    {
     "name": "stdout",
     "output_type": "stream",
     "text": [
      "파일이 없습니다....\n",
      "name 'fp' is not defined\n"
     ]
    }
   ],
   "source": [
    "try:\n",
    "    try:\n",
    "        fp = open('test.txt', 'r')\n",
    "    except:\n",
    "        print('파일이 없습니다....')\n",
    "    finally:\n",
    "        fp.close()\n",
    "except Exception as e:\n",
    "    print(e)"
   ]
  },
  {
   "cell_type": "code",
   "execution_count": 19,
   "id": "ce3eb4bb",
   "metadata": {},
   "outputs": [
    {
     "name": "stdout",
     "output_type": "stream",
     "text": [
      "[Errno 2] No such file or directory: './test.txt'\n"
     ]
    }
   ],
   "source": [
    "try:\n",
    "    with open('./test.txt', 'r') as fp:\n",
    "        lines = fp.readlines()\n",
    "        print(lines)\n",
    "except Exception as e:\n",
    "    print(e)"
   ]
  },
  {
   "cell_type": "code",
   "execution_count": 21,
   "id": "496138d6",
   "metadata": {},
   "outputs": [
    {
     "name": "stdout",
     "output_type": "stream",
     "text": [
      "승인 거절 !!\n"
     ]
    }
   ],
   "source": [
    "# 예외 발생시키키 \n",
    "# 개발자가 집접 예외 발생(raise)\n",
    "\n",
    "try:\n",
    "#     id = 'kim'\n",
    "    id = 'lee'    \n",
    "    if id == 'kim':\n",
    "        print('OK 승인 완료')\n",
    "    else:\n",
    "        raise ValueError # kim이 아닌 경우에는 반드시 ValueError로 잡겠다는 의미\n",
    "except ValueError:\n",
    "    print('승인 거절 !!')\n",
    "except Exception as e:\n",
    "    print(e)\n",
    "    \n",
    "else:\n",
    "    print('Okay~~')"
   ]
  }
 ],
 "metadata": {
  "kernelspec": {
   "display_name": "Python 3 (ipykernel)",
   "language": "python",
   "name": "python3"
  },
  "language_info": {
   "codemirror_mode": {
    "name": "ipython",
    "version": 3
   },
   "file_extension": ".py",
   "mimetype": "text/x-python",
   "name": "python",
   "nbconvert_exporter": "python",
   "pygments_lexer": "ipython3",
   "version": "3.9.7"
  }
 },
 "nbformat": 4,
 "nbformat_minor": 5
}
