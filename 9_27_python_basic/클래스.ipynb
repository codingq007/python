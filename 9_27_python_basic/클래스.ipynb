{
 "cells": [
  {
   "cell_type": "markdown",
   "id": "9c1f6fab",
   "metadata": {},
   "source": [
    "### 객체지향 프로그래밍(OOP: Object-Oriented Programming)\n",
    "- 인간의 현실세계에 있는 모든 만물(객체)을 프로그램에 반영하여 프로그래밍 하는것\n",
    "- 우리가 인식할 수 있는 유무형의 물체는 모두 객체(object)라고 할 수 있다.\n",
    " - e.g> 자전거, 책상, 집, 정치, 윤리, 사회, 대기,...."
   ]
  },
  {
   "cell_type": "markdown",
   "id": "365105fa",
   "metadata": {},
   "source": [
    "#### 클래스(class) 란?\n",
    "- 객체(object)를 만들어 내기 위한 일종의 설계도(틀)와 같은 개념\n",
    "- 즉, 객체를 정의하기 위한 설계도(틀)\n",
    "- 이러한 클래스는 속성과 메소드(함수)로 이루어짐"
   ]
  },
  {
   "cell_type": "code",
   "execution_count": null,
   "id": "60684a6c",
   "metadata": {},
   "outputs": [],
   "source": [
    "'''\n",
    "ㅁ 클래스 선언\n",
    "\n",
    "class 클래스명:\n",
    "    속성\n",
    "    속성\n",
    "    함수(메소드)\n",
    "    함수(메소드)\n",
    "'''"
   ]
  },
  {
   "cell_type": "code",
   "execution_count": 2,
   "id": "8c668945",
   "metadata": {},
   "outputs": [],
   "source": [
    "class NameCard:\n",
    "# self는 만들어질 인스턴스(객체)를 의미한다.\n",
    "# 인스턴스가 만들어지면 자동으로 파이썬이 내부적으로 self에 전달해준다.\n",
    "    def set_info(self, name, email, addr):\n",
    "        self.name = name\n",
    "        self.email = email\n",
    "        self.addr = addr\n",
    "        \n",
    "    def print_info(self):\n",
    "        print('===================')\n",
    "        print('Name : ', self.name)\n",
    "        print('E-mail : ', self.email)\n",
    "        print('Address : ', self.addr)\n",
    "        print('===================')        "
   ]
  },
  {
   "cell_type": "code",
   "execution_count": 4,
   "id": "d6ae21ae",
   "metadata": {},
   "outputs": [
    {
     "name": "stdout",
     "output_type": "stream",
     "text": [
      "===================\n",
      "Name :  Kim\n",
      "E-mail :  kim@test.com\n",
      "Address :  Daejeon\n",
      "===================\n",
      "===================\n",
      "Name :  Lee\n",
      "E-mail :  lee@test.com\n",
      "Address :  Seoul\n",
      "===================\n"
     ]
    }
   ],
   "source": [
    "memberA = NameCard() # 객체화, 인스턴스화\n",
    "memberA.set_info('Kim', 'kim@test.com', 'Daejeon')\n",
    "\n",
    "memberB = NameCard()\n",
    "memberB.set_info('Lee', 'lee@test.com', 'Seoul')\n",
    "\n",
    "memberA.print_info()\n",
    "memberB.print_info()"
   ]
  },
  {
   "cell_type": "code",
   "execution_count": 5,
   "id": "b70fd6b9",
   "metadata": {},
   "outputs": [
    {
     "data": {
      "text/plain": [
       "'Kim'"
      ]
     },
     "execution_count": 5,
     "metadata": {},
     "output_type": "execute_result"
    }
   ],
   "source": [
    "memberA.name"
   ]
  },
  {
   "cell_type": "code",
   "execution_count": 6,
   "id": "cd12b52a",
   "metadata": {
    "scrolled": true
   },
   "outputs": [
    {
     "data": {
      "text/plain": [
       "'Lee'"
      ]
     },
     "execution_count": 6,
     "metadata": {},
     "output_type": "execute_result"
    }
   ],
   "source": [
    "memberB.name"
   ]
  },
  {
   "cell_type": "code",
   "execution_count": 10,
   "id": "15ec2285",
   "metadata": {},
   "outputs": [
    {
     "name": "stdout",
     "output_type": "stream",
     "text": [
      "<class '__main__.NameCard'>\n",
      "<class '__main__.NameCard'>\n",
      "2546389809184\n",
      "2546389809616\n"
     ]
    }
   ],
   "source": [
    "print(type(memberA))\n",
    "print(type(memberB))\n",
    "\n",
    "print(id(memberA))\n",
    "print(id(memberB))"
   ]
  }
 ],
 "metadata": {
  "kernelspec": {
   "display_name": "Python 3 (ipykernel)",
   "language": "python",
   "name": "python3"
  },
  "language_info": {
   "codemirror_mode": {
    "name": "ipython",
    "version": 3
   },
   "file_extension": ".py",
   "mimetype": "text/x-python",
   "name": "python",
   "nbconvert_exporter": "python",
   "pygments_lexer": "ipython3",
   "version": "3.9.7"
  }
 },
 "nbformat": 4,
 "nbformat_minor": 5
}
