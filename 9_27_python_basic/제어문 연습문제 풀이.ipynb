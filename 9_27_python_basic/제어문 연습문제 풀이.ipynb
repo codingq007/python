{
 "cells": [
  {
   "cell_type": "code",
   "execution_count": 8,
   "id": "d2cf6d27",
   "metadata": {
    "scrolled": true
   },
   "outputs": [
    {
     "name": "stdout",
     "output_type": "stream",
     "text": [
      "사과\n",
      "사과\n",
      "사과\n",
      "ab\n",
      "a/b\n",
      "a b c\n"
     ]
    }
   ],
   "source": [
    "# 1. 아래 딕셔너리에서 '가을'에 해당하는 과일을 출력하세요.\n",
    "q1 = {\"봄\": \"딸기\", \"여름\": \"토마토\", \"가을\": \"사과\"}\n",
    "\n",
    "for k in q1.keys():\n",
    "    if k == '가을':\n",
    "        print(q1[k])\n",
    "        \n",
    "for k, v in q1.items():\n",
    "    if k == '가을':\n",
    "        print(v)     \n",
    "        \n",
    "print(''.join([q1[s] for s in q1 if s == '가을'])) \n",
    "\n",
    "print(''.join(['a', 'b'])) \n",
    "\n",
    "print('/'.join(['a', 'b'])) \n",
    "\n",
    "\n",
    "print(' '.join(['a', 'b', 'c'])) \n",
    "\n",
    "# '구분자'.join(리스트)\n",
    "\n"
   ]
  },
  {
   "cell_type": "code",
   "execution_count": 11,
   "id": "5aba9230",
   "metadata": {},
   "outputs": [
    {
     "name": "stdout",
     "output_type": "stream",
     "text": [
      "사과없음\n"
     ]
    }
   ],
   "source": [
    "# 2. 아래 딕셔너리에서 '사과'가 포함되었는지 확인하세요.\n",
    "q2 = {\"봄\": \"딸기\", \"여름\": \"토마토\", \"가을\": \"메론\"}\n",
    "\n",
    "for k, v in q2.items():\n",
    "    if v == '사과':\n",
    "        print(k, v)\n",
    "        break\n",
    "else:\n",
    "    print(\"사과없음\")  "
   ]
  },
  {
   "cell_type": "code",
   "execution_count": 13,
   "id": "233eff75",
   "metadata": {},
   "outputs": [
    {
     "name": "stdout",
     "output_type": "stream",
     "text": [
      "B학점\n"
     ]
    }
   ],
   "source": [
    "# 3. 다음 점수 구간에 맞게 학점을 출력하세요.\n",
    "# 81 ~ 100 : A학점\n",
    "# 61 ~ 80 :  B학점\n",
    "# 41 ~ 60 :  C학점\n",
    "# 21 ~ 40 :  D학점\n",
    "#  0 ~ 20 :  E학점\n",
    "\n",
    "score = 68\n",
    "\n",
    "if score >= 81:\n",
    "    print('A학점')\n",
    "elif score >= 61:    \n",
    "    print('B학점')\n",
    "elif score >= 41:\n",
    "    print('C학점')    \n",
    "elif score >= 21:\n",
    "    print('D학점')    \n",
    "else:\n",
    "    print('E학점')"
   ]
  },
  {
   "cell_type": "code",
   "execution_count": 15,
   "id": "5821cc49",
   "metadata": {},
   "outputs": [
    {
     "name": "stdout",
     "output_type": "stream",
     "text": [
      "18\n",
      "max_n : 18\n"
     ]
    }
   ],
   "source": [
    "# 4. 다음 세 개의 숫자 중 가장 큰수를 출력하세요.(if문 사용) : 12, 6, 18\n",
    "\n",
    "a, b, c = 12, 6, 18\n",
    "li = [12, 6, 18]\n",
    "\n",
    "_max = a\n",
    "\n",
    "if b > a:\n",
    "    _max = b\n",
    "if c > b:\n",
    "    _max = c\n",
    "    \n",
    "print(_max)\n",
    "\n",
    "\n",
    "max_n = li[0]\n",
    "\n",
    "for n in li[1:]:\n",
    "    if max_n < n:\n",
    "        max_n = n\n",
    "        \n",
    "print('max_n :', max_n)"
   ]
  },
  {
   "cell_type": "code",
   "execution_count": null,
   "id": "73b7e7df",
   "metadata": {},
   "outputs": [],
   "source": [
    "# 5. 다음 주민등록 번호에서 7자리 숫자를 사용해서 남자, 여자를 판별하세요. (1,3 : 남자, 2,4 : 여자)\n",
    "s = '891022-2473837'\n",
    "\n",
    "if int(s[7]) % 2 == 0: # 1 또는 0\n",
    "    print('여자')\n",
    "else:\n",
    "    print('남자')"
   ]
  },
  {
   "cell_type": "code",
   "execution_count": 19,
   "id": "761b1add",
   "metadata": {},
   "outputs": [
    {
     "name": "stdout",
     "output_type": "stream",
     "text": [
      "갑을병\n",
      "갑을병\n",
      "['갑', '을', '병']\n"
     ]
    }
   ],
   "source": [
    "# 6. 다음 리스트 중에서 '정' 글자를 제외하고 출력하세요.\n",
    "q3 = [\"갑\", \"을\", \"병\", \"정\"]\n",
    "\n",
    "print(''.join([s for s in q3 if s != '정'])) # ''.join(['값', '을', '병'])\n",
    "\n",
    "for v in q3:\n",
    "    if v == \"정\":\n",
    "        continue\n",
    "    else:\n",
    "        print(v, end='')\n",
    "\n",
    "print()        \n",
    "# 리스트 컴프리헨션\n",
    "q66 = [x for x in q3 if x != '정']\n",
    "print(q66)        "
   ]
  },
  {
   "cell_type": "code",
   "execution_count": 22,
   "id": "a2011dbc",
   "metadata": {},
   "outputs": [
    {
     "name": "stdout",
     "output_type": "stream",
     "text": [
      "1,3,5,7,9,11,13,15,17,19,21,23,25,27,29,31,33,35,37,39,41,43,45,47,49,51,53,55,57,59,61,63,65,67,69,71,73,75,77,79,81,83,85,87,89,91,93,95,97,99,\n",
      "1 3 5 7 9 11 13 15 17 19 21 23 25 27 29 31 33 35 37 39 41 43 45 47 49 51 53 55 57 59 61 63 65 67 69 71 73 75 77 79 81 83 85 87 89 91 93 95 97 99\n"
     ]
    }
   ],
   "source": [
    "# 7. 1부터 100까지 자연수 중 '홀수'만 한 라인으로 출력 하세요.\n",
    "\n",
    "for n in range(1, 100):\n",
    "    if n % 2 != 0:\n",
    "        print(n, end=',')\n",
    "print()        \n",
    "print(' '.join([str(s) for s in range(1, 100) if int(s) % 2 == 1]))        "
   ]
  },
  {
   "cell_type": "code",
   "execution_count": 24,
   "id": "fa7a09d0",
   "metadata": {},
   "outputs": [
    {
     "name": "stdout",
     "output_type": "stream",
     "text": [
      "study python anaconda ['study', 'python', 'anaconda']\n"
     ]
    }
   ],
   "source": [
    "# 8. 아래 리스트 항목 중에서 5글자 이상의 단어만 출력하세요.\n",
    "q4 = [\"nice\", \"study\", \"python\", \"anaconda\", \"!\"]\n",
    "\n",
    "\n",
    "for v in q4:\n",
    "    if len(v) >= 5:\n",
    "        print(v, end=' ')\n",
    "        \n",
    "print([s for s in q4 if len(s) >= 5])        "
   ]
  },
  {
   "cell_type": "code",
   "execution_count": 27,
   "id": "a207704d",
   "metadata": {},
   "outputs": [
    {
     "name": "stdout",
     "output_type": "stream",
     "text": [
      "\n",
      "b c e h \n",
      "['b', 'c', 'e', 'h']\n",
      "b c e h "
     ]
    }
   ],
   "source": [
    "# 9. 아래 리스트 항목 중에서 소문자만 출력하세요.\n",
    "q5 = [\"A\", \"b\", \"c\", \"D\", \"e\", \"F\", \"G\", \"h\"]\n",
    "print()\n",
    "\n",
    "for v in q5:\n",
    "    if v.isupper():\n",
    "        continue\n",
    "    else:\n",
    "        print(v, end=' ')\n",
    "        \n",
    "print()        \n",
    "print([s for s in q5 if s.islower()])   \n",
    "\n",
    "for v in q5:\n",
    "    if v.islower():\n",
    "        print(v, end=' ')"
   ]
  },
  {
   "cell_type": "code",
   "execution_count": 29,
   "id": "17ac47d2",
   "metadata": {},
   "outputs": [
    {
     "name": "stdout",
     "output_type": "stream",
     "text": [
      "['a', 'B', 'C', 'd', 'E', 'f', 'g', 'H']\n"
     ]
    }
   ],
   "source": [
    "# 10. 아래 리스트 항목 중에서 소문자는 대문자로 대문자는 소문자로 출력하세요.\n",
    "# (List Comprehension 방식 일반 방식 모두 이용해보세요.)\n",
    "q6 = [\"A\", \"b\", \"c\", \"D\", \"e\", \"F\", \"G\", \"h\"]\n",
    "\n",
    "# for v in q6:\n",
    "#     if v.isupper():\n",
    "#         print(v.lower())\n",
    "#     else:\n",
    "#         print(v.upper())\n",
    "\n",
    "print([s.upper() if s.islower() else s.lower() for s in q6])"
   ]
  }
 ],
 "metadata": {
  "kernelspec": {
   "display_name": "Python 3 (ipykernel)",
   "language": "python",
   "name": "python3"
  },
  "language_info": {
   "codemirror_mode": {
    "name": "ipython",
    "version": 3
   },
   "file_extension": ".py",
   "mimetype": "text/x-python",
   "name": "python",
   "nbconvert_exporter": "python",
   "pygments_lexer": "ipython3",
   "version": "3.9.7"
  }
 },
 "nbformat": 4,
 "nbformat_minor": 5
}
