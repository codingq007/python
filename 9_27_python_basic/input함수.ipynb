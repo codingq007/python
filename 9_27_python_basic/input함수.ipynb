{
 "cells": [
  {
   "cell_type": "markdown",
   "id": "72334e38",
   "metadata": {},
   "source": [
    "### 사용자 입력을 받는 입력함수 input() "
   ]
  },
  {
   "cell_type": "code",
   "execution_count": 1,
   "id": "64a0b067",
   "metadata": {},
   "outputs": [
    {
     "name": "stdout",
     "output_type": "stream",
     "text": [
      "당신의 이름을 입력하세요: 홍길동\n",
      "당신의 이름은 홍길동 입니다.\n"
     ]
    }
   ],
   "source": [
    "yourName = input('당신의 이름을 입력하세요: ')\n",
    "print('당신의 이름은 {} 입니다.'.format(yourName))"
   ]
  },
  {
   "cell_type": "code",
   "execution_count": 2,
   "id": "bbbe62a9",
   "metadata": {},
   "outputs": [
    {
     "name": "stdout",
     "output_type": "stream",
     "text": [
      "당신의 나이를 입력하세요 : 22\n",
      "당신의 나이는 22세 입니다\n"
     ]
    }
   ],
   "source": [
    "age = input('당신의 나이를 입력하세요 : ')\n",
    "print('당신의 나이는 {}세 입니다'.format(age))"
   ]
  },
  {
   "cell_type": "code",
   "execution_count": 4,
   "id": "d88e4624",
   "metadata": {},
   "outputs": [
    {
     "name": "stdout",
     "output_type": "stream",
     "text": [
      "당신의 이름을 입력하세요: 홍길동\n",
      "당신의 나이를 입력하세요 : 22\n",
      "당신의 이름은 홍길동, 당신의 나이는 22세 입니다\n"
     ]
    }
   ],
   "source": [
    "yourName = input('당신의 이름을 입력하세요: ')\n",
    "age = input('당신의 나이를 입력하세요 : ')\n",
    "print('당신의 이름은 {}, 당신의 나이는 {}세 입니다'.format(yourName, age))"
   ]
  },
  {
   "cell_type": "code",
   "execution_count": 9,
   "id": "ff3b2bdc",
   "metadata": {},
   "outputs": [
    {
     "name": "stdout",
     "output_type": "stream",
     "text": [
      "당신의 이름과 나이를 입력하세요 [예: 홍길동 30] :김말똥\n"
     ]
    },
    {
     "ename": "ValueError",
     "evalue": "not enough values to unpack (expected 2, got 1)",
     "output_type": "error",
     "traceback": [
      "\u001b[1;31m---------------------------------------------------------------------------\u001b[0m",
      "\u001b[1;31mValueError\u001b[0m                                Traceback (most recent call last)",
      "\u001b[1;32m~\\AppData\\Local\\Temp/ipykernel_8600/553361868.py\u001b[0m in \u001b[0;36m<module>\u001b[1;34m\u001b[0m\n\u001b[1;32m----> 1\u001b[1;33m \u001b[0myourName\u001b[0m\u001b[1;33m,\u001b[0m \u001b[0mage\u001b[0m \u001b[1;33m=\u001b[0m \u001b[0minput\u001b[0m\u001b[1;33m(\u001b[0m\u001b[1;34m'당신의 이름과 나이를 입력하세요 [예: 홍길동 30] :'\u001b[0m\u001b[1;33m)\u001b[0m\u001b[1;33m.\u001b[0m\u001b[0msplit\u001b[0m\u001b[1;33m(\u001b[0m\u001b[1;33m)\u001b[0m\u001b[1;33m\u001b[0m\u001b[1;33m\u001b[0m\u001b[0m\n\u001b[0m\u001b[0;32m      2\u001b[0m \u001b[0mprint\u001b[0m\u001b[1;33m(\u001b[0m\u001b[1;34m'당신의 이름은 {}, 당신의 나이는 {}세 입니다'\u001b[0m\u001b[1;33m.\u001b[0m\u001b[0mformat\u001b[0m\u001b[1;33m(\u001b[0m\u001b[0myourName\u001b[0m\u001b[1;33m,\u001b[0m \u001b[0mage\u001b[0m\u001b[1;33m)\u001b[0m\u001b[1;33m)\u001b[0m\u001b[1;33m\u001b[0m\u001b[1;33m\u001b[0m\u001b[0m\n",
      "\u001b[1;31mValueError\u001b[0m: not enough values to unpack (expected 2, got 1)"
     ]
    }
   ],
   "source": [
    "yourName, age = input('당신의 이름과 나이를 입력하세요 [예: 홍길동 30] :').split()\n",
    "print('당신의 이름은 {}, 당신의 나이는 {}세 입니다'.format(yourName, age))"
   ]
  },
  {
   "cell_type": "code",
   "execution_count": 10,
   "id": "49655a59",
   "metadata": {},
   "outputs": [
    {
     "name": "stdout",
     "output_type": "stream",
     "text": [
      "당신의 이름과 나이를 입력하세요 [예: 홍길동 30] :홍길동\n",
      "이름과 나이를 띄어쓰기 하세요...\n",
      "당신의 이름과 나이를 입력하세요 [예: 홍길동 30] :김말똥 22\n",
      "당신의 이름은 김말똥, 당신의 나이는 22세 입니다\n"
     ]
    }
   ],
   "source": [
    "while True:\n",
    "    try:\n",
    "        yourName, age = input('당신의 이름과 나이를 입력하세요 [예: 홍길동 30] :').split()\n",
    "        print('당신의 이름은 {}, 당신의 나이는 {}세 입니다'.format(yourName, age))\n",
    "        break\n",
    "    except ValueError:\n",
    "        print('이름과 나이를 띄어쓰기 하세요...')"
   ]
  },
  {
   "cell_type": "code",
   "execution_count": 14,
   "id": "7d890eed",
   "metadata": {
    "scrolled": true
   },
   "outputs": [
    {
     "name": "stdout",
     "output_type": "stream",
     "text": [
      "원하는 단을 입력하세요 : 5\n",
      "5 x 1 = 5\n",
      "5 x 2 = 10\n",
      "5 x 3 = 15\n",
      "5 x 4 = 20\n",
      "5 x 5 = 25\n",
      "5 x 6 = 30\n",
      "5 x 7 = 35\n",
      "5 x 8 = 40\n",
      "5 x 9 = 45\n"
     ]
    }
   ],
   "source": [
    "# 구구단에서 원하는 단만 출력하기\n",
    "num = int(input('원하는 단을 입력하세요 : '))\n",
    "\n",
    "for i in range(1, 10):\n",
    "#     print(num, ' x ', i, ' = ', num*i )\n",
    "#     print('{} X {} = {}'.format(num, i, num*i))\n",
    "    print(f'{num} x {i} = {num*i}') # f스트링"
   ]
  },
  {
   "cell_type": "code",
   "execution_count": null,
   "id": "ff6baf35",
   "metadata": {},
   "outputs": [
    {
     "name": "stdout",
     "output_type": "stream",
     "text": [
      "시작단을 입력하세요 : 5\n",
      "마지막단을 입력하세요 : 3\n",
      "5 보다 큰값을 입력해주세요!!\n"
     ]
    }
   ],
   "source": [
    "# 시작단과 마지막 단을 입력받아서 원하는 단을 출력하기\n",
    "while 1:\n",
    "    start = int(input('시작단을 입력하세요 : '))\n",
    "    end = int(input('마지막단을 입력하세요 : '))\n",
    "    \n",
    "    if start < end: # 사용자가 제대로 입력하면\n",
    "        break\n",
    "    else:\n",
    "        print(start, \"보다 큰값을 입력해주세요!!\")\n",
    "\n",
    "for i in range(start, end+1):\n",
    "    for j in range(1, 10):\n",
    "        print(f'{i} X {j} = {i * j}')\n",
    "        if j == 9:\n",
    "              print()\n",
    "    "
   ]
  },
  {
   "cell_type": "code",
   "execution_count": 1,
   "id": "60aefa4c",
   "metadata": {
    "scrolled": true
   },
   "outputs": [
    {
     "name": "stdout",
     "output_type": "stream",
     "text": [
      "2 x 1 = 2\t3 x 1 = 3\t4 x 1 = 4\t5 x 1 = 5\t\n",
      "2 x 2 = 4\t3 x 2 = 6\t4 x 2 = 8\t5 x 2 = 10\t\n",
      "2 x 3 = 6\t3 x 3 = 9\t4 x 3 = 12\t5 x 3 = 15\t\n",
      "2 x 4 = 8\t3 x 4 = 12\t4 x 4 = 16\t5 x 4 = 20\t\n",
      "2 x 5 = 10\t3 x 5 = 15\t4 x 5 = 20\t5 x 5 = 25\t\n",
      "2 x 6 = 12\t3 x 6 = 18\t4 x 6 = 24\t5 x 6 = 30\t\n",
      "2 x 7 = 14\t3 x 7 = 21\t4 x 7 = 28\t5 x 7 = 35\t\n",
      "2 x 8 = 16\t3 x 8 = 24\t4 x 8 = 32\t5 x 8 = 40\t\n",
      "2 x 9 = 18\t3 x 9 = 27\t4 x 9 = 36\t5 x 9 = 45\t\n"
     ]
    }
   ],
   "source": [
    "# 구구단 가로 출력하기\n",
    "for i in range(1, 10):\n",
    "    for j in range(2, 6):\n",
    "        print(f'{j} x {i} = {i * j}', end='\\t')\n",
    "    print()"
   ]
  },
  {
   "cell_type": "code",
   "execution_count": null,
   "id": "e3084509",
   "metadata": {},
   "outputs": [],
   "source": [
    "'''\n",
    "[문제] 다음 메뉴에서 원하는 메뉴 번호를 선택했을 때\n",
    "       해당 출력 결과가 나오도록 프로그래밍 하세요.\n",
    "\n",
    "===========[ 메뉴 ]==========\n",
    " [1]. 원하는 단 출력하기    \n",
    " [2]. 구구단 세로 출력하기    \n",
    " [3]. 구구단 가로 출력하기    \n",
    " [4]. 종료하기    \n",
    "=============================\n",
    "> 메뉴 번호를 입력하세요 : \n",
    "\n",
    "'''"
   ]
  },
  {
   "cell_type": "code",
   "execution_count": null,
   "id": "0ce63ffb",
   "metadata": {},
   "outputs": [],
   "source": [
    "def menu_output():\n",
    "    print()\n",
    "#     print('==========[ 메뉴 ]===========')\n",
    "#     print(' [1]. 원하는 단 출력하기')    \n",
    "#     print(' [2]. 구구단 세로 출력하기')    \n",
    "#     print(' [3]. 구구단 가로 출력하기')    \n",
    "#     print(' [4]. 종료하기')    \n",
    "#     print('=============================')\n",
    "    \n",
    "    print('''\n",
    "    ==========[ 메뉴 ]===========\n",
    "     [1]. 원하는 단 출력하기\n",
    "     [2]. 구구단 세로 출력하기 \n",
    "     [3]. 구구단 가로 출력하기\n",
    "     [4]. 종료하기 \n",
    "    =============================     \n",
    "    ''')\n",
    "    \n",
    "    print()\n",
    "    print('> 메뉴 번호를 입력하세요 : ', end='')\n",
    "    \n",
    "    menu = int(input())\n",
    "    return menu\n",
    "\n",
    "def sel_num(num):\n",
    "    for m in range(1, 10):\n",
    "        print(f'{num} x {m} = {num * m}')\n",
    "\n",
    "# 세로 출력        \n",
    "def v_output():\n",
    "    for i in range(2, 10):\n",
    "        for j in range(1, 10):\n",
    "            print(f'{i} x {j} = {i * j}')\n",
    "        print()\n",
    "        \n",
    "# 가로출력\n",
    "def h_output():\n",
    "    for i in range(1, 10):\n",
    "        for j in range(2, 10):\n",
    "            print(f'{j} x {i} = {j * i}', end='\\t')\n",
    "        print()\n",
    "        \n",
    "# 메인 루프    \n",
    "while True:\n",
    "    menu = menu_output()    \n",
    "    \n",
    "    if menu == 1:\n",
    "        n = int(input('원하는 단을 입력하세요 : '))\n",
    "        sel_num(n)    \n",
    "    elif menu == 2:\n",
    "        v_output()\n",
    "    elif menu == 3:\n",
    "        h_output()\n",
    "    elif menu == 4:\n",
    "        print()\n",
    "        print('프로그램을 종료합니다.. bye ~')\n",
    "        break\n",
    "    else:\n",
    "        print()\n",
    "        print('[입력 오류] 메뉴를 다시 확인하세요 [ 1 ~ 4 ] ')\n",
    "    \n",
    "    "
   ]
  }
 ],
 "metadata": {
  "kernelspec": {
   "display_name": "Python 3 (ipykernel)",
   "language": "python",
   "name": "python3"
  },
  "language_info": {
   "codemirror_mode": {
    "name": "ipython",
    "version": 3
   },
   "file_extension": ".py",
   "mimetype": "text/x-python",
   "name": "python",
   "nbconvert_exporter": "python",
   "pygments_lexer": "ipython3",
   "version": "3.9.7"
  }
 },
 "nbformat": 4,
 "nbformat_minor": 5
}
