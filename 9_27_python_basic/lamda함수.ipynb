{
 "cells": [
  {
   "cell_type": "markdown",
   "id": "358540a3",
   "metadata": {},
   "source": [
    "### Lamda 함수\n",
    "- 단일문으로 표현되는 익명함수\n",
    "- 간단한 함수를 의미\n",
    "- 코드상에서 한번만 사용되는 기능이 있을 때, 굳이 함수로 만들지 않고 1회성으로 만들어서 사용할 때 주로 많이 사용"
   ]
  },
  {
   "cell_type": "code",
   "execution_count": 4,
   "id": "5f3deb69",
   "metadata": {},
   "outputs": [
    {
     "name": "stdout",
     "output_type": "stream",
     "text": [
      "<function square at 0x000002BB1FBB1280>\n",
      "<class 'function'>\n",
      "100\n"
     ]
    }
   ],
   "source": [
    "def square(x):\n",
    "    return x**2\n",
    "\n",
    "square(3)\n",
    "\n",
    "var_func = square # 함수 할당\n",
    "print(var_func)\n",
    "\n",
    "print(type(var_func))\n",
    "\n",
    "print(var_func(10))"
   ]
  },
  {
   "cell_type": "code",
   "execution_count": 7,
   "id": "afeda5c4",
   "metadata": {},
   "outputs": [
    {
     "name": "stdout",
     "output_type": "stream",
     "text": [
      "<class 'function'>\n"
     ]
    },
    {
     "data": {
      "text/plain": [
       "25"
      ]
     },
     "execution_count": 7,
     "metadata": {},
     "output_type": "execute_result"
    }
   ],
   "source": [
    "square = lambda x: x**2\n",
    "print(type(square))\n",
    "\n",
    "square(5)"
   ]
  },
  {
   "cell_type": "code",
   "execution_count": 10,
   "id": "4ee51b8d",
   "metadata": {},
   "outputs": [
    {
     "name": "stdout",
     "output_type": "stream",
     "text": [
      "300\n"
     ]
    }
   ],
   "source": [
    "def add(x, y):\n",
    "    return x + y\n",
    "\n",
    "add2 = lambda x, y:x+y\n",
    "\n",
    "add2(10, 20)\n",
    "# add(10, 20)\n",
    "\n",
    "def func2(x, y, func):\n",
    "    print(x*y*func)\n",
    "\n",
    "func2(10, 10, add2(1,2))"
   ]
  },
  {
   "cell_type": "markdown",
   "id": "a7930605",
   "metadata": {},
   "source": [
    "### lamda와 유용하게 사용되는 함수\n",
    "- filter : 특정 조건을 만족하는 요소만 남기고 필터링\n",
    "- map : 각 원소를 주어진 수식에 따라 변형하여 새로운 리스트로 반환"
   ]
  },
  {
   "cell_type": "code",
   "execution_count": 12,
   "id": "811485fd",
   "metadata": {},
   "outputs": [
    {
     "data": {
      "text/plain": [
       "False"
      ]
     },
     "execution_count": 12,
     "metadata": {},
     "output_type": "execute_result"
    }
   ],
   "source": [
    "def even(n):\n",
    "    return n % 2 == 0\n",
    "\n",
    "even(3)"
   ]
  },
  {
   "cell_type": "code",
   "execution_count": 14,
   "id": "82111877",
   "metadata": {},
   "outputs": [
    {
     "data": {
      "text/plain": [
       "[2, 6, 8, 10]"
      ]
     },
     "execution_count": 14,
     "metadata": {},
     "output_type": "execute_result"
    }
   ],
   "source": [
    "# filter(함수, 리스트)\n",
    "\n",
    "nums = [1,2,3,6,8,9, 10, 11, 13, 15]\n",
    "\n",
    "\n",
    "# nums에 있는 각 원소를 even 함수에 적용해서 짝수만, 즉 true값만 포함하고 나머지는 버림\n",
    "list(filter(lambda n:n%2 ==0, nums))\n"
   ]
  },
  {
   "cell_type": "code",
   "execution_count": 15,
   "id": "ed12d41e",
   "metadata": {},
   "outputs": [
    {
     "data": {
      "text/plain": [
       "[False, True, False, True, True, False, True, False, False, False]"
      ]
     },
     "execution_count": 15,
     "metadata": {},
     "output_type": "execute_result"
    }
   ],
   "source": [
    "# map(함수, 리스트)\n",
    "list(map(lambda n:n%2 == 0, nums))"
   ]
  },
  {
   "cell_type": "code",
   "execution_count": 18,
   "id": "45c34cac",
   "metadata": {},
   "outputs": [
    {
     "name": "stdout",
     "output_type": "stream",
     "text": [
      "False\n",
      "True\n",
      "True\n",
      "True\n"
     ]
    }
   ],
   "source": [
    "# 문제> 소수(1과 자기 자신으로만 나눠지는 수) 판별 함수 만들기\n",
    "# 입력 : 양의 정수 1개\n",
    "# 출력 : boolean(소수: True, 소수가아니면: False)\n",
    "\n",
    "# 11이 입력되면\n",
    "# 2, 3,4,5,6,7,8,.....10 로 나눠서 한번도 나눠지지 않으면 소수이다.\n",
    "\n",
    "def is_prime(num):\n",
    "    for i in range(2, num):\n",
    "        if num % i == 0:\n",
    "            return False\n",
    "    return True\n",
    "\n",
    "print(is_prime(100))\n",
    "print(is_prime(89))\n",
    "print(is_prime(3))\n",
    "print(is_prime(7))\n",
    "\n"
   ]
  },
  {
   "cell_type": "code",
   "execution_count": 20,
   "id": "3dcf74df",
   "metadata": {},
   "outputs": [
    {
     "name": "stdout",
     "output_type": "stream",
     "text": [
      "4\n",
      "3\n"
     ]
    }
   ],
   "source": [
    "# 문제> 소수개수 알아보기 함수\n",
    "# 입력 : 양의 정수 1개\n",
    "# 출력 : 해당 숫자 사이의 소수의 개수\n",
    "\n",
    "# 7 입력:\n",
    "# 2,3,4,5,6,7 -> 4\n",
    "\n",
    "# 5 입력:\n",
    "# 2,3,4,5 -> 3\n",
    "\n",
    "def is_prime(num):\n",
    "    for i in range(2, num):\n",
    "        if num % i == 0:\n",
    "            return False\n",
    "    return True\n",
    "\n",
    "def num_prime(num):\n",
    "    count = 0\n",
    "    for i in range(2, num+1):\n",
    "        if is_prime(i):\n",
    "            count +=1\n",
    "    return count\n",
    "\n",
    "print(num_prime(7))\n",
    "print(num_prime(5))"
   ]
  }
 ],
 "metadata": {
  "kernelspec": {
   "display_name": "Python 3 (ipykernel)",
   "language": "python",
   "name": "python3"
  },
  "language_info": {
   "codemirror_mode": {
    "name": "ipython",
    "version": 3
   },
   "file_extension": ".py",
   "mimetype": "text/x-python",
   "name": "python",
   "nbconvert_exporter": "python",
   "pygments_lexer": "ipython3",
   "version": "3.9.7"
  }
 },
 "nbformat": 4,
 "nbformat_minor": 5
}
