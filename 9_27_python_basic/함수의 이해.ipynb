{
 "cells": [
  {
   "cell_type": "markdown",
   "id": "277f7b75",
   "metadata": {},
   "source": [
    "### 함수"
   ]
  },
  {
   "cell_type": "code",
   "execution_count": 4,
   "id": "ec4bbac7",
   "metadata": {},
   "outputs": [
    {
     "name": "stdout",
     "output_type": "stream",
     "text": [
      "4\n",
      "10\n"
     ]
    }
   ],
   "source": [
    "# 내장함수\n",
    "a = [1,2,3,4]\n",
    "length = len(a)\n",
    "\n",
    "print(length)\n",
    "\n",
    "total = sum(a)\n",
    "print(total)"
   ]
  },
  {
   "cell_type": "code",
   "execution_count": 6,
   "id": "27967fbd",
   "metadata": {},
   "outputs": [],
   "source": [
    "def add(x, y):\n",
    "    n = x + y\n",
    "    return n\n",
    "\n",
    "\n",
    "add(10, 20)\n",
    "\n",
    "    "
   ]
  },
  {
   "cell_type": "code",
   "execution_count": 9,
   "id": "d0746c96",
   "metadata": {},
   "outputs": [
    {
     "name": "stdout",
     "output_type": "stream",
     "text": [
      "70\n"
     ]
    },
    {
     "ename": "TypeError",
     "evalue": "add() missing 1 required positional argument: 'y'",
     "output_type": "error",
     "traceback": [
      "\u001b[1;31m---------------------------------------------------------------------------\u001b[0m",
      "\u001b[1;31mTypeError\u001b[0m                                 Traceback (most recent call last)",
      "\u001b[1;32m~\\AppData\\Local\\Temp/ipykernel_15276/2226570192.py\u001b[0m in \u001b[0;36m<module>\u001b[1;34m\u001b[0m\n\u001b[0;32m      2\u001b[0m \u001b[0mprint\u001b[0m\u001b[1;33m(\u001b[0m\u001b[0mc\u001b[0m\u001b[1;33m)\u001b[0m\u001b[1;33m\u001b[0m\u001b[1;33m\u001b[0m\u001b[0m\n\u001b[0;32m      3\u001b[0m \u001b[1;33m\u001b[0m\u001b[0m\n\u001b[1;32m----> 4\u001b[1;33m \u001b[0mc\u001b[0m \u001b[1;33m=\u001b[0m \u001b[0madd\u001b[0m\u001b[1;33m(\u001b[0m\u001b[1;36m30\u001b[0m\u001b[1;33m)\u001b[0m\u001b[1;33m\u001b[0m\u001b[1;33m\u001b[0m\u001b[0m\n\u001b[0m\u001b[0;32m      5\u001b[0m \u001b[0mc\u001b[0m \u001b[1;33m=\u001b[0m \u001b[0madd\u001b[0m\u001b[1;33m(\u001b[0m\u001b[1;33m)\u001b[0m\u001b[1;33m\u001b[0m\u001b[1;33m\u001b[0m\u001b[0m\n",
      "\u001b[1;31mTypeError\u001b[0m: add() missing 1 required positional argument: 'y'"
     ]
    }
   ],
   "source": [
    "c = add(30, 40)\n",
    "print(c)\n",
    "\n",
    "# 오류\n",
    "# c = add(30)\n",
    "# c = add()\n"
   ]
  },
  {
   "cell_type": "markdown",
   "id": "50fd2bfb",
   "metadata": {},
   "source": [
    "### parameter(argument)\n",
    "- 함수에 전달되는 입력(input)\n",
    "- 입력이 필요할수 있고, 필요하지 않을 수도 있다."
   ]
  },
  {
   "cell_type": "code",
   "execution_count": 12,
   "id": "eef8395d",
   "metadata": {},
   "outputs": [
    {
     "name": "stdout",
     "output_type": "stream",
     "text": [
      "10 20\n",
      "30\n"
     ]
    }
   ],
   "source": [
    "# def test():\n",
    "#     print('hello')\n",
    "#     print('good')\n",
    "    \n",
    "#     return 100\n",
    "    \n",
    "# t = test()  \n",
    "\n",
    "# print(t)\n",
    "\n",
    "def test(x, y):\n",
    "    print(x, y)\n",
    "    n = x + y\n",
    "    return n\n",
    "\n",
    "a = test(10, 20)\n",
    "print(a)"
   ]
  },
  {
   "cell_type": "markdown",
   "id": "3c2feef4",
   "metadata": {},
   "source": [
    "### Default parameter(기본 인자)\n",
    "- 함수의 파라미터에 기본값을 지정\n",
    "- 파라미터를 명시하지 않았을 경우, 지정된 기본값으로 대체"
   ]
  },
  {
   "cell_type": "code",
   "execution_count": 15,
   "id": "c7e9e0f5",
   "metadata": {},
   "outputs": [
    {
     "name": "stdout",
     "output_type": "stream",
     "text": [
      "60\n",
      "35\n",
      "20\n"
     ]
    }
   ],
   "source": [
    "def add(x, y=5, z=5): # y, z는 인자의 초기값이 지정\n",
    "    a = x + y + z\n",
    "    return a\n",
    "\n",
    "print(add(10, 20, 30))\n",
    "print(add(10, 20))\n",
    "print(add(10))"
   ]
  },
  {
   "cell_type": "code",
   "execution_count": 19,
   "id": "52163002",
   "metadata": {},
   "outputs": [
    {
     "name": "stdout",
     "output_type": "stream",
     "text": [
      "2 3 4\n",
      "2!3!4%%%"
     ]
    }
   ],
   "source": [
    "# 기본 파라미터 사용예\n",
    "print(2,3,4)\n",
    "\n",
    "print(2,3,4, sep='!', end='%%%')"
   ]
  },
  {
   "cell_type": "code",
   "execution_count": null,
   "id": "52960366",
   "metadata": {},
   "outputs": [],
   "source": [
    "# Default Parameter 를 사용시 주의점\n",
    "\n",
    "# 디폴트 파라미터 뒤에 일반 파라미터가 위치할 수 없음.\n",
    "\n",
    "# e.g> 올바른 예\n",
    "# def test(a, b, c = 1)\n",
    "# def test(a, b=2, c = 1)\n",
    "# def test(a=1, b=3, c = 1)\n",
    "\n",
    "# e.g> 올바르지 않은 예\n",
    "# def test(a, b=1, c)\n",
    "# def test(a=1, b, c)\n",
    "# def test(a=1, b=3, c)\n",
    "\n",
    "\n",
    "\n",
    "\n"
   ]
  },
  {
   "cell_type": "code",
   "execution_count": 20,
   "id": "b97ebeec",
   "metadata": {},
   "outputs": [
    {
     "ename": "SyntaxError",
     "evalue": "non-default argument follows default argument (Temp/ipykernel_15276/4011649620.py, line 1)",
     "output_type": "error",
     "traceback": [
      "\u001b[1;36m  File \u001b[1;32m\"C:\\Users\\t\\AppData\\Local\\Temp/ipykernel_15276/4011649620.py\"\u001b[1;36m, line \u001b[1;32m1\u001b[0m\n\u001b[1;33m    def test(a=1, b=1, c):\u001b[0m\n\u001b[1;37m                        ^\u001b[0m\n\u001b[1;31mSyntaxError\u001b[0m\u001b[1;31m:\u001b[0m non-default argument follows default argument\n"
     ]
    }
   ],
   "source": [
    "def test(a=1, b=1, c):\n",
    "    print(a,b,c)\n",
    "    \n",
    "test(10,20,1)    "
   ]
  },
  {
   "cell_type": "code",
   "execution_count": 22,
   "id": "81853b99",
   "metadata": {},
   "outputs": [
    {
     "data": {
      "text/plain": [
       "24"
      ]
     },
     "execution_count": 22,
     "metadata": {},
     "output_type": "execute_result"
    }
   ],
   "source": [
    "# 키워드 파라미터 : 파라미터의 이름을 명시해서 전달\n",
    "def test(x, y, z):\n",
    "    a = x + y +z\n",
    "    return a\n",
    "\n",
    "test(x=10, y=5, z=10)\n",
    "\n",
    "test(x=10, z=11, y=3) # 순서를 바꿔도 상관 없음."
   ]
  },
  {
   "cell_type": "markdown",
   "id": "7872b93d",
   "metadata": {},
   "source": [
    "### return(리턴)\n",
    "- 기본적으로 함수의 종료를 의미\n",
    " - return 옆에 값이나 수식이 있으면 해당 값을 호출자에게 전달\n",
    " - return 만 존재하는 경우에는 None을 반환\n",
    " - return이 없는 경우, 기본적으로 함수의 코드 블록이 종료되면 종료로 간주, \n",
    "   이때도 None 반환\n",
    " \n",
    " "
   ]
  },
  {
   "cell_type": "code",
   "execution_count": 30,
   "id": "d6bab08e",
   "metadata": {},
   "outputs": [
    {
     "name": "stdout",
     "output_type": "stream",
     "text": [
      "11\n",
      "None\n"
     ]
    }
   ],
   "source": [
    "def aa_mul(x, y):\n",
    "    if x > 10:\n",
    "#         return x * y\n",
    "        return\n",
    "    \n",
    "    print(x + y)\n",
    "    # <----- 이부분에서는 return이 생략된  형태\n",
    "    \n",
    "# c = aa_mul(11, 2)\n",
    "c = aa_mul(9, 2)\n",
    "\n",
    "print(c)  \n",
    "    \n",
    "    "
   ]
  },
  {
   "cell_type": "markdown",
   "id": "c867278f",
   "metadata": {},
   "source": [
    "### multi return(다중 리턴)"
   ]
  },
  {
   "cell_type": "code",
   "execution_count": 27,
   "id": "974b2426",
   "metadata": {},
   "outputs": [
    {
     "name": "stdout",
     "output_type": "stream",
     "text": [
      "<class 'tuple'>\n",
      "(23, 60)\n"
     ]
    }
   ],
   "source": [
    "# tuple리턴\n",
    "def add_mul(x, y):\n",
    "    s = x + y\n",
    "    m = x * y\n",
    "    \n",
    "    return s, m\n",
    "\n",
    "c = add_mul(20, 3)\n",
    "print(type(c))\n",
    "print(c)\n",
    "\n",
    "\n",
    "# a, b = add_mul(20, 3)\n",
    "# print(a, b)"
   ]
  },
  {
   "cell_type": "code",
   "execution_count": 34,
   "id": "7dfab634",
   "metadata": {},
   "outputs": [
    {
     "name": "stdout",
     "output_type": "stream",
     "text": [
      "6 9 15\n",
      "(8, 12, 20) <class 'tuple'> [8, 12, 20]\n"
     ]
    }
   ],
   "source": [
    "def func_multi(x):\n",
    "    y1 = x * 2\n",
    "    y2 = x * 3    \n",
    "    y3 = x * 5    \n",
    "    return y1, y2, y3\n",
    "    \n",
    "v1, v2, v3 = func_multi(3)\n",
    "print(v1, v2, v3)\n",
    "\n",
    "tup = func_multi(4)\n",
    "\n",
    "print(tup, type(tup), list(tup))\n"
   ]
  },
  {
   "cell_type": "code",
   "execution_count": 37,
   "id": "63674ca5",
   "metadata": {},
   "outputs": [
    {
     "name": "stdout",
     "output_type": "stream",
     "text": [
      "[12, 18, 30] <class 'list'> {18, 12, 30}\n"
     ]
    }
   ],
   "source": [
    "# 리스트 리턴\n",
    "def func_multi2(x):\n",
    "    y1 = x * 2\n",
    "    y2 = x * 3    \n",
    "    y3 = x * 5    \n",
    "    return [y1, y2, y3]\n",
    "\n",
    "li = func_multi2(6)\n",
    "\n",
    "print(li, type(li), set(li))"
   ]
  },
  {
   "cell_type": "markdown",
   "id": "1b435332",
   "metadata": {},
   "source": [
    "### variable scope (변수의 범위)\n",
    "- 지역변수(local variable) : 코드 블록에서 선언된 변수\n",
    "- 전역변수(global variable) : 프로그램 종료 전까지 존재하는 변수"
   ]
  },
  {
   "cell_type": "code",
   "execution_count": 39,
   "id": "dedba3ec",
   "metadata": {},
   "outputs": [
    {
     "name": "stdout",
     "output_type": "stream",
     "text": [
      "123 400\n",
      "123\n"
     ]
    },
    {
     "ename": "NameError",
     "evalue": "name 'localVar' is not defined",
     "output_type": "error",
     "traceback": [
      "\u001b[1;31m---------------------------------------------------------------------------\u001b[0m",
      "\u001b[1;31mNameError\u001b[0m                                 Traceback (most recent call last)",
      "\u001b[1;32m~\\AppData\\Local\\Temp/ipykernel_15276/3892805750.py\u001b[0m in \u001b[0;36m<module>\u001b[1;34m\u001b[0m\n\u001b[0;32m      8\u001b[0m \u001b[1;33m\u001b[0m\u001b[0m\n\u001b[0;32m      9\u001b[0m \u001b[0mprint\u001b[0m\u001b[1;33m(\u001b[0m\u001b[0mgVar\u001b[0m\u001b[1;33m)\u001b[0m\u001b[1;33m\u001b[0m\u001b[1;33m\u001b[0m\u001b[0m\n\u001b[1;32m---> 10\u001b[1;33m \u001b[0mprint\u001b[0m\u001b[1;33m(\u001b[0m\u001b[0mlocalVar\u001b[0m\u001b[1;33m)\u001b[0m\u001b[1;33m\u001b[0m\u001b[1;33m\u001b[0m\u001b[0m\n\u001b[0m\u001b[0;32m     11\u001b[0m \u001b[1;33m\u001b[0m\u001b[0m\n\u001b[0;32m     12\u001b[0m \u001b[1;33m\u001b[0m\u001b[0m\n",
      "\u001b[1;31mNameError\u001b[0m: name 'localVar' is not defined"
     ]
    }
   ],
   "source": [
    "gVar = 123 #전역변수\n",
    "\n",
    "def print_number():\n",
    "    localVar = 400 # 지역변수\n",
    "    print(gVar, localVar)# 함수내에서는 지역변수와 전역변수 접근이 가능\n",
    "\n",
    "print_number() \n",
    "\n",
    "print(gVar) # 전역변수 접근 가능\n",
    "print(localVar) # 지역변수 접근불가\n",
    "\n",
    "    "
   ]
  },
  {
   "cell_type": "code",
   "execution_count": 41,
   "id": "4671e2b1",
   "metadata": {},
   "outputs": [
    {
     "name": "stdout",
     "output_type": "stream",
     "text": [
      "Local : 200\n",
      "Global:  100\n"
     ]
    }
   ],
   "source": [
    "aa = 100\n",
    "\n",
    "def test():\n",
    "    aa = 200\n",
    "    print(\"Local :\", aa)\n",
    "\n",
    "test()\n",
    "\n",
    "print(\"Global: \", aa)\n",
    "    "
   ]
  },
  {
   "cell_type": "code",
   "execution_count": 44,
   "id": "d9e6e941",
   "metadata": {
    "scrolled": true
   },
   "outputs": [
    {
     "name": "stdout",
     "output_type": "stream",
     "text": [
      "30 40\n",
      "100 300\n"
     ]
    }
   ],
   "source": [
    "num1 = 100\n",
    "num2 = 300\n",
    "\n",
    "def test(num1, num2):\n",
    "    print(num1, num2)\n",
    "    return num1 + num2\n",
    "\n",
    "test(30, 40)\n",
    "\n",
    "print(num1, num2) # 전역변수"
   ]
  },
  {
   "cell_type": "code",
   "execution_count": 47,
   "id": "af47f82b",
   "metadata": {},
   "outputs": [
    {
     "name": "stdout",
     "output_type": "stream",
     "text": [
      "333\n",
      "333\n"
     ]
    }
   ],
   "source": [
    "a = 111\n",
    "\n",
    "def test():\n",
    "    global a # 전역변수로 선언\n",
    "    a = 333\n",
    "    print(a)\n",
    "    \n",
    "test()    \n",
    "print(a)"
   ]
  },
  {
   "cell_type": "markdown",
   "id": "d263425a",
   "metadata": {},
   "source": [
    "### 가변길이 인자\n",
    "- 전달 파라미터의 개수가 고정적이지 않은 경우 사용\n",
    "-e.g>\n",
    " - print함수\n",
    " - format함수\n",
    " \n",
    " - ***args**, ****kwargs**\n",
    " - *args : 파라미터를 튜플의 형태로 전달\n",
    " - ** kwargs : 파라미터를 딕셔너리 형태로 전달"
   ]
  },
  {
   "cell_type": "code",
   "execution_count": 50,
   "id": "f876d4d8",
   "metadata": {},
   "outputs": [
    {
     "name": "stdout",
     "output_type": "stream",
     "text": [
      "\n",
      "1\n",
      "1 2\n",
      "1 2 3 4\n"
     ]
    }
   ],
   "source": [
    "# 파라미터의 갯수가 정해지지 않고 얼마든지 넣을 수 있다.\n",
    "print()\n",
    "print(1)\n",
    "print(1, 2)\n",
    "print(1,2,3,4)"
   ]
  },
  {
   "cell_type": "code",
   "execution_count": 57,
   "id": "b8c684a4",
   "metadata": {},
   "outputs": [
    {
     "name": "stdout",
     "output_type": "stream",
     "text": [
      "<class 'tuple'>\n",
      "<class 'tuple'>\n",
      "<class 'tuple'>\n",
      "<class 'tuple'>\n",
      "-------------\n",
      "10\n",
      "20\n",
      "30\n"
     ]
    }
   ],
   "source": [
    "# print함수처럼 가변길이 인자를 사용하려면\n",
    "\n",
    "def test(*x):\n",
    "    print(type(x))\n",
    "    \n",
    "test()    \n",
    "test(10)\n",
    "test(10, 23)\n",
    "test(10, 20,30)\n",
    "\n",
    "print('-------------')\n",
    "\n",
    "# 문제> 다음 함수에서 파라미터 값을 출력하는 코드를 작성하세요.\n",
    "def test2(*x):\n",
    "    for item in x:\n",
    "        print(item)\n",
    "\n",
    "test2(10, 20, 30)        \n"
   ]
  },
  {
   "cell_type": "code",
   "execution_count": 60,
   "id": "25900b0f",
   "metadata": {},
   "outputs": [
    {
     "name": "stdout",
     "output_type": "stream",
     "text": [
      "0 Kim\n",
      "0 Kim\n",
      "1 test\n",
      "0 Kim\n",
      "1 test\n",
      "2 Lee\n"
     ]
    }
   ],
   "source": [
    "def args_func(*args): # 매개변수명은 자유롭게 변경가능, 관례적으로 args, kwargs\n",
    "    for i, v in enumerate(args):\n",
    "        print('{}'.format(i), v)\n",
    "        \n",
    "args_func('Kim')\n",
    "args_func('Kim', 'test')\n",
    "args_func('Kim', 'test', 'Lee')\n",
    "\n"
   ]
  },
  {
   "cell_type": "code",
   "execution_count": 66,
   "id": "874a4da8",
   "metadata": {},
   "outputs": [
    {
     "name": "stdout",
     "output_type": "stream",
     "text": [
      "<class 'dict'>\n",
      "<class 'dict'>\n",
      "-----------------\n",
      "key : a , value : 1\n",
      "key : a , value : 1\n",
      "key : c , value : 4\n",
      "key : name , value : Bob\n"
     ]
    }
   ],
   "source": [
    "# keyword parameter(키워드 파라미터)\n",
    "def test(**x):\n",
    "    print(type(x))\n",
    "\n",
    "test()\n",
    "\n",
    "test(a=1, b=2, c=3, d=4, name='Bob')\n",
    "\n",
    "print('-----------------')\n",
    "\n",
    "# 문제> 다음 함수에서 파라미터의 키와 값을 출력하는 코드를 작성하세요.\n",
    "def test2(**x):\n",
    "    for key, value in x.items():\n",
    "        print('key :', key, ', value :', value)\n",
    "        \n",
    "test2(a=1) \n",
    "test2(a=1, c=4, name='Bob') \n"
   ]
  },
  {
   "cell_type": "code",
   "execution_count": 68,
   "id": "4407e09e",
   "metadata": {},
   "outputs": [
    {
     "name": "stdout",
     "output_type": "stream",
     "text": [
      "오늘 온도 : 20도 강수확률은 : 70% 내일 온도: 22도\n"
     ]
    }
   ],
   "source": [
    "# format : 가변길이를 사용하는 함수\n",
    "\n",
    "a = '오늘 온도 : 28도 강수확률은 : 70%'\n",
    "\n",
    "a = '오늘 온도 : {}도 강수확률은 : {}% 내일 온도: {}도'.format(20, 70, 22)\n",
    "print(a)\n"
   ]
  },
  {
   "cell_type": "code",
   "execution_count": 72,
   "id": "22393169",
   "metadata": {},
   "outputs": [
    {
     "name": "stdout",
     "output_type": "stream",
     "text": [
      "10 20 () {}\n",
      "10 20 ('kim', 'lee', 'park') {}\n",
      "10 20 ('kim', 'lee', 'park') {'age1': 30, 'age2': 40, 'age3': 50}\n"
     ]
    }
   ],
   "source": [
    "# 혼합\n",
    "def example(arg_1, arg_2, *args, **kwargs):\n",
    "    print(arg_1, arg_2, args, kwargs)\n",
    "    \n",
    "example(10, 20)    \n",
    "example(10, 20, 'kim', 'lee', 'park')\n",
    "example(10, 20, 'kim', 'lee', 'park', age1=30, age2=40, age3=50)"
   ]
  },
  {
   "cell_type": "code",
   "execution_count": 74,
   "id": "2897b553",
   "metadata": {},
   "outputs": [
    {
     "name": "stdout",
     "output_type": "stream",
     "text": [
      "[15, 20, 25]\n",
      "[15.0, 20.0, 25.0]\n"
     ]
    }
   ],
   "source": [
    "# Hint\n",
    "def func_mul(x : int) -> list: # 매개변수 타입과 출력(리턴)타입을 알려줄 수 있다.\n",
    "    y1 = x * 3\n",
    "    y2 = x * 4\n",
    "    y3 = x * 5\n",
    "    return [y1, y2, y3]\n",
    "    \n",
    "print(func_mul(5)) \n",
    "print(func_mul(5.0)) # 에러가 나지는 않는다.   "
   ]
  },
  {
   "cell_type": "code",
   "execution_count": 76,
   "id": "95a7b803",
   "metadata": {},
   "outputs": [
    {
     "name": "stdout",
     "output_type": "stream",
     "text": [
      "In func\n",
      "101\n"
     ]
    },
    {
     "ename": "NameError",
     "evalue": "name 'func_in_func' is not defined",
     "output_type": "error",
     "traceback": [
      "\u001b[1;31m---------------------------------------------------------------------------\u001b[0m",
      "\u001b[1;31mNameError\u001b[0m                                 Traceback (most recent call last)",
      "\u001b[1;32m~\\AppData\\Local\\Temp/ipykernel_15276/1294783987.py\u001b[0m in \u001b[0;36m<module>\u001b[1;34m\u001b[0m\n\u001b[0;32m      8\u001b[0m \u001b[0mnested_func\u001b[0m\u001b[1;33m(\u001b[0m\u001b[1;36m1\u001b[0m\u001b[1;33m)\u001b[0m\u001b[1;33m\u001b[0m\u001b[1;33m\u001b[0m\u001b[0m\n\u001b[0;32m      9\u001b[0m \u001b[1;33m\u001b[0m\u001b[0m\n\u001b[1;32m---> 10\u001b[1;33m \u001b[0mfunc_in_func\u001b[0m\u001b[1;33m(\u001b[0m\u001b[0mnum\u001b[0m \u001b[1;33m+\u001b[0m \u001b[1;36m100\u001b[0m\u001b[1;33m)\u001b[0m\u001b[1;33m\u001b[0m\u001b[1;33m\u001b[0m\u001b[0m\n\u001b[0m",
      "\u001b[1;31mNameError\u001b[0m: name 'func_in_func' is not defined"
     ]
    }
   ],
   "source": [
    "# 중첩함수\n",
    "def nested_func(num):\n",
    "    def func_in_func(num):\n",
    "        print(num)\n",
    "    print(\"In func\")\n",
    "    func_in_func(num + 100)\n",
    "    \n",
    "nested_func(1)    \n",
    "\n",
    "# func_in_func(num + 100) # 호출은 오류"
   ]
  }
 ],
 "metadata": {
  "kernelspec": {
   "display_name": "Python 3 (ipykernel)",
   "language": "python",
   "name": "python3"
  },
  "language_info": {
   "codemirror_mode": {
    "name": "ipython",
    "version": 3
   },
   "file_extension": ".py",
   "mimetype": "text/x-python",
   "name": "python",
   "nbconvert_exporter": "python",
   "pygments_lexer": "ipython3",
   "version": "3.9.7"
  }
 },
 "nbformat": 4,
 "nbformat_minor": 5
}
