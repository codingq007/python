{
 "cells": [
  {
   "cell_type": "markdown",
   "id": "9c6a834f",
   "metadata": {},
   "source": [
    "### if문"
   ]
  },
  {
   "cell_type": "code",
   "execution_count": 2,
   "id": "e9ea1ac9",
   "metadata": {},
   "outputs": [
    {
     "name": "stdout",
     "output_type": "stream",
     "text": [
      "True\n"
     ]
    }
   ],
   "source": [
    "# 관계연산자(비교 연산자)\n",
    "# >, >=, <, <=, ==, !=\n",
    "\n",
    "a = 10\n",
    "b = 0\n",
    "\n",
    "print(a == b)\n",
    "print(a != b)\n",
    "\n"
   ]
  },
  {
   "cell_type": "code",
   "execution_count": null,
   "id": "764ad1f4",
   "metadata": {},
   "outputs": [],
   "source": [
    "# 참 거짓의 종류\n",
    "\n",
    "# 참 : \"내용\", [내용], (내용), {내용}, 1, True\n",
    "# 거짓 : \"\", [], (), {}, 0, None, False \n"
   ]
  },
  {
   "cell_type": "code",
   "execution_count": 4,
   "id": "0bed1570",
   "metadata": {},
   "outputs": [
    {
     "name": "stdout",
     "output_type": "stream",
     "text": [
      "Please enter your city\n",
      "You are in :  Seoul\n"
     ]
    }
   ],
   "source": [
    "city = \"\"\n",
    "\n",
    "if city:\n",
    "    print(\"You are in : \", city)\n",
    "else:\n",
    "    print(\"Please enter your city\")\n",
    "    \n",
    "city = \"Seoul\"    \n",
    "if city:\n",
    "    print(\"You are in : \", city)\n",
    "else:\n",
    "    print(\"Please enter your city\")\n",
    "    \n",
    "    "
   ]
  },
  {
   "cell_type": "code",
   "execution_count": 7,
   "id": "401fa998",
   "metadata": {},
   "outputs": [
    {
     "name": "stdout",
     "output_type": "stream",
     "text": [
      "True\n",
      "True\n",
      "False\n",
      "False\n",
      "False\n",
      "True\n"
     ]
    }
   ],
   "source": [
    "# 논리연산자\n",
    "# and, or, not\n",
    "\n",
    "a = 100\n",
    "b = 60\n",
    "c = 15\n",
    "\n",
    "print(a>b and b>c)\n",
    "print(a>b or b>c)\n",
    "print(not a>b)\n",
    "print(not b>c)\n",
    "print(not True)\n",
    "print(not False)"
   ]
  },
  {
   "cell_type": "code",
   "execution_count": 8,
   "id": "291e0ba9",
   "metadata": {},
   "outputs": [
    {
     "name": "stdout",
     "output_type": "stream",
     "text": [
      "False\n"
     ]
    }
   ],
   "source": [
    "# 연산자 우선순위\n",
    "# 산술, 관계(비교), 논리 순서로 적용\n",
    "\n",
    "print(3+2 > 7 + 3)"
   ]
  },
  {
   "cell_type": "code",
   "execution_count": 10,
   "id": "503b820a",
   "metadata": {},
   "outputs": [],
   "source": [
    "score1 = 90\n",
    "score2 = 'A'\n",
    "\n",
    "if score1 >= 90 and score2 == 'A':\n",
    "    print(\"합격 하셨습니다!!\")\n",
    "else:\n",
    "    print(\"불합격 하셨습니다!!\")\n",
    "    \n"
   ]
  },
  {
   "cell_type": "code",
   "execution_count": 13,
   "id": "7cbae060",
   "metadata": {},
   "outputs": [
    {
     "name": "stdout",
     "output_type": "stream",
     "text": [
      "num 등급 B 80\n"
     ]
    }
   ],
   "source": [
    "# 다중 조건문\n",
    "num = 80\n",
    "\n",
    "if num>=90:\n",
    "    print(\"num 등급 A\", num)\n",
    "elif num>=80:\n",
    "    print(\"num 등급 B\", num)\n",
    "elif num>=70:\n",
    "    print(\"num 등급 C\", num)\n",
    "else:\n",
    "    print(\"탈락\")\n"
   ]
  },
  {
   "cell_type": "code",
   "execution_count": 14,
   "id": "0286f5c5",
   "metadata": {},
   "outputs": [
    {
     "name": "stdout",
     "output_type": "stream",
     "text": [
      "A지망 지원 가능\n"
     ]
    }
   ],
   "source": [
    "# 중첩 조건문\n",
    "age = 27\n",
    "height = 175\n",
    "\n",
    "if age>= 20:\n",
    "    if height >= 170:\n",
    "        print(\"A지망 지원 가능\")\n",
    "    elif height >=160:\n",
    "        print(\"B지망 지원 가능\")\n",
    "    else:\n",
    "        print(\"지원 불가\")\n",
    "else:\n",
    "    print(\"20세 이상 지원가능\")"
   ]
  }
 ],
 "metadata": {
  "kernelspec": {
   "display_name": "Python 3 (ipykernel)",
   "language": "python",
   "name": "python3"
  },
  "language_info": {
   "codemirror_mode": {
    "name": "ipython",
    "version": 3
   },
   "file_extension": ".py",
   "mimetype": "text/x-python",
   "name": "python",
   "nbconvert_exporter": "python",
   "pygments_lexer": "ipython3",
   "version": "3.9.7"
  }
 },
 "nbformat": 4,
 "nbformat_minor": 5
}
