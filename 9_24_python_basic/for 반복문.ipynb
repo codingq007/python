{
 "cells": [
  {
   "cell_type": "markdown",
   "id": "5d17c60d",
   "metadata": {},
   "source": [
    "### for 반복문\n",
    "- 리스트, 문자열 같은 순회 가능한 객체를 순회하면서 값을 처리할 때 사용\n",
    "- 모든 아이템이 순회가 되면 for문 블록 종료"
   ]
  },
  {
   "cell_type": "code",
   "execution_count": 1,
   "id": "b91ed02b",
   "metadata": {
    "scrolled": true
   },
   "outputs": [
    {
     "name": "stdout",
     "output_type": "stream",
     "text": [
      "1 2\n",
      "2 4\n",
      "4 8\n",
      "3 6\n",
      "5 10\n",
      "gggggg\n"
     ]
    }
   ],
   "source": [
    "a = [1, 2, 4, 3, 5]\n",
    "\n",
    "for i in a:\n",
    "    print(i, i*2)\n",
    "    \n",
    "print('gggggg')"
   ]
  },
  {
   "cell_type": "code",
   "execution_count": 2,
   "id": "f1c02114",
   "metadata": {},
   "outputs": [
    {
     "name": "stdout",
     "output_type": "stream",
     "text": [
      "1\n",
      "2\n",
      "4\n",
      "3\n",
      "5\n",
      "gggggg\n"
     ]
    }
   ],
   "source": [
    "a = [1, 2, 4, 3, 5]\n",
    "\n",
    "for number in a:\n",
    "    print(number)\n",
    "\n",
    "print('gggggg')    "
   ]
  },
  {
   "cell_type": "code",
   "execution_count": 3,
   "id": "6b6b6a98",
   "metadata": {},
   "outputs": [
    {
     "ename": "TypeError",
     "evalue": "'int' object is not iterable",
     "output_type": "error",
     "traceback": [
      "\u001b[1;31m---------------------------------------------------------------------------\u001b[0m",
      "\u001b[1;31mTypeError\u001b[0m                                 Traceback (most recent call last)",
      "\u001b[1;32m~\\AppData\\Local\\Temp/ipykernel_2392/1323641448.py\u001b[0m in \u001b[0;36m<module>\u001b[1;34m\u001b[0m\n\u001b[1;32m----> 1\u001b[1;33m \u001b[1;32mfor\u001b[0m \u001b[0mx\u001b[0m \u001b[1;32min\u001b[0m \u001b[1;36m10\u001b[0m\u001b[1;33m:\u001b[0m\u001b[1;33m\u001b[0m\u001b[1;33m\u001b[0m\u001b[0m\n\u001b[0m\u001b[0;32m      2\u001b[0m     \u001b[0mprint\u001b[0m\u001b[1;33m(\u001b[0m\u001b[0mx\u001b[0m\u001b[1;33m)\u001b[0m\u001b[1;33m\u001b[0m\u001b[1;33m\u001b[0m\u001b[0m\n",
      "\u001b[1;31mTypeError\u001b[0m: 'int' object is not iterable"
     ]
    }
   ],
   "source": [
    "for x in 10: # 순회할 수 없는 숫자(iterable 객체가 아니기 때문에)는 에러, \n",
    "    print(x)\n",
    "    \n",
    "# 순회할 수 있는 객체 ---> iterable 객체    \n"
   ]
  },
  {
   "cell_type": "code",
   "execution_count": 5,
   "id": "879e15e8",
   "metadata": {
    "scrolled": true
   },
   "outputs": [
    {
     "name": "stdout",
     "output_type": "stream",
     "text": [
      "h\n",
      "e\n",
      "l\n",
      "l\n",
      "o\n",
      " \n",
      "w\n",
      "o\n",
      "r\n",
      "l\n",
      "d\n",
      "-----\n",
      "K\n",
      "E\n",
      "N\n",
      "N\n",
      "R\n",
      "Y\n"
     ]
    }
   ],
   "source": [
    "a = 'hello world'\n",
    "\n",
    "for character in a:\n",
    "    print(character)\n",
    "    \n",
    "name = 'KennRy'    \n",
    "print('-----')\n",
    "for n in name:\n",
    "    if n.isupper():\n",
    "        print(n)\n",
    "    else:\n",
    "        print(n.upper())"
   ]
  },
  {
   "cell_type": "code",
   "execution_count": 6,
   "id": "16c3fcdf",
   "metadata": {},
   "outputs": [
    {
     "name": "stdout",
     "output_type": "stream",
     "text": [
      "2\n",
      "1\n",
      "5.0\n",
      "10\n",
      "4\n",
      "3\n",
      "2.0\n",
      "4\n",
      "6\n",
      "5\n"
     ]
    }
   ],
   "source": [
    "# 리스트의 아이템을 출력\n",
    "a = [1,10, 3, 4, 5]\n",
    "\n",
    "for num in a:\n",
    "    if num % 2 == 0:\n",
    "        print(num/2)\n",
    "    else:\n",
    "        print(num+1)\n",
    "    print(num)"
   ]
  },
  {
   "cell_type": "code",
   "execution_count": 12,
   "id": "d7fc398e",
   "metadata": {},
   "outputs": [
    {
     "name": "stdout",
     "output_type": "stream",
     "text": [
      "dict_items([('korea', 'seoul'), ('japan', 'tokyo'), ('canada', 'ottawa')])\n",
      "korea seoul\n",
      "japan tokyo\n",
      "canada ottawa\n"
     ]
    }
   ],
   "source": [
    "# 딕셔너리 아이템 출력하기\n",
    "a = {'korea':'seoul', 'japan':'tokyo', 'canada':'ottawa'}\n",
    "\n",
    "# for k in a:\n",
    "# #     print(k, a[k])\n",
    "#     print(k)\n",
    "\n",
    "# for value in a.values():\n",
    "#     print(value)\n",
    "\n",
    "print(a.items())\n",
    "\n",
    "for key, value in a.items():\n",
    "    print(key, value)\n",
    "    \n",
    "    "
   ]
  },
  {
   "cell_type": "code",
   "execution_count": 18,
   "id": "799cd1bc",
   "metadata": {
    "scrolled": false
   },
   "outputs": [
    {
     "name": "stdout",
     "output_type": "stream",
     "text": [
      "<enumerate object at 0x000002AF722CB800>\n",
      "(0, 1)\n",
      "(1, 2)\n",
      "(2, 3)\n",
      "(3, 4)\n",
      "(4, 5)\n",
      "index : 0, value: 1\n",
      "index : 1, value: 2\n",
      "index : 2, value: 3\n",
      "index : 3, value: 4\n",
      "index : 4, value: 5\n",
      "4 5\n"
     ]
    }
   ],
   "source": [
    "# for문을 이용해서 리스트를 순회하는 경우, 값만 추출함.\n",
    "\n",
    "a = [1,2,3,4,5]\n",
    "\n",
    "# enumerate() : 순서를 알고 싶을 때 사용(인덱스와 원소값을 튜플형태로 반환)\n",
    "p = enumerate(a) \n",
    "print(p)\n",
    "\n",
    "for p in enumerate(a):\n",
    "    print(p)\n",
    "\n",
    "for i, v in enumerate(a):\n",
    "    print(\"index : {}, value: {}\".format(i, v))\n",
    "\n",
    "for index, num in enumerate(a):\n",
    "    if index > 3:\n",
    "        print(index, num)"
   ]
  },
  {
   "cell_type": "markdown",
   "id": "4adc90e2",
   "metadata": {},
   "source": [
    "### loop 중첩"
   ]
  },
  {
   "cell_type": "code",
   "execution_count": 19,
   "id": "577bc68b",
   "metadata": {},
   "outputs": [
    {
     "name": "stdout",
     "output_type": "stream",
     "text": [
      "1\n",
      "2\n",
      "4\n",
      "2\n",
      "4\n",
      "8\n",
      "4\n",
      "8\n",
      "16\n"
     ]
    }
   ],
   "source": [
    "a = [1 ,2, 4]\n",
    "\n",
    "for i in a:\n",
    "    for j in a:\n",
    "        print(i * j)"
   ]
  },
  {
   "cell_type": "code",
   "execution_count": 21,
   "id": "57add9bd",
   "metadata": {
    "scrolled": true
   },
   "outputs": [
    {
     "name": "stdout",
     "output_type": "stream",
     "text": [
      "2 * 1 = 2\n",
      "2 * 2 = 4\n",
      "2 * 3 = 6\n",
      "2 * 4 = 8\n",
      "2 * 5 = 10\n",
      "2 * 6 = 12\n",
      "2 * 7 = 14\n",
      "2 * 8 = 16\n",
      "2 * 9 = 18\n",
      "3 * 1 = 3\n",
      "3 * 2 = 6\n",
      "3 * 3 = 9\n",
      "3 * 4 = 12\n",
      "3 * 5 = 15\n",
      "3 * 6 = 18\n",
      "3 * 7 = 21\n",
      "3 * 8 = 24\n",
      "3 * 9 = 27\n",
      "4 * 1 = 4\n",
      "4 * 2 = 8\n",
      "4 * 3 = 12\n",
      "4 * 4 = 16\n",
      "4 * 5 = 20\n",
      "4 * 6 = 24\n",
      "4 * 7 = 28\n",
      "4 * 8 = 32\n",
      "4 * 9 = 36\n",
      "5 * 1 = 5\n",
      "5 * 2 = 10\n",
      "5 * 3 = 15\n",
      "5 * 4 = 20\n",
      "5 * 5 = 25\n",
      "5 * 6 = 30\n",
      "5 * 7 = 35\n",
      "5 * 8 = 40\n",
      "5 * 9 = 45\n",
      "6 * 1 = 6\n",
      "6 * 2 = 12\n",
      "6 * 3 = 18\n",
      "6 * 4 = 24\n",
      "6 * 5 = 30\n",
      "6 * 6 = 36\n",
      "6 * 7 = 42\n",
      "6 * 8 = 48\n",
      "6 * 9 = 54\n",
      "7 * 1 = 7\n",
      "7 * 2 = 14\n",
      "7 * 3 = 21\n",
      "7 * 4 = 28\n",
      "7 * 5 = 35\n",
      "7 * 6 = 42\n",
      "7 * 7 = 49\n",
      "7 * 8 = 56\n",
      "7 * 9 = 63\n",
      "8 * 1 = 8\n",
      "8 * 2 = 16\n",
      "8 * 3 = 24\n",
      "8 * 4 = 32\n",
      "8 * 5 = 40\n",
      "8 * 6 = 48\n",
      "8 * 7 = 56\n",
      "8 * 8 = 64\n",
      "8 * 9 = 72\n",
      "9 * 1 = 9\n",
      "9 * 2 = 18\n",
      "9 * 3 = 27\n",
      "9 * 4 = 36\n",
      "9 * 5 = 45\n",
      "9 * 6 = 54\n",
      "9 * 7 = 63\n",
      "9 * 8 = 72\n",
      "9 * 9 = 81\n"
     ]
    }
   ],
   "source": [
    "x = [2,3,4,5,6,7,8,9]\n",
    "y = [1,2,3,4,5,6,7,8,9]\n",
    "\n",
    "for i in x:\n",
    "    for j in y:\n",
    "        print(i, '*', j, '=', i*j )\n",
    "\n"
   ]
  },
  {
   "cell_type": "code",
   "execution_count": 26,
   "id": "32185904",
   "metadata": {},
   "outputs": [
    {
     "data": {
      "text/plain": [
       "[5,\n",
       " 10,\n",
       " 15,\n",
       " 20,\n",
       " 25,\n",
       " 30,\n",
       " 35,\n",
       " 40,\n",
       " 45,\n",
       " 50,\n",
       " 55,\n",
       " 60,\n",
       " 65,\n",
       " 70,\n",
       " 75,\n",
       " 80,\n",
       " 85,\n",
       " 90,\n",
       " 95,\n",
       " 100]"
      ]
     },
     "execution_count": 26,
     "metadata": {},
     "output_type": "execute_result"
    }
   ],
   "source": [
    "# a = list(range(1, 201))\n",
    "# print(a)\n",
    "\n",
    "list(range(1, 101, 5))\n",
    "\n",
    "# 문제> 1부터 100사이에 숫자에서 5의 배수만을 갖는 리스트를 생성하세요.\n",
    "list(range(5, 101, 5))"
   ]
  },
  {
   "cell_type": "code",
   "execution_count": null,
   "id": "ee69c5f8",
   "metadata": {},
   "outputs": [],
   "source": [
    "# 문제 1> 구구단을 2 ~ 9단까지 출력하세요.(단, while문을 이용해서)\n",
    "x = 2\n",
    "while x <=9:\n",
    "    y = 1\n",
    "    while y <= 9:\n",
    "        print(x, '*', y, '=', x*y)\n",
    "        y+=1\n",
    "    x += 1"
   ]
  },
  {
   "cell_type": "code",
   "execution_count": null,
   "id": "f36cdc16",
   "metadata": {},
   "outputs": [],
   "source": [
    "# 문제 2> 1 ~ 100까지의 정수 중에 2의 배수 또는 11의 배수를 모두 출력하세요.\n",
    "#       (for문, range()함수) \n",
    "\n",
    "nums = list(range(1, 101))\n",
    "for x in nums:\n",
    "    if x % 2 == 0 or  x % 11 == 0:\n",
    "        print(x)"
   ]
  },
  {
   "cell_type": "code",
   "execution_count": null,
   "id": "2b159568",
   "metadata": {},
   "outputs": [],
   "source": [
    "# 문제 3> 다음 리스트에서 for문과 while문을 이용하여 평균을 구해 보세요.\n",
    "a = [22, 1, 3, 4, 7, 98, 21, 55, 87, 99, 19, 20, 45]\n",
    "\n",
    "# while문\n",
    "i = 0\n",
    "_sum = 0\n",
    "while i < len(a):\n",
    "    _sum +=a[i]\n",
    "    i += 1\n",
    "print(_sum / len(a)) \n",
    "\n",
    "# for문\n",
    "_sum = 0\n",
    "for x in a:\n",
    "    _sum += x\n",
    "    \n",
    "print(_sum / len(a))"
   ]
  },
  {
   "cell_type": "code",
   "execution_count": 28,
   "id": "7ccd01ea",
   "metadata": {},
   "outputs": [
    {
     "name": "stdout",
     "output_type": "stream",
     "text": [
      "1\n",
      "99\n"
     ]
    }
   ],
   "source": [
    "# 문제 > 아래 리스트에서 최대값과 최소값을 찾으세요.\n",
    "a = [22, 1, 3, 4, 7, 98, 21, 55, 87, 99, 19, 20, 45]\n",
    "\n",
    "# 최소값\n",
    "_min = a[0]\n",
    "for x in a:\n",
    "    if x < _min:\n",
    "        _min = x\n",
    "print(_min)        \n",
    "\n",
    "# 최대값\n",
    "_max = a[0]\n",
    "for x in a:\n",
    "    if x > _max:\n",
    "        _max = x\n",
    "print(_max)  "
   ]
  },
  {
   "cell_type": "code",
   "execution_count": 29,
   "id": "3ab138c8",
   "metadata": {},
   "outputs": [
    {
     "data": {
      "text/plain": [
       "(1, 99)"
      ]
     },
     "execution_count": 29,
     "metadata": {},
     "output_type": "execute_result"
    }
   ],
   "source": [
    "# sort 함수를 이용한 최대, 최소값 구하기\n",
    "a = [22, 1, 3, 4, 7, 98, 21, 55, 87, 99, 19, 20, 45]\n",
    "\n",
    "a.sort() # 오름 차순으로 정렬\n",
    "a[0], a[-1]\n"
   ]
  },
  {
   "cell_type": "markdown",
   "id": "697dbc14",
   "metadata": {},
   "source": [
    "### List Comprehension\n",
    "- 리스트를 쉽게 만들어 주는 방법(기법)"
   ]
  },
  {
   "cell_type": "code",
   "execution_count": 32,
   "id": "7257c746",
   "metadata": {
    "scrolled": false
   },
   "outputs": [
    {
     "name": "stdout",
     "output_type": "stream",
     "text": [
      "[1, 2, 3, 4, 5, 6, 7, 8, 9, 10, 11, 12, 13, 14, 15, 16, 17, 18, 19, 20, 21, 22, 23, 24, 25, 26, 27, 28, 29, 30, 31, 32, 33, 34, 35, 36, 37, 38, 39, 40, 41, 42, 43, 44, 45, 46, 47, 48, 49, 50, 51, 52, 53, 54, 55, 56, 57, 58, 59, 60, 61, 62, 63, 64, 65, 66, 67, 68, 69, 70, 71, 72, 73, 74, 75, 76, 77, 78, 79, 80, 81, 82, 83, 84, 85, 86, 87, 88, 89, 90, 91, 92, 93, 94, 95, 96, 97, 98, 99, 100]\n",
      "\n",
      "[1, 2, 3, 4, 5, 6, 7, 8, 9, 10, 11, 12, 13, 14, 15, 16, 17, 18, 19, 20, 21, 22, 23, 24, 25, 26, 27, 28, 29, 30, 31, 32, 33, 34, 35, 36, 37, 38, 39, 40, 41, 42, 43, 44, 45, 46, 47, 48, 49, 50, 51, 52, 53, 54, 55, 56, 57, 58, 59, 60, 61, 62, 63, 64, 65, 66, 67, 68, 69, 70, 71, 72, 73, 74, 75, 76, 77, 78, 79, 80, 81, 82, 83, 84, 85, 86, 87, 88, 89, 90, 91, 92, 93, 94, 95, 96, 97, 98, 99, 100]\n"
     ]
    }
   ],
   "source": [
    "# 1 부터 100까지 리스트를 만드는 일반적인 방법\n",
    "\n",
    "numbers = []\n",
    "\n",
    "for n in range(1,101):\n",
    "    numbers.append(n)\n",
    "print(numbers)    \n",
    "\n",
    "print()\n",
    "\n",
    "numbers2 = [x for x in range(1,101)]\n",
    "print(numbers2) "
   ]
  },
  {
   "cell_type": "code",
   "execution_count": 33,
   "id": "8a6bfe98",
   "metadata": {},
   "outputs": [
    {
     "name": "stdout",
     "output_type": "stream",
     "text": [
      "['갑', '을', '병', '정']\n"
     ]
    }
   ],
   "source": [
    "# 문제> 다음 리스트 중에서 '정'글자를 제외하고 출력하세요\n",
    "\n",
    "str = ['갑', '을', '병', '정']\n",
    "\n",
    "\n",
    "# [리스트에 포함(append)할 변수(표현식) for 항목 in iterable객체 if 조건 ]\n",
    "str2 = [x for x in str if x != '정']\n",
    "\n",
    "print(str2)\n",
    "\n",
    "\n",
    "\n"
   ]
  }
 ],
 "metadata": {
  "kernelspec": {
   "display_name": "Python 3 (ipykernel)",
   "language": "python",
   "name": "python3"
  },
  "language_info": {
   "codemirror_mode": {
    "name": "ipython",
    "version": 3
   },
   "file_extension": ".py",
   "mimetype": "text/x-python",
   "name": "python",
   "nbconvert_exporter": "python",
   "pygments_lexer": "ipython3",
   "version": "3.9.7"
  }
 },
 "nbformat": 4,
 "nbformat_minor": 5
}
