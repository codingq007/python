{
 "cells": [
  {
   "cell_type": "markdown",
   "id": "da239dcc",
   "metadata": {},
   "source": [
    "### while"
   ]
  },
  {
   "cell_type": "code",
   "execution_count": 2,
   "id": "b7906598",
   "metadata": {
    "scrolled": true
   },
   "outputs": [
    {
     "name": "stdout",
     "output_type": "stream",
     "text": [
      "1\n",
      "10\n",
      "9\n",
      "24\n",
      "555\n",
      "23\n",
      "45\n",
      "67\n",
      "89\n",
      "ggg\n"
     ]
    }
   ],
   "source": [
    "a = [1, 10, 9, 24, 555, 23, 45, 67, 89]\n",
    "\n",
    "i = 0\n",
    "while i < len(a):\n",
    "    print(a[i])\n",
    "    i +=1\n",
    "    \n",
    "print(\"ggg\")    "
   ]
  },
  {
   "cell_type": "code",
   "execution_count": 8,
   "id": "6f5f922d",
   "metadata": {},
   "outputs": [
    {
     "name": "stdout",
     "output_type": "stream",
     "text": [
      "1\n",
      "5\n",
      "9\n",
      "12\n",
      "555\n",
      "23\n",
      "45\n",
      "67\n",
      "89\n"
     ]
    }
   ],
   "source": [
    "a = [1, 10, 9, 24, 555, 23, 45, 67, 89]\n",
    "\n",
    "# 문제> 20보다 큰값만 출력하세요.\n",
    "# i = 0\n",
    "# while i < len(a):\n",
    "#     if a[i] > 20:\n",
    "#         print(a[i])\n",
    "#     i +=1\n",
    "    \n",
    "# 문제> 홀수만 출력하고, 짝수인 경우에는 몫을 출력 하세요. \n",
    "i = 0\n",
    "while i < len(a):\n",
    "#     if a[i] % 2 == 1: # 홀수인 경우\n",
    "    if a[i] % 2: # 나머지는 0 or 1, 홀수인 경우만 출력됨.\n",
    "        print(a[i])\n",
    "    else:\n",
    "        print(a[i] // 2)        \n",
    "    i +=1"
   ]
  },
  {
   "cell_type": "code",
   "execution_count": 10,
   "id": "977fe648",
   "metadata": {},
   "outputs": [
    {
     "name": "stdout",
     "output_type": "stream",
     "text": [
      "1\n",
      "10\n",
      "9\n",
      "ggggg\n"
     ]
    }
   ],
   "source": [
    "a = [1, 10, 9, 24, 555, 23, 45, 67, 89]\n",
    "\n",
    "\n",
    "# break문 : loop를 중단할 때, 보통 조건문 안에서 수행되며, \n",
    "#          조건을 만족하는 경우 loop를 탈출\n",
    "i = 0\n",
    "while i < len(a):\n",
    "    if a[i] > 20:\n",
    "        break\n",
    "        \n",
    "    print(a[i])\n",
    "    \n",
    "    i +=1\n",
    "    \n",
    "print(\"ggggg\")    "
   ]
  },
  {
   "cell_type": "code",
   "execution_count": 11,
   "id": "6e472e85",
   "metadata": {},
   "outputs": [
    {
     "name": "stdout",
     "output_type": "stream",
     "text": [
      "6\n",
      "4\n",
      "3\n",
      "2\n",
      "1\n",
      "0\n"
     ]
    }
   ],
   "source": [
    "# continue문 : \n",
    "\n",
    "a = 7\n",
    "while a > 0:\n",
    "    a -= 1\n",
    "    if a == 5:\n",
    "        continue\n",
    "    print(a)"
   ]
  },
  {
   "cell_type": "code",
   "execution_count": 12,
   "id": "471398d4",
   "metadata": {},
   "outputs": [
    {
     "name": "stdout",
     "output_type": "stream",
     "text": [
      "5050\n"
     ]
    }
   ],
   "source": [
    "# 1 ~ 100 까지 더해서 출력하기\n",
    "\n",
    "num = 1\n",
    "_sum = 0 # sum()함수가 있기 때문에 앞에 _\n",
    "\n",
    "while num <= 100:\n",
    "    _sum += num; # _sum = _sum + num\n",
    "    num += 1\n",
    "    \n",
    "print(_sum)    \n",
    "\n"
   ]
  },
  {
   "cell_type": "code",
   "execution_count": 16,
   "id": "e419709f",
   "metadata": {},
   "outputs": [
    {
     "name": "stdout",
     "output_type": "stream",
     "text": [
      "1 ~ 100까지의 합 :  5050\n",
      "1 ~ 100까지 짝수의 합 2550\n"
     ]
    }
   ],
   "source": [
    "# sum, range함수\n",
    "print('1 ~ 100까지의 합 : ', sum(range(1, 101)))\n",
    "print('1 ~ 100까지 짝수의 합', sum(range(0, 101, 2)))\n",
    "\n",
    "# 문제> 1 ~ 100까지 짝수의 합을 while문으로 출력하세요\n",
    "n = 0\n",
    "_sum = 0\n",
    "while n <= 100:\n",
    "    if(n % 2 == 0):\n",
    "        _sum += n\n",
    "    n += 1    \n",
    "print(_sum) \n"
   ]
  }
 ],
 "metadata": {
  "kernelspec": {
   "display_name": "Python 3 (ipykernel)",
   "language": "python",
   "name": "python3"
  },
  "language_info": {
   "codemirror_mode": {
    "name": "ipython",
    "version": 3
   },
   "file_extension": ".py",
   "mimetype": "text/x-python",
   "name": "python",
   "nbconvert_exporter": "python",
   "pygments_lexer": "ipython3",
   "version": "3.9.7"
  }
 },
 "nbformat": 4,
 "nbformat_minor": 5
}
