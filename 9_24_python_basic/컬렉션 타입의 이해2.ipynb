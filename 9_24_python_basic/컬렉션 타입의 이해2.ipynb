{
 "cells": [
  {
   "cell_type": "markdown",
   "id": "5c466b6a",
   "metadata": {},
   "source": [
    "### dictionary\n",
    "- key, value (Json)\n",
    "- 순서를 따지지 않음. 즉, 인덱스가 없음"
   ]
  },
  {
   "cell_type": "code",
   "execution_count": 5,
   "id": "c2359182",
   "metadata": {
    "scrolled": true
   },
   "outputs": [
    {
     "name": "stdout",
     "output_type": "stream",
     "text": [
      "ottawa\n",
      "6\n",
      "None\n",
      "None\n"
     ]
    }
   ],
   "source": [
    "# immutable 객체(불변 객체)\n",
    "# mutable 객체(변경 가능 객체)\n",
    "\n",
    "# 순서: X, 중복: X, 수정: o, 삭제: o\n",
    "\n",
    "a = {'korea':'seoul', 'canada':'ottawa', 'usa':'washington D.C'}\n",
    "\n",
    "b = {0:1, 1:6, 7:9, 8:10} # 키는 의미 있는 단어를 사용한다. 숫자를 보통 키로 사용하지 않는다.\n",
    "\n",
    "print(a['canada'])\n",
    "print(b[1])\n",
    "# print(b[2]) # 에러가 나면서 프로그램 중단\n",
    "\n",
    "print(b.get(2)) # 에러가 안나고 None 값 반환\n",
    "print(a.get('USA'))\n"
   ]
  },
  {
   "cell_type": "markdown",
   "id": "553167f7",
   "metadata": {},
   "source": [
    "### 항목 추가 및 변경"
   ]
  },
  {
   "cell_type": "code",
   "execution_count": 8,
   "id": "a5fa097d",
   "metadata": {},
   "outputs": [
    {
     "name": "stdout",
     "output_type": "stream",
     "text": [
      "{'name': 'Kim', 'phone': '01012341234', 'birth': '880124', 'address': 'Seoul'}\n",
      "{'name': 'Kim', 'phone': '01012341234', 'birth': '880124', 'address': 'Seoul', 'rank': (1, 2, 3)}\n"
     ]
    }
   ],
   "source": [
    "a = {'name' : 'Kim', 'phone':'01012341234', 'birth': '880124'}\n",
    "\n",
    "a['address'] = 'Seoul'\n",
    "print(a)\n",
    "    \n",
    "    \n",
    "# 기존의 키값이 존재하면 새로운 값으로 업데이트된다.\n",
    "# 키값이 존재하지 않으면, 새로운 키와 값이 생성된다.\n",
    "a['rank'] = [1,3,4] \n",
    "a['rank'] = (1,2,3)\n",
    "\n",
    "print(a)\n",
    "    "
   ]
  },
  {
   "cell_type": "code",
   "execution_count": 10,
   "id": "26f31f74",
   "metadata": {},
   "outputs": [
    {
     "name": "stdout",
     "output_type": "stream",
     "text": [
      "{'a': 2, 'b': 2, 'c': 3, 'd': 4, 'e': 5}\n"
     ]
    }
   ],
   "source": [
    "a = {'a': 1, 'b':2, 'c': 3}\n",
    "b = {'a': 2, 'd':4, 'e': 5}\n",
    "\n",
    "a.update(b) # 두개의 딕셔너리를 병합\n",
    "\n",
    "print(a)\n",
    "\n",
    "\n"
   ]
  },
  {
   "cell_type": "code",
   "execution_count": 14,
   "id": "65478e5c",
   "metadata": {
    "scrolled": true
   },
   "outputs": [
    {
     "name": "stdout",
     "output_type": "stream",
     "text": [
      "{'a': 1, 'b': 2, 'c': 3}\n",
      "{'a': 1, 'b': 2}\n",
      "{}\n"
     ]
    }
   ],
   "source": [
    "# 삭제\n",
    "a = {'a': 1, 'b':2, 'c': 3}\n",
    "print(a)\n",
    "\n",
    "# a.pop('b')\n",
    "# a.pop() # 순서가 없기 때문에 마지막을 알 수 없다..에러 발생\n",
    "\n",
    "del a['c']\n",
    "\n",
    "print(a)\n",
    "\n",
    "# 딕셔너리의 모든 값을 초기화\n",
    "a.clear()\n",
    "print(a)\n"
   ]
  },
  {
   "cell_type": "code",
   "execution_count": 16,
   "id": "5422ac57",
   "metadata": {},
   "outputs": [
    {
     "name": "stdout",
     "output_type": "stream",
     "text": [
      "True\n",
      "False\n"
     ]
    }
   ],
   "source": [
    "# in : key값 존재 확인\n",
    "\n",
    "a = {'a': 1, 'b':2, 'c': 3}\n",
    "b = [1,2,3,4,5,6,7,9,10, 100]\n",
    "\n",
    "print(100 in b)\n",
    "\n",
    "print(2 in a) "
   ]
  },
  {
   "cell_type": "code",
   "execution_count": 24,
   "id": "327374ce",
   "metadata": {},
   "outputs": [
    {
     "name": "stdout",
     "output_type": "stream",
     "text": [
      "{'a': 1, 'b': 2, 'c': 3}\n",
      "dict_keys(['a', 'b', 'c'])\n",
      "['b', 'c']\n",
      "dict_values([1, 2, 3])\n",
      "[1, 2, 3]\n",
      "dict_items([('a', 1), ('b', 2), ('c', 3)])\n",
      "[('a', 1), ('b', 2), ('c', 3)]\n"
     ]
    }
   ],
   "source": [
    "# 모든 keys, values 접근\n",
    "\n",
    "print(a)\n",
    "print(a.keys())\n",
    "\n",
    "# 따라서, 인덱스로 접근이 안된다.\n",
    "# print(a.keys()[0]) # 리스트 처럼 보이지만 리스트가 아니다.. \n",
    "\n",
    "temp = list(a.keys())\n",
    "print(temp[1:3])\n",
    "\n",
    "print(a.values())\n",
    "print(list(a.values()))\n",
    "\n",
    "print(a.items())\n",
    "print(list(a.items()))\n"
   ]
  },
  {
   "cell_type": "markdown",
   "id": "1e35b7bc",
   "metadata": {},
   "source": [
    "### set\n",
    "- 수학에서의 집합과 동일한 개념"
   ]
  },
  {
   "cell_type": "code",
   "execution_count": null,
   "id": "8722e82c",
   "metadata": {},
   "outputs": [],
   "source": [
    "# 순서 : X, 중복 : X"
   ]
  },
  {
   "cell_type": "code",
   "execution_count": 32,
   "id": "f42f432e",
   "metadata": {},
   "outputs": [
    {
     "name": "stdout",
     "output_type": "stream",
     "text": [
      "<class 'set'>\n",
      "{1, 2, 3, 4}\n",
      "{1, 4, 5, 6}\n",
      "(1, 2, 3, 4)\n",
      "[1, 2, 3, 4]\n"
     ]
    }
   ],
   "source": [
    "a = set()\n",
    "b = set([1,2,3,4])\n",
    "c = set([1,4,5,6,6])\n",
    "\n",
    "print(type(a))\n",
    "print(b)\n",
    "print(c)\n",
    "\n",
    "\n",
    "t = tuple(b)\n",
    "print(t)\n",
    "\n",
    "\n",
    "li = list(b) # 수정, 삭제 모두 가능\n",
    "print(li)\n"
   ]
  },
  {
   "cell_type": "code",
   "execution_count": 34,
   "id": "d3e58915",
   "metadata": {},
   "outputs": [
    {
     "name": "stdout",
     "output_type": "stream",
     "text": [
      "[1, 1, 2, 3, 3, 4, 1, 5]\n",
      "{1, 2, 3, 4, 5}\n"
     ]
    }
   ],
   "source": [
    "# set()을 이용해서 집합으로 변환\n",
    "\n",
    "a = [1,1,2,3,3,4,1,5]\n",
    "print(a)\n",
    "\n",
    "b = set(a)\n",
    "print(b)\n"
   ]
  },
  {
   "cell_type": "code",
   "execution_count": 36,
   "id": "3e2eccb1",
   "metadata": {},
   "outputs": [
    {
     "name": "stdout",
     "output_type": "stream",
     "text": [
      "{1, 2, 3, 4}\n",
      "{2, 3}\n",
      "{1}\n"
     ]
    }
   ],
   "source": [
    "# set operations(교집합, 합집합, 차집합)\n",
    "\n",
    "a = {1,2,3}\n",
    "b = {2,3,4}\n",
    "\n",
    "print(a.union(b))\n",
    "print(a.intersection(b))\n",
    "print(a.difference(b))"
   ]
  },
  {
   "cell_type": "code",
   "execution_count": 41,
   "id": "e47e4543",
   "metadata": {},
   "outputs": [
    {
     "name": "stdout",
     "output_type": "stream",
     "text": [
      "{1, 3, 4, 5, 33, 11, 22}\n"
     ]
    }
   ],
   "source": [
    "# 추가 & 제거\n",
    "\n",
    "s1 = set([1,2,3,4])\n",
    "s1.add(5)\n",
    "s1.add(3)\n",
    "\n",
    "s1.remove(2)\n",
    "\n",
    "s1.update([11,22,33])\n",
    "print(s1)"
   ]
  }
 ],
 "metadata": {
  "kernelspec": {
   "display_name": "Python 3 (ipykernel)",
   "language": "python",
   "name": "python3"
  },
  "language_info": {
   "codemirror_mode": {
    "name": "ipython",
    "version": 3
   },
   "file_extension": ".py",
   "mimetype": "text/x-python",
   "name": "python",
   "nbconvert_exporter": "python",
   "pygments_lexer": "ipython3",
   "version": "3.9.7"
  }
 },
 "nbformat": 4,
 "nbformat_minor": 5
}
