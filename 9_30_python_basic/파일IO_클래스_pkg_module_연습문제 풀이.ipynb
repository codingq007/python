{
 "cells": [
  {
   "cell_type": "code",
   "execution_count": null,
   "id": "fb4a38ac",
   "metadata": {},
   "outputs": [],
   "source": [
    "# 1. 단위 테스트용으로 사용되는 if문을 적으세요.\n",
    "if __name__ == '__main__':          "
   ]
  },
  {
   "cell_type": "code",
   "execution_count": null,
   "id": "b15969e6",
   "metadata": {},
   "outputs": [],
   "source": [
    "# 2. 파일 입출력 시 자주 사용되는 3가지 모드를 쓰세요.\n",
    "# r, w, a"
   ]
  },
  {
   "cell_type": "code",
   "execution_count": null,
   "id": "b3d7fda7",
   "metadata": {},
   "outputs": [],
   "source": [
    "# 3. 파일을 모드별로 읽어올 때 사용하는 함수를 쓰세요.\n",
    "# open()\n",
    "# f = open('./test.txt', 'r')  "
   ]
  },
  {
   "cell_type": "code",
   "execution_count": null,
   "id": "b72e5ded",
   "metadata": {},
   "outputs": [],
   "source": [
    "# 4. 파일의 전체 내용을 읽을 때 사용하는 함수를 쓰세요.\n",
    "# read()"
   ]
  },
  {
   "cell_type": "code",
   "execution_count": null,
   "id": "1fafd0b2",
   "metadata": {},
   "outputs": [],
   "source": [
    "# 5. 파일의 내용을 한 줄씩 읽을 때 사용하는 함수를 쓰세요.\n",
    "# readline()"
   ]
  },
  {
   "cell_type": "code",
   "execution_count": null,
   "id": "89ac5cfb",
   "metadata": {},
   "outputs": [],
   "source": [
    "# 6. 파일의 내용을 한 줄단위 리스트로 저장하는 함수를 쓰세요.\n",
    "# readlines()"
   ]
  },
  {
   "cell_type": "code",
   "execution_count": null,
   "id": "b510e0e6",
   "metadata": {},
   "outputs": [],
   "source": [
    "# 7. 파일을 모드별로 연 후 리소스(메모리)를 반환 하기 위해 반드시 사용하는 함수를 적으세요.\n",
    "# close()"
   ]
  },
  {
   "cell_type": "code",
   "execution_count": null,
   "id": "2b6efac4",
   "metadata": {},
   "outputs": [],
   "source": [
    "# 8. close()없이 리소스 반환을 자동으로 해주는 구문을 적으세요.\n",
    "# with 구문  as"
   ]
  },
  {
   "cell_type": "code",
   "execution_count": null,
   "id": "d46a68a8",
   "metadata": {},
   "outputs": [],
   "source": [
    "# 9. 파일에 내용을 쓸 때 사용하는 모드를 아는대로 적으세요.\n",
    "# w, a"
   ]
  },
  {
   "cell_type": "code",
   "execution_count": null,
   "id": "b10fa919",
   "metadata": {},
   "outputs": [],
   "source": [
    "# 10. 파일을 열 때 utf8 인코딩 형식으로 열기위한 파라미터를 적으세요.\n",
    "# encoding = 'utf8'"
   ]
  },
  {
   "cell_type": "code",
   "execution_count": null,
   "id": "9e0a9f64",
   "metadata": {},
   "outputs": [],
   "source": [
    "# 11. 파일 내용을 읽어올 때 앞뒤 공백을 없애주는 함수를 적으세요.\n",
    "# strip(), lstrip(), rstrip()"
   ]
  },
  {
   "cell_type": "code",
   "execution_count": 9,
   "id": "c7ebdb70",
   "metadata": {},
   "outputs": [
    {
     "name": "stdout",
     "output_type": "stream",
     "text": [
      "[90, 80, 78, 88, 67]\n",
      "Average :  80.60\n"
     ]
    }
   ],
   "source": [
    "# 12. 다음 예시대로 프로그램을 구현 해보세요.\n",
    "'''\n",
    "다음과 같이 resource/score.txt를 만든다.\n",
    "# score.txt\n",
    "\n",
    "90\n",
    "80\n",
    "78\n",
    "88\n",
    "67\n",
    "\n",
    "위 파일의 점수를 리스트에 추가한후\n",
    "평균을 구한다.\n",
    "\n",
    "출력\n",
    "[ 90, 80, 78, 88, 67 ]\n",
    " \n",
    "Average : ***.**\n",
    "'''\n",
    "\n",
    "with open('./resource/score.txt', 'r') as f:\n",
    "    \n",
    "    score = []\n",
    "    for line in f:\n",
    "#         print(type(line))\n",
    "        score.append(int(line))\n",
    "    print(score)\n",
    "#     print(sum(score)/len(score))\n",
    "    print('Average : {:6.2f}'.format(sum(score)/len(score)))\n"
   ]
  },
  {
   "cell_type": "code",
   "execution_count": 10,
   "id": "7714d0a2",
   "metadata": {},
   "outputs": [],
   "source": [
    "# 13. 로또 번호를 랜덤하게 생성하여 파일에 저장하는 코드를 작성하여 실행하세요.\n",
    "from random import randint\n",
    "\n",
    "with open('./resource/lotto.txt', 'w') as f:\n",
    "    \n",
    "    for cnt in range(6):\n",
    "        f.write(str(randint(1, 46)))\n",
    "        f.write(' ')"
   ]
  },
  {
   "cell_type": "code",
   "execution_count": 25,
   "id": "ecfcb96e",
   "metadata": {},
   "outputs": [
    {
     "name": "stdout",
     "output_type": "stream",
     "text": [
      "22 32 43 13 8 16 "
     ]
    }
   ],
   "source": [
    "# 중복없이 로또번호 생성하기\n",
    "from random import randint\n",
    "\n",
    "with open('./resource/lotto.txt', 'a') as f:\n",
    "    num_list = []\n",
    "    for cnt in range(6):\n",
    "        n = randint(1, 46)\n",
    "        while n in num_list:\n",
    "            n = randint(1, 46)        \n",
    "        f.write(str(n))\n",
    "        f.write(' ')\n",
    "        \n",
    "        num_list.append(n)\n",
    "        print(n, end = ' ')\n",
    "    f.write('\\n') # 다음 라인에 찍기\n",
    "    "
   ]
  },
  {
   "cell_type": "code",
   "execution_count": null,
   "id": "1e72e25e",
   "metadata": {},
   "outputs": [],
   "source": [
    "# 14. 객체지향 프로그래밍을 영문3글자로 표현하세요.\n",
    "# OOP"
   ]
  },
  {
   "cell_type": "code",
   "execution_count": null,
   "id": "fa8f8e2b",
   "metadata": {},
   "outputs": [],
   "source": [
    "# 16. 객체지향 언어의 특징 중 오버라이딩과 관련 있는 것을 아는대로 쓰세요.\n",
    "############# OOP의 주요특징 ####################\n",
    "\t#1) 추상화-Abstraction\n",
    "\t#  - 어떤 물체의 특징을 부각시켜 표현하고, 나머지 부분은 과감하게 생략하는 것 \n",
    "\t#     ---> 프로그래밍에 접목\n",
    "\t#2) 은닉화-Encapsulation(캡슐화)\n",
    "\t#  - Data를 캡슐화하되 그 Data에 접근할 때 메소드로 접근 하도록 하는 것        \n",
    "\t#3) 다형성-Polymorphism\n",
    "\t#  - 하나의 객체가 여러 가지 타입을 가질 수 있는 것을 의미한다.\n",
    "\t#  - 오버라이드(재정의, override), 오버로딩\n",
    "\t#4) 상속성-Inheritance\n",
    "\t#  - 기존 클래스에 작은 기능이나 특성을 추가하여 새로운 클래스를 만드는 것을 의미\n",
    "\t#  - 부모클래스(기존클래스)의 메소드를 오버라이드하여 변경가능\n",
    "###############################################\n",
    "\n",
    "# 다형성, 상속성"
   ]
  },
  {
   "cell_type": "code",
   "execution_count": null,
   "id": "5491af1b",
   "metadata": {},
   "outputs": [],
   "source": [
    "# 17. 객체지향 프로그래밍의 4가지 핵심 특징 중 다음 문구와 관계있는 것은?\n",
    "# \" 복잡한 것은 과감히 버리고, 필요한 것만 표현 하는 것\"\n",
    "# 추상화(모델링)"
   ]
  },
  {
   "cell_type": "code",
   "execution_count": null,
   "id": "3516568e",
   "metadata": {},
   "outputs": [],
   "source": [
    "# 18. 클래스를 정의하는 키워드는?\n",
    "# class"
   ]
  },
  {
   "cell_type": "code",
   "execution_count": null,
   "id": "b16f49c7",
   "metadata": {},
   "outputs": [],
   "source": [
    "# 19. 클래스의 멤버(구성)를 아는대로 적으세요.\n",
    "# 생성자(__init__), 메소드, 속성, 소멸자"
   ]
  },
  {
   "cell_type": "code",
   "execution_count": null,
   "id": "f82a25d7",
   "metadata": {},
   "outputs": [],
   "source": [
    "# 20. attribute(속성)와 메소드(behavior(행위, 동작))를 뽑아내는 과정을 무엇이라고 하나요?\n",
    "# 추상화, 객체 모델링"
   ]
  },
  {
   "cell_type": "code",
   "execution_count": null,
   "id": "cf30255a",
   "metadata": {},
   "outputs": [],
   "source": [
    "# 21. 오버라이드(Override)를 간단하게 표현해보세요\n",
    "# 재정의"
   ]
  },
  {
   "cell_type": "code",
   "execution_count": null,
   "id": "46dc6467",
   "metadata": {},
   "outputs": [],
   "source": [
    "# 22. 클래스를 통해 만들어지는 객체를 다른 용어로 무엇이라고 하나요?\n",
    "# 인스턴스(instance) , stu = Student()"
   ]
  },
  {
   "cell_type": "code",
   "execution_count": 21,
   "id": "1c8357aa",
   "metadata": {},
   "outputs": [],
   "source": [
    "''' 문제 : 23 ~ 31 [ 예시 코드 ]\n",
    "class Person:\n",
    "    name = '아무개'\n",
    "\n",
    "    def __init__(self, name):\n",
    "        self.name = name    \n",
    "\n",
    "    def _info(self):\n",
    "        print('인스턴스 변수 : ', A)\n",
    "\n",
    "    def info():\n",
    "        print('클래스 변수 :', B)   \n",
    "'''\n",
    "\n",
    "class Person:\n",
    "    name = '아무개'\n",
    "\n",
    "    def __init__(self, name, age):\n",
    "        self.name = name\n",
    "        self.age = age\n",
    "        \n",
    "\n",
    "    def _info(self):\n",
    "        print('인스턴스 변수 : ', self.name)\n",
    "\n",
    "    def info():\n",
    "#         print('클래스 변수 :', Person.name) \n",
    "        print('클래스 변수 :', name) # 클래스변수의 접근시 클래스명은 생략할 수 있다.        "
   ]
  },
  {
   "cell_type": "code",
   "execution_count": null,
   "id": "144d195c",
   "metadata": {},
   "outputs": [],
   "source": [
    "# 23. 위의 예시 코드에서 인스턴스 변수와 클래스 변수를 구분해보세요.\n",
    "# 클래스 변수 : name\n",
    "# 인스턴스 변수 : self.name"
   ]
  },
  {
   "cell_type": "code",
   "execution_count": null,
   "id": "dcfe668e",
   "metadata": {},
   "outputs": [],
   "source": [
    "# 24. 위의 예시 코드에서 인스턴스 메소드와 클래스 메소드를 구분해보세요.\n",
    "# 클래스 메소드 : info()\n",
    "# 인스턴스 메소드 : _info()"
   ]
  },
  {
   "cell_type": "code",
   "execution_count": 25,
   "id": "67f025ae",
   "metadata": {},
   "outputs": [
    {
     "name": "stdout",
     "output_type": "stream",
     "text": [
      "홍길동\n"
     ]
    },
    {
     "data": {
      "text/plain": [
       "45"
      ]
     },
     "execution_count": 25,
     "metadata": {},
     "output_type": "execute_result"
    }
   ],
   "source": [
    "# 25. 위의 예시 코드에서 인스턴스 변수에 접근하는 코드를 작성하세요.\n",
    "# p1 = Person('홍말똥'), 인스턴스를 만든 후에\n",
    "# print(p1.name), 인스턴스명.인스턴스변수\n",
    "\n",
    "p1 = Person('홍길동', 30) # 인스턴스화, 객체화(메모리에서 사용할 수 있는 상태로 만드는 과정)\n",
    "print(p1.name) # p1.name = '홍길동'\n",
    "p1.age = 45\n",
    "p1.age"
   ]
  },
  {
   "cell_type": "code",
   "execution_count": 18,
   "id": "11400deb",
   "metadata": {},
   "outputs": [
    {
     "data": {
      "text/plain": [
       "'아무개'"
      ]
     },
     "execution_count": 18,
     "metadata": {},
     "output_type": "execute_result"
    }
   ],
   "source": [
    "# 26. 위의 예시 코드에서 클래스 변수에 접근하는 코드를 작성하세요.\n",
    "# Person.name, 클래스명.클래스변수\n",
    "\n",
    "Person.name"
   ]
  },
  {
   "cell_type": "code",
   "execution_count": null,
   "id": "4adcef14",
   "metadata": {},
   "outputs": [],
   "source": [
    "# 27. 위의 예시 코드에서 A, B에 알맞는 코드를 작성하세요.\n",
    "# A : self.name\n",
    "# B : Person.name"
   ]
  },
  {
   "cell_type": "code",
   "execution_count": null,
   "id": "7d445ec1",
   "metadata": {},
   "outputs": [],
   "source": [
    "# 28. self에 대해 간략하게 설명해 보세요.\n",
    "# self는 만들어질 인스턴스(객체)를 의미하며, \n",
    "# 인스턴스가 만들어지면 자동으로 파이썬에서 self에 전달해줌"
   ]
  },
  {
   "cell_type": "code",
   "execution_count": null,
   "id": "8930e1d7",
   "metadata": {},
   "outputs": [],
   "source": [
    "# 29. 위의 예시코드를 완성하여 인스턴스 메소드와 클래스 메소들를 호출해 보세요.\n",
    "p1 = Person('홍말똥', 25)\n",
    "print(p1.name) # 인스턴스 변수\n",
    "\n",
    "p1._info() # 인스턴스 메소드\n",
    "\n",
    "Person.info() # 클래스 메소드"
   ]
  },
  {
   "cell_type": "code",
   "execution_count": 27,
   "id": "dd2f842d",
   "metadata": {},
   "outputs": [
    {
     "name": "stdout",
     "output_type": "stream",
     "text": [
      "김말똥\n",
      "김말똥님은 열심히 공부합니다.\n"
     ]
    }
   ],
   "source": [
    "# 30. 위의 Person 클래스를 상속 받는 학생(Student) 객체를 만들어 다음과 같이 동작할 수 있도록 만들고,\n",
    "# 실행해 보세요.\n",
    "#  study 메소드를 호출 시 : \"홍길동님은 열심히 공부합니다.\" \n",
    "\n",
    "class Student(Person):\n",
    "    def study(self):\n",
    "        print(f'{self.name}님은 열심히 공부합니다.')\n",
    "\n",
    "student = Student('김말똥', 19)\n",
    "print(student.name)\n",
    "student.study()"
   ]
  },
  {
   "cell_type": "code",
   "execution_count": 28,
   "id": "5c487aba",
   "metadata": {},
   "outputs": [
    {
     "name": "stdout",
     "output_type": "stream",
     "text": [
      "홍길동님은 열심히 학생을 가르칩니다.\n"
     ]
    }
   ],
   "source": [
    "# 31. 위의 Person 클래스를 상속 받는 선생(Teacher) 객체를 다음과 같이 동작할 수 있도록 만들어 보세요.\n",
    "# teach 메소드를 호출 시 : \"홍길동님은 열심히 학생을 가르칩니다..\" \n",
    "class Teacher(Person):\n",
    "    def teach(self):\n",
    "        print(f'{self.name}님은 열심히 학생을 가르칩니다.')\n",
    "\n",
    "teacher = Teacher('홍길동', 33)        \n",
    "teacher.teach()"
   ]
  }
 ],
 "metadata": {
  "kernelspec": {
   "display_name": "Python 3 (ipykernel)",
   "language": "python",
   "name": "python3"
  },
  "language_info": {
   "codemirror_mode": {
    "name": "ipython",
    "version": 3
   },
   "file_extension": ".py",
   "mimetype": "text/x-python",
   "name": "python",
   "nbconvert_exporter": "python",
   "pygments_lexer": "ipython3",
   "version": "3.9.7"
  }
 },
 "nbformat": 4,
 "nbformat_minor": 5
}
